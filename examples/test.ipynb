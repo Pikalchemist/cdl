{
 "metadata": {
  "language_info": {
   "codemirror_mode": {
    "name": "ipython",
    "version": 3
   },
   "file_extension": ".py",
   "mimetype": "text/x-python",
   "name": "python",
   "nbconvert_exporter": "python",
   "pygments_lexer": "ipython3",
   "version": "3.7.3-final"
  },
  "orig_nbformat": 2,
  "kernelspec": {
   "name": "python_defaultSpec_1600758056775",
   "display_name": "Python 3.7.3 64-bit"
  }
 },
 "nbformat": 4,
 "nbformat_minor": 2,
 "cells": [
  {
   "cell_type": "code",
   "execution_count": 1,
   "metadata": {
    "tags": []
   },
   "outputs": [
    {
     "output_type": "execute_result",
     "data": {
      "text/plain": "'c:\\\\Data\\\\Projects\\\\phd\\\\cdl\\\\env\\\\Scripts\\\\python.exe'"
     },
     "metadata": {},
     "execution_count": 1
    }
   ],
   "source": [
    "%load_ext autoreload\n",
    "%autoreload 2\n",
    "%matplotlib widget\n",
    "\n",
    "import sys\n",
    "sys.executable"
   ]
  },
  {
   "cell_type": "code",
   "execution_count": 2,
   "metadata": {
    "tags": []
   },
   "outputs": [
    {
     "output_type": "stream",
     "name": "stdout",
     "text": "pygame 1.9.6\nHello from the pygame community. https://www.pygame.org/contribute.html\nLoading chipmunk for Windows (64bit) [c:\\Data\\Projects\\phd\\cdl\\env\\lib\\site-packages\\pymunk\\chipmunk.dll]\n2020-09-22 09:42:36 RedSky exlogger:c[1568] INFO [modular] Module 'PlaygroundEnvironment' has been started\n"
    }
   ],
   "source": [
    "from dino.environments.playground import PlaygroundEnvironment\n",
    "from exlab.interface.graph import display\n",
    "env = PlaygroundEnvironment()"
   ]
  },
  {
   "cell_type": "code",
   "execution_count": 4,
   "metadata": {},
   "outputs": [],
   "source": [
    "env.displayGui(True)"
   ]
  },
  {
   "cell_type": "code",
   "execution_count": 3,
   "metadata": {
    "tags": []
   },
   "outputs": [
    {
     "output_type": "stream",
     "name": "stderr",
     "text": "2020-09-22 09:42:36 RedSky exlogger:c[1568] INFO [modular] Module 'ModelDataset' has been started\n2020-09-22 09:42:36 RedSky exlogger:c[1568] INFO [modular] Module 'ModelDataset' has been started\n2020-09-22 09:42:36 RedSky exlogger:c[1568] INFO [modular] Module 'Agent' has been started\n2020-09-22 09:42:36 RedSky exlogger:c[1568] INFO [modular] Module 'Performer' has been started\n2020-09-22 09:42:36 RedSky exlogger:c[1568] INFO [modular] Module 'planner' has been started\n2020-09-22 09:42:36 RedSky exlogger:c[1568] INFO [modular] Module 'ModelDataset' has been attached to 'Agent'\n2020-09-22 09:42:36 RedSky exlogger:c[1568] INFO [modular] Module 'InterestModelManager' has been started\n2020-09-22 09:42:36 RedSky exlogger:c[1568] INFO [modular] Module 'Strategy autonomousStrategy' has been started\n2020-09-22 09:42:36 RedSky exlogger:c[1568] INFO [modular] Module 'Strategy autonomousStrategy' has been started\n"
    }
   ],
   "source": [
    "from cdl.agents.learners.curiosity.saggriac import SAGGLearner\n",
    "learner = SAGGLearner(env.world.findHost())"
   ]
  },
  {
   "cell_type": "code",
   "execution_count": 5,
   "metadata": {
    "tags": []
   },
   "outputs": [
    {
     "output_type": "stream",
     "name": "stderr",
     "text": "2020-09-22 09:42:40 RedSky exlogger:c[1568] INFO [model] New model added: Model(@☰#4↝🕹'#Agent.move'↕2 | @NullSpace => @☰#5↝👁'#Agent.position'↕2)\n"
    },
    {
     "output_type": "error",
     "ename": "AttributeError",
     "evalue": "'NoneType' object has no attribute 'space'",
     "traceback": [
      "\u001b[1;31m---------------------------------------------------------------------------\u001b[0m",
      "\u001b[1;31mAttributeError\u001b[0m                            Traceback (most recent call last)",
      "\u001b[1;32m<ipython-input-5-b9e02ddba703>\u001b[0m in \u001b[0;36m<module>\u001b[1;34m\u001b[0m\n\u001b[0;32m      1\u001b[0m \u001b[1;32mfrom\u001b[0m \u001b[0mcdl\u001b[0m\u001b[1;33m.\u001b[0m\u001b[0magents\u001b[0m\u001b[1;33m.\u001b[0m\u001b[0mtools\u001b[0m\u001b[1;33m.\u001b[0m\u001b[0mmodels\u001b[0m\u001b[1;33m.\u001b[0m\u001b[0minterest_model\u001b[0m \u001b[1;32mimport\u001b[0m \u001b[0mInterestModel\u001b[0m\u001b[1;33m\u001b[0m\u001b[1;33m\u001b[0m\u001b[0m\n\u001b[0;32m      2\u001b[0m \u001b[0mInterestModel\u001b[0m\u001b[1;33m(\u001b[0m\u001b[0mlearner\u001b[0m\u001b[1;33m.\u001b[0m\u001b[0mdataset\u001b[0m\u001b[1;33m,\u001b[0m \u001b[0mlearner\u001b[0m\u001b[1;33m.\u001b[0m\u001b[0mpropertySpace\u001b[0m\u001b[1;33m(\u001b[0m\u001b[1;34m'Agent.move'\u001b[0m\u001b[1;33m)\u001b[0m\u001b[1;33m,\u001b[0m \u001b[0mlearner\u001b[0m\u001b[1;33m.\u001b[0m\u001b[0mpropertySpace\u001b[0m\u001b[1;33m(\u001b[0m\u001b[1;34m'Agent.position'\u001b[0m\u001b[1;33m)\u001b[0m\u001b[1;33m)\u001b[0m\u001b[1;33m\u001b[0m\u001b[1;33m\u001b[0m\u001b[0m\n\u001b[1;32m----> 3\u001b[1;33m \u001b[0mInterestModel\u001b[0m\u001b[1;33m(\u001b[0m\u001b[0mlearner\u001b[0m\u001b[1;33m.\u001b[0m\u001b[0mdataset\u001b[0m\u001b[1;33m,\u001b[0m \u001b[0mlearner\u001b[0m\u001b[1;33m.\u001b[0m\u001b[0mpropertySpace\u001b[0m\u001b[1;33m(\u001b[0m\u001b[1;34m'Agent.move'\u001b[0m\u001b[1;33m)\u001b[0m\u001b[1;33m,\u001b[0m \u001b[0mlearner\u001b[0m\u001b[1;33m.\u001b[0m\u001b[0mpropertySpace\u001b[0m\u001b[1;33m(\u001b[0m\u001b[1;34m'#Cylinder1.position'\u001b[0m\u001b[1;33m)\u001b[0m\u001b[1;33m,\u001b[0m \u001b[0mlearner\u001b[0m\u001b[1;33m.\u001b[0m\u001b[0mpropertySpace\u001b[0m\u001b[1;33m(\u001b[0m\u001b[1;34m'#Cylinder1.positionToAgent'\u001b[0m\u001b[1;33m)\u001b[0m\u001b[1;33m)\u001b[0m\u001b[1;33m\u001b[0m\u001b[1;33m\u001b[0m\u001b[0m\n\u001b[0m",
      "\u001b[1;32mc:\\data\\projects\\phd\\dino\\dino\\agents\\agent.py\u001b[0m in \u001b[0;36mpropertySpace\u001b[1;34m(self, filter_)\u001b[0m\n\u001b[0;32m    198\u001b[0m \u001b[1;33m\u001b[0m\u001b[0m\n\u001b[0;32m    199\u001b[0m     \u001b[1;32mdef\u001b[0m \u001b[0mpropertySpace\u001b[0m\u001b[1;33m(\u001b[0m\u001b[0mself\u001b[0m\u001b[1;33m,\u001b[0m \u001b[0mfilter_\u001b[0m\u001b[1;33m=\u001b[0m\u001b[1;32mNone\u001b[0m\u001b[1;33m)\u001b[0m\u001b[1;33m:\u001b[0m\u001b[1;33m\u001b[0m\u001b[1;33m\u001b[0m\u001b[0m\n\u001b[1;32m--> 200\u001b[1;33m         \u001b[0mspace\u001b[0m \u001b[1;33m=\u001b[0m \u001b[0mself\u001b[0m\u001b[1;33m.\u001b[0m\u001b[0menvironment\u001b[0m\u001b[1;33m.\u001b[0m\u001b[0mworld\u001b[0m\u001b[1;33m.\u001b[0m\u001b[0mcascadingProperty\u001b[0m\u001b[1;33m(\u001b[0m\u001b[0mfilter_\u001b[0m\u001b[1;33m)\u001b[0m\u001b[1;33m.\u001b[0m\u001b[0mspace\u001b[0m\u001b[1;33m\u001b[0m\u001b[1;33m\u001b[0m\u001b[0m\n\u001b[0m\u001b[0;32m    201\u001b[0m         \u001b[1;32mif\u001b[0m \u001b[0mself\u001b[0m\u001b[1;33m.\u001b[0m\u001b[0mdataset\u001b[0m\u001b[1;33m:\u001b[0m\u001b[1;33m\u001b[0m\u001b[1;33m\u001b[0m\u001b[0m\n\u001b[0;32m    202\u001b[0m             \u001b[0mspace\u001b[0m \u001b[1;33m=\u001b[0m \u001b[0mspace\u001b[0m\u001b[1;33m.\u001b[0m\u001b[0mconvertTo\u001b[0m\u001b[1;33m(\u001b[0m\u001b[0mspaceManager\u001b[0m\u001b[1;33m=\u001b[0m\u001b[0mself\u001b[0m\u001b[1;33m.\u001b[0m\u001b[0mdataset\u001b[0m\u001b[1;33m)\u001b[0m\u001b[1;33m\u001b[0m\u001b[1;33m\u001b[0m\u001b[0m\n",
      "\u001b[1;31mAttributeError\u001b[0m: 'NoneType' object has no attribute 'space'"
     ]
    }
   ],
   "source": [
    "from cdl.agents.tools.models.interest_model import InterestModel\n",
    "InterestModel(learner.dataset, learner.propertySpace('Agent.move'), learner.propertySpace('Agent.position'))\n",
    "# InterestModel(learner.dataset, learner.propertySpace('Agent.move'), learner.propertySpace('#Cylinder1.position'), learner.propertySpace('#Cylinder1.positionToAgent'))"
   ]
  },
  {
   "cell_type": "code",
   "execution_count": 13,
   "metadata": {
    "tags": []
   },
   "outputs": [
    {
     "output_type": "stream",
     "name": "stderr",
     "text": "2020-09-22 09:45:48 RedSky exlogger:c[1568] INFO [model] New model added: Model(@☰#4↝🕹'#Agent.move'↕2 | @☰#9↝👁'#Agent.lidar'↕8 => @☰#5↝👁'#Agent.position'↕2)\n"
    }
   ],
   "source": [
    "mc = InterestModel(learner.dataset, learner.propertySpace('Agent.move'), learner.propertySpace('Agent.position'), learner.propertySpace('Agent.lidar'))"
   ]
  },
  {
   "cell_type": "code",
   "execution_count": 6,
   "metadata": {},
   "outputs": [],
   "source": [
    "from dino.data.contextarea import ContextSpatialization, ContextArea\n",
    "cs = ContextSpatialization(learner.dataset.models[0], learner.propertySpace('Agent.position'))"
   ]
  },
  {
   "cell_type": "code",
   "execution_count": 28,
   "metadata": {},
   "outputs": [],
   "source": [
    "cs._addArea(ContextArea(cs, cs.space.point([10, 10])))"
   ]
  },
  {
   "cell_type": "code",
   "execution_count": 35,
   "metadata": {
    "tags": []
   },
   "outputs": [
    {
     "output_type": "execute_result",
     "data": {
      "text/plain": "Area 3 centered on Data[#9↝👁'#Agent.position'↕2 @☰± 10.000,  10.000]"
     },
     "metadata": {},
     "execution_count": 35
    }
   ],
   "source": [
    "cs.findArea(cs.space.point([10, 10]))"
   ]
  },
  {
   "cell_type": "code",
   "execution_count": 6,
   "metadata": {
    "tags": []
   },
   "outputs": [
    {
     "output_type": "display_data",
     "data": {
      "text/plain": "<IPython.core.display.HTML object>",
      "text/html": "<table>\n<thead>\n<tr></tr>\n</thead>\n<tbody>\n</tbody>\n</table>"
     },
     "metadata": {}
    }
   ],
   "source": [
    "from exlab.modular.logger import Logger, logger, logging\n",
    "logger().setRecordLevel(Logger.DEBUG2, 'performer')\n",
    "logger().setDisplayLevel(Logger.DEBUG2, 'performer')\n",
    "logger().setRecordLevel(Logger.DEBUG2, 'strategy')\n",
    "logger().setDisplayLevel(Logger.DEBUG2, 'strategy')\n",
    "logger().setRecordLevel(Logger.DEBUG2, 'plan')\n",
    "logger().setDisplayLevel(Logger.DEBUG2, 'plan')\n",
    "logger().display(tag='plan')"
   ]
  },
  {
   "cell_type": "code",
   "execution_count": 9,
   "metadata": {},
   "outputs": [],
   "source": [
    "learner.train(100)"
   ]
  },
  {
   "cell_type": "code",
   "execution_count": 27,
   "metadata": {},
   "outputs": [
    {
     "output_type": "execute_result",
     "data": {
      "text/plain": "array([[0, 0, 1, 1],\n       [1, 1, 2, 2]])"
     },
     "metadata": {},
     "execution_count": 27
    }
   ],
   "source": [
    "import numpy as np\n",
    "a = np.array([[0, 1, 2, 3], [1, 2, 3, 4]])\n",
    "a[:, [0, 0, 1, 1]]"
   ]
  },
  {
   "cell_type": "code",
   "execution_count": 10,
   "metadata": {
    "tags": []
   },
   "outputs": [
    {
     "output_type": "stream",
     "name": "stderr",
     "text": "2020-09-22 09:43:25 RedSky exlogger:c[1568] INFO [interest] Splitting along dim 1: 12.4840 for Region @☰#5↝👁'#Agent.position'↕2\n    Left: None\n    <Cut 1d 12.4840 #2>\n    Right: None\n1.0\n1.0\n1.0\n1.0\n1.0\n1.0\n1.0\n2020-09-22 09:43:25 RedSky exlogger:c[1568] INFO [interest] Splitting along dim 1: -9.6697 for Region @☰#5↝👁'#Agent.position'↕2\n    Left: None\n    <Cut 1d -9.6697 #2>\n    Right: None\n1.0\n1.0\n1.0\n1.0\n1.0\n1.0\n1.02020-09-22 09:43:25 RedSky exlogger:c[1568] INFO [interest] Splitting along dim 1: -15.8714 for Region @☰#5↝👁'#Agent.position'↕2\n    Left: None\n    <Cut 1d -15.8714 #2>\n    Right: None\n\n1.0\n1.0\n1.0\n1.0\n1.0\n1.0\n1.0\n1.0\n1.0\n1.0\n1.0\n1.0\n1.0\n1.0\n1.0\n1.0\n1.0\n1.0\n1.0\n1.0\n1.0\n1.0\n1.0\n1.0\n1.0\n2020-09-22 09:43:26 RedSky exlogger:c[1568] INFO [interest] Splitting along dim 1: 49.9779 for Region @☰#5↝👁'#Agent.position'↕2\n    Left: None\n    <Cut 1d 49.9779 #2>\n    Right: None\n2020-09-22 09:43:26 RedSky exlogger:c[1568] INFO [interest] Splitting along dim 1: -21.7712 for Region @☰#5↝👁'#Agent.position'↕2\n    Left: None\n    <Cut 1d -21.7712 #2>\n    Right: None\n1.0\n1.0\n1.0\n1.0\n1.0\n1.0\n1.02020-09-22 09:43:26 RedSky exlogger:c[1568] INFO [interest] Splitting along dim 1: 25.5779 for Region @☰#5↝👁'#Agent.position'↕2\n    Left: None\n    <Cut 1d 25.5779 #2>\n    Right: None\n\n1.0\n1.0\n1.0\n1.0\n1.0\n1.0\n1.0\n1.0\n1.0\n1.0\n1.0\n1.0\n1.0\n1.0\n1.0\n1.0\n1.0\n1.0\n1.0\n1.0\n1.0\n1.0\n1.0\n1.0\n1.0\n1.0\n1.0\n1.0\n1.0\n1.0\n1.0\n1.0\n1.0\n1.0\n1.0\n1.0\n1.0\n1.0\n1.0\n1.02020-09-22 09:43:27 RedSky exlogger:c[1568] INFO [interest] Splitting along dim 1: -48.2495 for Region @☰#5↝👁'#Agent.position'↕2\n    Left: None\n    <Cut 1d -48.2495 #2>\n    Right: None\n\n1.0\n1.0\n1.0\n1.0\n1.0\n1.0\n1.0\n1.0\n1.0\n1.0\n1.0\n1.0\n2020-09-22 09:43:28 RedSky exlogger:c[1568] INFO [interest] Splitting along dim 0: -9.6215 for Region @☰#5↝👁'#Agent.position'↕2\n    Left: None\n    <Cut 0d -9.6215 #2>\n    Right: None\n1.0\n1.0\n"
    }
   ],
   "source": [
    "env.run()"
   ]
  },
  {
   "cell_type": "code",
   "execution_count": 19,
   "metadata": {},
   "outputs": [],
   "source": [
    "learner.reach(learner.propertySpace('Agent.position').point([100, 100]).setRelative(False))"
   ]
  },
  {
   "cell_type": "code",
   "execution_count": 13,
   "metadata": {},
   "outputs": [],
   "source": [
    "learner.reach(learner.propertySpace('#Cylinder1.position').point([500, 200]).setRelative(False))"
   ]
  },
  {
   "cell_type": "code",
   "execution_count": 16,
   "metadata": {},
   "outputs": [
    {
     "output_type": "execute_result",
     "data": {
      "text/plain": "Data[#6↝👁'#Agent.position'↕2 @☰± 0.000,  0.000]"
     },
     "metadata": {},
     "execution_count": 16
    }
   ],
   "source": [
    "learner.propertySpace('Agent.position').point([0, 0])"
   ]
  },
  {
   "cell_type": "code",
   "execution_count": 11,
   "metadata": {},
   "outputs": [
    {
     "output_type": "execute_result",
     "data": {
      "text/plain": "Observation[Observation[#0→👁'#Agent.position'↕2 @± 288.953,  314.021]\n    Observation[#1→👁'#Agent.positionToAgent'↕2 @± 0.000,  0.000]\n    Observation[#2→👁'#Agent.lidar'↕8 @± 100.000,  100.000,  100.000,  100.000,  76.953,  100.000,  100.000,  100.000]]"
     },
     "metadata": {},
     "execution_count": 11
    }
   ],
   "source": [
    "env.world.observe()"
   ]
  },
  {
   "cell_type": "code",
   "execution_count": null,
   "metadata": {},
   "outputs": [],
   "source": []
  },
  {
   "cell_type": "code",
   "execution_count": 11,
   "metadata": {},
   "outputs": [
    {
     "output_type": "execute_result",
     "data": {
      "text/plain": "200"
     },
     "metadata": {},
     "execution_count": 11
    }
   ],
   "source": [
    "env.iteration"
   ]
  },
  {
   "cell_type": "code",
   "execution_count": 18,
   "metadata": {},
   "outputs": [
    {
     "output_type": "execute_result",
     "data": {
      "text/plain": "3"
     },
     "metadata": {},
     "execution_count": 18
    }
   ],
   "source": [
    "learner.iteration"
   ]
  },
  {
   "cell_type": "code",
   "execution_count": 69,
   "metadata": {},
   "outputs": [
    {
     "output_type": "execute_result",
     "data": {
      "text/plain": "512"
     },
     "metadata": {},
     "execution_count": 69
    }
   ],
   "source": [
    "learner.dataset.spaces[0].number"
   ]
  },
  {
   "cell_type": "code",
   "execution_count": 70,
   "metadata": {},
   "outputs": [
    {
     "output_type": "execute_result",
     "data": {
      "text/plain": "array([[ 0.32286985, -0.19646247],\n       [ 0.37222594,  0.07765963],\n       [ 0.2425151 , -0.68859405],\n       ...,\n       [ 0.        ,  0.        ],\n       [ 0.        ,  0.        ],\n       [ 0.        ,  0.        ]])"
     },
     "metadata": {},
     "execution_count": 70
    }
   ],
   "source": [
    "learner.dataset.spaces[0].data"
   ]
  },
  {
   "cell_type": "code",
   "execution_count": 20,
   "metadata": {},
   "outputs": [
    {
     "output_type": "execute_result",
     "data": {
      "text/plain": "11"
     },
     "metadata": {},
     "execution_count": 20
    }
   ],
   "source": [
    "env.iteration"
   ]
  },
  {
   "cell_type": "code",
   "execution_count": 20,
   "metadata": {},
   "outputs": [
    {
     "output_type": "execute_result",
     "data": {
      "text/plain": "0.9138907351543939"
     },
     "metadata": {},
     "execution_count": 20
    }
   ],
   "source": [
    "learner.dataset.models[0].competence()"
   ]
  },
  {
   "cell_type": "code",
   "execution_count": 24,
   "metadata": {},
   "outputs": [
    {
     "output_type": "execute_result",
     "data": {
      "text/plain": "0.9955121291676509"
     },
     "metadata": {},
     "execution_count": 24
    }
   ],
   "source": [
    "mc.competence()"
   ]
  },
  {
   "cell_type": "code",
   "execution_count": 9,
   "metadata": {
    "tags": []
   },
   "outputs": [
    {
     "output_type": "display_data",
     "data": {
      "text/plain": "Canvas(toolbar=Toolbar(toolitems=[('Home', 'Reset original view', 'home', 'home'), ('Back', 'Back to previous …",
      "application/vnd.jupyter.widget-view+json": {
       "version_major": 2,
       "version_minor": 0,
       "model_id": "fece65bc895d423394c6c5e5cebfda93"
      }
     },
     "metadata": {}
    }
   ],
   "source": [
    "display(learner.propertySpace('Agent.move').visualizeData(), learner.propertySpace('Agent.position').visualizeData())"
   ]
  },
  {
   "cell_type": "code",
   "execution_count": 10,
   "metadata": {},
   "outputs": [
    {
     "output_type": "display_data",
     "data": {
      "text/plain": "Canvas(toolbar=Toolbar(toolitems=[('Home', 'Reset original view', 'home', 'home'), ('Back', 'Back to previous …",
      "application/vnd.jupyter.widget-view+json": {
       "version_major": 2,
       "version_minor": 0,
       "model_id": "7f3639fc8733437596799cfa4bc46f73"
      }
     },
     "metadata": {}
    }
   ],
   "source": [
    "display(learner.propertySpace('Agent.move').visualizeData(), learner.propertySpace('#Cylinder1.position').visualizeData())"
   ]
  },
  {
   "cell_type": "code",
   "execution_count": 21,
   "metadata": {},
   "outputs": [
    {
     "output_type": "execute_result",
     "data": {
      "text/plain": "@☰#14↝👁'#Cylinder1.position'↕2"
     },
     "metadata": {},
     "execution_count": 21
    }
   ],
   "source": [
    "learner.propertySpace('#Cylinder1.position')"
   ]
  },
  {
   "cell_type": "code",
   "execution_count": 26,
   "metadata": {},
   "outputs": [
    {
     "output_type": "display_data",
     "data": {
      "text/plain": "Canvas(toolbar=Toolbar(toolitems=[('Home', 'Reset original view', 'home', 'home'), ('Back', 'Back to previous …",
      "application/vnd.jupyter.widget-view+json": {
       "version_major": 2,
       "version_minor": 0,
       "model_id": "b91d10917d414ca4924fbc7a23045489"
      }
     },
     "metadata": {}
    }
   ],
   "source": [
    "im = list(learner.dataset.models[0].interestMaps.values())[0]\n",
    "display(im.visualizeData())"
   ]
  },
  {
   "cell_type": "code",
   "execution_count": 11,
   "metadata": {},
   "outputs": [
    {
     "output_type": "execute_result",
     "data": {
      "text/plain": "Region @☰#6↝👁'#Agent.position'↕2\n    Left: Region @☰#6↝👁'#Agent.position'↕2\n        Left: None\n        <Cut Noned 0.0000 #2>\n        Right: None\n    <Cut 0d -12.0612 #2>\n    Right: Region @☰#6↝👁'#Agent.position'↕2\n        Left: Region @☰#6↝👁'#Agent.position'↕2\n            Left: None\n            <Cut Noned 0.0000 #2>\n            Right: None\n        <Cut 0d -9.9797 #2>\n        Right: Region @☰#6↝👁'#Agent.position'↕2\n            Left: Region @☰#6↝👁'#Agent.position'↕2\n                Left: Region @☰#6↝👁'#Agent.position'↕2\n                    Left: None\n                    <Cut Noned 0.0000 #2>\n                    Right: None\n                <Cut 1d -19.2330 #2>\n                Right: Region @☰#6↝👁'#Agent.position'↕2\n                    Left: None\n                    <Cut Noned 0.0000 #2>\n                    Right: None\n            <Cut 0d 13.9845 #2>\n            Right: Region @☰#6↝👁'#Agent.position'↕2\n                Left: None\n                <Cut Noned 0.0000 #2>\n                Right: None"
     },
     "metadata": {},
     "execution_count": 11
    }
   ],
   "source": [
    "im"
   ]
  }
 ]
}