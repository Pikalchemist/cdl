{
 "metadata": {
  "language_info": {
   "codemirror_mode": {
    "name": "ipython",
    "version": 3
   },
   "file_extension": ".py",
   "mimetype": "text/x-python",
   "name": "python",
   "nbconvert_exporter": "python",
   "pygments_lexer": "ipython3",
   "version": "3.8.3-final"
  },
  "orig_nbformat": 2,
  "kernelspec": {
   "name": "Python 3.8.3 64-bit ('env')",
   "display_name": "Python 3.8.3 64-bit ('env')",
   "metadata": {
    "interpreter": {
     "hash": "28e765281bcf9ae015ef25da116cf546eb1738f420d6c46d8e33d5419d354008"
    }
   }
  }
 },
 "nbformat": 4,
 "nbformat_minor": 2,
 "cells": [
  {
   "cell_type": "code",
   "execution_count": 1,
   "metadata": {
    "tags": []
   },
   "outputs": [
    {
     "output_type": "execute_result",
     "data": {
      "text/plain": "&#39;c:\\\\Data\\\\Projects\\\\phd\\\\cdl\\\\env\\\\Scripts\\\\python.exe&#39;"
     },
     "metadata": {},
     "execution_count": 1
    }
   ],
   "source": [
    "%load_ext autoreload\n",
    "%autoreload 2\n",
    "# %matplotlib widget\n",
    "%matplotlib inline\n",
    "\n",
    "import sys\n",
    "sys.executable"
   ]
  },
  {
   "cell_type": "code",
   "execution_count": 2,
   "metadata": {
    "tags": []
   },
   "outputs": [
    {
     "output_type": "stream",
     "name": "stdout",
     "text": "pygame 1.9.6\nHello from the pygame community. https://www.pygame.org/contribute.html\nLoading chipmunk for Windows (64bit) [c:\\Data\\Projects\\phd\\cdl\\env\\lib\\site-packages\\pymunk\\chipmunk.dll]\n2020-10-01 11:58:57 RedSky exlogger:c[3500] INFO [modular] Module &#39;PlaygroundEnvironment&#39; has been started\n"
    }
   ],
   "source": [
    "from dino.environments.playground import PlaygroundEnvironment\n",
    "from exlab.interface.graph import display\n",
    "from dino.utils.move import MoveConfig\n",
    "env = PlaygroundEnvironment()\n",
    "env.threading = False"
   ]
  },
  {
   "cell_type": "code",
   "execution_count": 3,
   "metadata": {},
   "outputs": [
    {
     "output_type": "execute_result",
     "data": {
      "text/plain": "&lt;PIL.Image.Image image mode=RGBA size=300x300 at 0x1DCC0A941F0&gt;",
      "image/png": "[encoded data removed]"
     },
     "metadata": {},
     "execution_count": 3
    }
   ],
   "source": [
    "env.displayGui(True)\n",
    "env.image()"
   ]
  },
  {
   "cell_type": "code",
   "execution_count": 4,
   "metadata": {
    "tags": []
   },
   "outputs": [
    {
     "output_type": "stream",
     "name": "stderr",
     "text": "2020-10-01 11:58:58 RedSky exlogger:c[3500] INFO [modular] Module &#39;ModelDataset&#39; has been started\n2020-10-01 11:58:58 RedSky exlogger:c[3500] INFO [modular] Module &#39;ModelDataset&#39; has been started\n2020-10-01 11:58:58 RedSky exlogger:c[3500] INFO [modular] Module &#39;Agent&#39; has been started\n2020-10-01 11:58:58 RedSky exlogger:c[3500] INFO [modular] Module &#39;Performer&#39; has been started\n2020-10-01 11:58:58 RedSky exlogger:c[3500] INFO [modular] Module &#39;planner&#39; has been started\n2020-10-01 11:58:58 RedSky exlogger:c[3500] INFO [modular] Module &#39;ModelDataset&#39; has been attached to &#39;Agent&#39;\n2020-10-01 11:58:58 RedSky exlogger:c[3500] INFO [modular] Module &#39;InterestModelManager&#39; has been started\n2020-10-01 11:58:58 RedSky exlogger:c[3500] INFO [modular] Module &#39;Strategy autonomousStrategy&#39; has been started\n2020-10-01 11:58:58 RedSky exlogger:c[3500] INFO [modular] Module &#39;Strategy autonomousStrategy&#39; has been started\n"
    }
   ],
   "source": [
    "from cdl.agents.learners.curiosity.saggriac import SAGGLearner\n",
    "learner = SAGGLearner(env.world.findHost())"
   ]
  },
  {
   "cell_type": "code",
   "execution_count": 5,
   "metadata": {
    "tags": []
   },
   "outputs": [],
   "source": [
    "from cdl.agents.tools.models.interest_model import InterestModel\n",
    "# mnc = InterestModel(learner.dataset, learner.propertySpace('Agent.move'), learner.propertySpace('Agent.position'))\n",
    "# mrp = InterestModel(learner.dataset, learner.propertySpace('Agent.move'), learner.propertySpace('#Cylinder1.positionToAgent'))\n",
    "# mrp = InterestModel(learner.dataset, learner.propertySpace('Agent.move'), learner.propertySpace('#Cylinder1.positionToAgent'), learner.propertySpace('#Cylinder1.positionToAgent'))\n",
    "# mo = InterestModel(learner.dataset, learner.propertySpace('Agent.move'), learner.propertySpace('#Cylinder1.position'), learner.propertySpace('#Cylinder1.positionToAgent'))"
   ]
  },
  {
   "cell_type": "code",
   "execution_count": 6,
   "metadata": {
    "tags": []
   },
   "outputs": [],
   "source": [
    "# mc = InterestModel(learner.dataset, learner.propertySpace('Agent.move'), learner.propertySpace('Agent.position'), learner.propertySpace('Agent.lidar'))\n",
    "# mrpp = InterestModel(learner.dataset, learner.propertySpace('Agent.position'), learner.propertySpace('#Cylinder1.positionToAgent'), learner.propertySpace('#Cylinder1.positionToAgent'))\n",
    "# mop = InterestModel(learner.dataset, learner.propertySpace('Agent.position'), learner.propertySpace('#Cylinder1.position'), learner.propertySpace('#Cylinder1.positionToAgent'))"
   ]
  },
  {
   "cell_type": "code",
   "execution_count": 7,
   "metadata": {},
   "outputs": [],
   "source": [
    "from exlab.modular.logger import Logger, logger, logging\n",
    "# logger().setRecordLevel(Logger.DEBUG2, 'performer')\n",
    "# logger().setDisplayLevel(Logger.DEBUG2, 'performer')\n",
    "# logger().setRecordLevel(logging.DEBUG, 'strategy')\n",
    "# logger().setDisplayLevel(logging.DEBUG, 'strategy')\n",
    "# logger().setRecordLevel(Logger.DEBUG2, 'plan')\n",
    "# logger().setDisplayLevel(Logger.DEBUG2, 'plan')\n",
    "# logger().display(tag='plan')"
   ]
  },
  {
   "cell_type": "code",
   "execution_count": 8,
   "metadata": {},
   "outputs": [],
   "source": [
    "competences = {}"
   ]
  },
  {
   "cell_type": "code",
   "execution_count": 9,
   "metadata": {
    "tags": []
   },
   "outputs": [
    {
     "output_type": "stream",
     "name": "stderr",
     "text": "2020-10-01 11:58:59 RedSky exlogger:c[3500] INFO [modular] Module &#39;AdaptiveModelManager&#39; has been started\n******************************\n--------\nACTIONS: {@☰#17↝🕹&#39;#Agent.move&#39;↕2} []\n2020-10-01 11:59:01 RedSky exlogger:c[3500] INFO [adaptation] Adding ModelInterestModel(@☰#17↝🕹&#39;#Agent.move&#39;↕2 | @NullSpace =&gt; @☰#9↝👁&#39;#Agent.position&#39;↕2) (with score 1.019997392256534)\n2020-10-01 11:59:01 RedSky exlogger:c[3500] INFO [model] New model added: ModelInterestModel(@☰#17↝🕹&#39;#Agent.move&#39;↕2 | @NullSpace =&gt; @☰#9↝👁&#39;#Agent.position&#39;↕2)\n2020-10-01 11:59:01 RedSky exlogger:c[3500] INFO [adaptation] Adding ModelInterestModel(@☰#17↝🕹&#39;#Agent.move&#39;↕2 | @☰#28↝👁&#39;#Agent.lidar&#39;:PRE↕8 =&gt; @☰#13↝👁&#39;#Cylinder1.positionToAgent&#39;↕2) (with score 0.8612915874660171)\n2020-10-01 11:59:01 RedSky exlogger:c[3500] INFO [model] New model added: ModelInterestModel(@☰#17↝🕹&#39;#Agent.move&#39;↕2 | @☰#28↝👁&#39;#Agent.lidar&#39;:PRE↕8 =&gt; @☰#13↝👁&#39;#Cylinder1.positionToAgent&#39;↕2)\n2020-10-01 11:59:01 RedSky exlogger:c[3500] INFO [adaptation] Adding ModelInterestModel(@☰#17↝🕹&#39;#Agent.move&#39;↕2 | @☰#28↝👁&#39;#Agent.lidar&#39;:PRE↕8 =&gt; @☰#12↝👁&#39;#Cylinder1.position&#39;↕2) (with score 0.46001115622648414)\n2020-10-01 11:59:01 RedSky exlogger:c[3500] INFO [model] New model added: ModelInterestModel(@☰#17↝🕹&#39;#Agent.move&#39;↕2 | @☰#28↝👁&#39;#Agent.lidar&#39;:PRE↕8 =&gt; @☰#12↝👁&#39;#Cylinder1.position&#39;↕2)\n/////////\n[@☰#28↝👁&#39;#Agent.lidar&#39;:PRE↕8, @☰#29↝👁&#39;#Cylinder1.position&#39;:PRE↕2, @☰#26↝👁&#39;#Agent.position&#39;:PRE↕2, @☰#30↝👁&#39;#Cylinder1.positionToAgent&#39;:PRE↕2, @☰#31↝👁&#39;#Cylinder2.position&#39;:PRE↕2, @☰#32↝👁&#39;#Cylinder2.positionToAgent&#39;:PRE↕2] [1.0, 1.0, 1.0, 1.0, 1.0, 1.0]\n@@@@ Attempt ModelInterestModel(@☰#17↝🕹&#39;#Agent.move&#39;↕2 | @NullSpace =&gt; @☰#9↝👁&#39;#Agent.position&#39;↕2) -&gt; ModelInterestModel(@☰#17↝🕹&#39;#Agent.move&#39;↕2 | @☰#26↝👁&#39;#Agent.position&#39;:PRE↕2 =&gt; @☰#9↝👁&#39;#Agent.position&#39;↕2)\n@@@@ =&gt; 0.9999973542349496 0.999997392256534\n@@@@ =&gt; 0.9999973542349496 0.999997392256534\n/////////\n[@☰#28↝👁&#39;#Agent.lidar&#39;:PRE↕8, @☰#29↝👁&#39;#Cylinder1.position&#39;:PRE↕2, @☰#26↝👁&#39;#Agent.position&#39;:PRE↕2, @☰#30↝👁&#39;#Cylinder1.positionToAgent&#39;:PRE↕2, @☰#31↝👁&#39;#Cylinder2.position&#39;:PRE↕2, @☰#32↝👁&#39;#Cylinder2.positionToAgent&#39;:PRE↕2] [1.0, 1.0, 0.6065306597126334, 1.0, 1.0, 1.0]\n@@@@ Attempt ModelInterestModel(@☰#17↝🕹&#39;#Agent.move&#39;↕2 | @NullSpace =&gt; @☰#9↝👁&#39;#Agent.position&#39;↕2) -&gt; ModelInterestModel(@☰#17↝🕹&#39;#Agent.move&#39;↕2 | @☰#26↝👁&#39;#Agent.position&#39;:PRE↕2 =&gt; @☰#9↝👁&#39;#Agent.position&#39;↕2)\n@@@@ =&gt; 0.9999973542349496 0.999997392256534\n@@@@ =&gt; 0.9999973542349496 0.999997392256534\n/////////\n[@☰#28↝👁&#39;#Agent.lidar&#39;:PRE↕8, @☰#29↝👁&#39;#Cylinder1.position&#39;:PRE↕2, @☰#26↝👁&#39;#Agent.position&#39;:PRE↕2, @☰#30↝👁&#39;#Cylinder1.positionToAgent&#39;:PRE↕2, @☰#31↝👁&#39;#Cylinder2.position&#39;:PRE↕2, @☰#32↝👁&#39;#Cylinder2.positionToAgent&#39;:PRE↕2] [1.0, 1.0, 0.36787944117144233, 1.0, 1.0, 1.0]\n@@@@ Attempt ModelInterestModel(@☰#17↝🕹&#39;#Agent.move&#39;↕2 | @NullSpace =&gt; @☰#9↝👁&#39;#Agent.position&#39;↕2) -&gt; ModelInterestModel(@☰#17↝🕹&#39;#Agent.move&#39;↕2 | @☰#30↝👁&#39;#Cylinder1.positionToAgent&#39;:PRE↕2 =&gt; @☰#9↝👁&#39;#Agent.position&#39;↕2)\n@@@@ =&gt; 0.9999955629076831 0.999997392256534\n@@@@ =&gt; 0.9999955629076831 0.999997392256534\n/////////\n[@☰#29↝👁&#39;#Cylinder1.position&#39;:PRE↕2, @☰#26↝👁&#39;#Agent.position&#39;:PRE↕2, @☰#30↝👁&#39;#Cylinder1.positionToAgent&#39;:PRE↕2, @☰#31↝👁&#39;#Cylinder2.position&#39;:PRE↕2, @☰#32↝👁&#39;#Cylinder2.positionToAgent&#39;:PRE↕2] [1.0, 1.0, 1.0, 1.0, 1.0]\n@@@@ Attempt ModelInterestModel(@☰#17↝🕹&#39;#Agent.move&#39;↕2 | @☰#28↝👁&#39;#Agent.lidar&#39;:PRE↕8 =&gt; @☰#13↝👁&#39;#Cylinder1.positionToAgent&#39;↕2) -&gt; ModelInterestModel(@☰#17↝🕹&#39;#Agent.move&#39;↕2 | @☰∥#54⇉👁[↝👁&#39;#Cylinder2.positionToAgent&#39; ↝👁&#39;#Agent.lidar&#39;]↕10 =&gt; @☰#13↝👁&#39;#Cylinder1.positionToAgent&#39;↕2)\n2020-10-01 11:59:01 RedSky exlogger:c[3500] INFO [model] Model removed: ModelInterestModel(@☰#17↝🕹&#39;#Agent.move&#39;↕2 | @☰#28↝👁&#39;#Agent.lidar&#39;:PRE↕8 =&gt; @☰#13↝👁&#39;#Cylinder1.positionToAgent&#39;↕2)\n2020-10-01 11:59:01 RedSky exlogger:c[3500] INFO [model] New model added: ModelInterestModel(@☰#17↝🕹&#39;#Agent.move&#39;↕2 | @☰#31↝👁&#39;#Cylinder2.position&#39;:PRE↕2 =&gt; @☰#13↝👁&#39;#Cylinder1.positionToAgent&#39;↕2)\n2020-10-01 11:59:01 RedSky exlogger:c[3500] INFO [adaptation] Modified ModelInterestModel(@☰#17↝🕹&#39;#Agent.move&#39;↕2 | @☰#28↝👁&#39;#Agent.lidar&#39;:PRE↕8 =&gt; @☰#13↝👁&#39;#Cylinder1.positionToAgent&#39;↕2) into ModelInterestModel(@☰#17↝🕹&#39;#Agent.move&#39;↕2 | @☰#31↝👁&#39;#Cylinder2.position&#39;:PRE↕2 =&gt; @☰#13↝👁&#39;#Cylinder1.positionToAgent&#39;↕2) (for a gain of 0.08574350899054783)\n@@@@ =&gt; 0.00033210800162348673 0.8034943236733569\n/////////\n[@☰#29↝👁&#39;#Cylinder1.position&#39;:PRE↕2, @☰#26↝👁&#39;#Agent.position&#39;:PRE↕2, @☰#30↝👁&#39;#Cylinder1.positionToAgent&#39;:PRE↕2, @☰#31↝👁&#39;#Cylinder2.position&#39;:PRE↕2, @☰#32↝👁&#39;#Cylinder2.positionToAgent&#39;:PRE↕2] [1.0, 1.0, 1.0, 1.0, 1.0]\n@@@@ Attempt ModelInterestModel(@☰#17↝🕹&#39;#Agent.move&#39;↕2 | @☰#28↝👁&#39;#Agent.lidar&#39;:PRE↕8 =&gt; @☰#13↝👁&#39;#Cylinder1.positionToAgent&#39;↕2) -&gt; ModelInterestModel(@☰#17↝🕹&#39;#Agent.move&#39;↕2 | @☰#31↝👁&#39;#Cylinder2.position&#39;:PRE↕2 =&gt; @☰#13↝👁&#39;#Cylinder1.positionToAgent&#39;↕2)\n@@@@ =&gt; 0.8892378326639048 0.8034943236733569\n@@@@ =&gt; 0.8892378326639048 0.8034943236733569\n/////////\n[@☰#29↝👁&#39;#Cylinder1.position&#39;:PRE↕2, @☰#26↝👁&#39;#Agent.position&#39;:PRE↕2, @☰#30↝👁&#39;#Cylinder1.positionToAgent&#39;:PRE↕2, @☰#31↝👁&#39;#Cylinder2.position&#39;:PRE↕2, @☰#32↝👁&#39;#Cylinder2.positionToAgent&#39;:PRE↕2] [1.0, 1.0, 1.0, 1.0, 1.0]\n@@@@ Attempt ModelInterestModel(@☰#17↝🕹&#39;#Agent.move&#39;↕2 | @☰#28↝👁&#39;#Agent.lidar&#39;:PRE↕8 =&gt; @☰#12↝👁&#39;#Cylinder1.position&#39;↕2) -&gt; ModelInterestModel(@☰#17↝🕹&#39;#Agent.move&#39;↕2 | @☰#29↝👁&#39;#Cylinder1.position&#39;:PRE↕2 =&gt; @☰#12↝👁&#39;#Cylinder1.position&#39;↕2)\n@@@@ =&gt; 0.00033210800162348673 0.09114512233707414\n@@@@ =&gt; 0.00033210800162348673 0.09114512233707414\n/////////\n[@☰#29↝👁&#39;#Cylinder1.position&#39;:PRE↕2, @☰#26↝👁&#39;#Agent.position&#39;:PRE↕2, @☰#30↝👁&#39;#Cylinder1.positionToAgent&#39;:PRE↕2, @☰#31↝👁&#39;#Cylinder2.position&#39;:PRE↕2, @☰#32↝👁&#39;#Cylinder2.positionToAgent&#39;:PRE↕2] [0.6065306597126334, 1.0, 1.0, 1.0, 1.0]\n@@@@ Attempt ModelInterestModel(@☰#17↝🕹&#39;#Agent.move&#39;↕2 | @☰#28↝👁&#39;#Agent.lidar&#39;:PRE↕8 =&gt; @☰#12↝👁&#39;#Cylinder1.position&#39;↕2) -&gt; ModelInterestModel(@☰#17↝🕹&#39;#Agent.move&#39;↕2 | @☰#32↝👁&#39;#Cylinder2.positionToAgent&#39;:PRE↕2 =&gt; @☰#12↝👁&#39;#Cylinder1.position&#39;↕2)\n@@@@ =&gt; 0.00397082014216337 0.09114512233707414\n@@@@ =&gt; 0.003970820142163361 0.09114512233707414\n2020-10-01 11:59:02 RedSky exlogger:c[3500] INFO [interest] Creating interestMap for model ModelInterestModel(@☰#17↝🕹&#39;#Agent.move&#39;↕2 | @NullSpace =&gt; @☰#9↝👁&#39;#Agent.position&#39;↕2), strategy Strategy autonomousStrategy\n2020-10-01 11:59:02 RedSky exlogger:c[3500] INFO [interest] Creating interestMap for model ModelInterestModel(@☰#17↝🕹&#39;#Agent.move&#39;↕2 | @☰#31↝👁&#39;#Cylinder2.position&#39;:PRE↕2 =&gt; @☰#13↝👁&#39;#Cylinder1.positionToAgent&#39;↕2), strategy Strategy autonomousStrategy\n/////////\n[@☰#29↝👁&#39;#Cylinder1.position&#39;:PRE↕2, @☰#26↝👁&#39;#Agent.position&#39;:PRE↕2, @☰#30↝👁&#39;#Cylinder1.positionToAgent&#39;:PRE↕2, @☰#31↝👁&#39;#Cylinder2.position&#39;:PRE↕2, @☰#32↝👁&#39;#Cylinder2.positionToAgent&#39;:PRE↕2] [0.6065306597126334, 1.0, 1.0, 1.0, 0.6065306597126334]\n@@@@ Attempt ModelInterestModel(@☰#17↝🕹&#39;#Agent.move&#39;↕2 | @☰#28↝👁&#39;#Agent.lidar&#39;:PRE↕8 =&gt; @☰#12↝👁&#39;#Cylinder1.position&#39;↕2) -&gt; ModelInterestModel(@☰#17↝🕹&#39;#Agent.move&#39;↕2 | @☰#31↝👁&#39;#Cylinder2.position&#39;:PRE↕2 =&gt; @☰#12↝👁&#39;#Cylinder1.position&#39;↕2)\n@@@@ =&gt; 0.057884598450656244 0.09114512233707414\n@@@@ =&gt; 0.057884598450656244 0.09114512233707414\n2020-10-01 11:59:02 RedSky exlogger:c[3500] INFO [interest] Creating interestMap for model ModelInterestModel(@☰#17↝🕹&#39;#Agent.move&#39;↕2 | @☰#28↝👁&#39;#Agent.lidar&#39;:PRE↕8 =&gt; @☰#12↝👁&#39;#Cylinder1.position&#39;↕2), strategy Strategy autonomousStrategy\n2020-10-01 11:59:02 RedSky exlogger:c[3500] WARNING [strategy] Planning failed for goal Data[#12↝👁&#39;#Cylinder1.position&#39;↕2 @☰± 2.426, -17.876], switching to random\n2020-10-01 11:59:03 RedSky exlogger:c[3500] WARNING [strategy] Planning failed for goal Data[#12↝👁&#39;#Cylinder1.position&#39;↕2 @☰± 1.053, -12.840], switching to random\n2020-10-01 11:59:04 RedSky exlogger:c[3500] WARNING [strategy] Planning failed for goal Data[#12↝👁&#39;#Cylinder1.position&#39;↕2 @☰± 1.982, -7.950], switching to random\n2020-10-01 11:59:04 RedSky exlogger:c[3500] WARNING [strategy] Planning failed for goal Data[#12↝👁&#39;#Cylinder1.position&#39;↕2 @☰± 1.067, -15.330], switching to random\n2020-10-01 11:59:05 RedSky exlogger:c[3500] INFO [performer] Iter 0: max derive exceeded (6.776456362326566 &gt; 2.71184140526327) trying to reach Data[#12↝👁&#39;#Cylinder1.position&#39;↕2 @☰± 0.000,  0.000] by doing Data[#17↝🕹&#39;#Agent.move&#39;↕2 @☰± 0.959, -0.583]\n2020-10-01 11:59:05 RedSky exlogger:c[3500] INFO [performer] Replanning...\n2020-10-01 11:59:05 RedSky exlogger:c[3500] INFO [performer] Iter 0: max derive exceeded (6.776456362326566 &gt; 2.71184140526327) trying to reach Data[#12↝👁&#39;#Cylinder1.position&#39;↕2 @☰± 0.000,  0.000] by doing Data[#17↝🕹&#39;#Agent.move&#39;↕2 @☰± 0.959, -0.583]\n2020-10-01 11:59:05 RedSky exlogger:c[3500] INFO [performer] Replanning...\n2020-10-01 11:59:05 RedSky exlogger:c[3500] INFO [performer] Iter 0: max derive exceeded (6.776456362326566 &gt; 2.71184140526327) trying to reach Data[#12↝👁&#39;#Cylinder1.position&#39;↕2 @☰± 0.000,  0.000] by doing Data[#17↝🕹&#39;#Agent.move&#39;↕2 @☰± 0.959, -0.583]\n2020-10-01 11:59:05 RedSky exlogger:c[3500] WARNING [performer] No replanning left!\n2020-10-01 11:59:06 RedSky exlogger:c[3500] INFO [performer] Iter 1: max derive exceeded (6.776457568178634 &gt; 2.71184140526327) trying to reach Data[#12↝👁&#39;#Cylinder1.position&#39;↕2 @☰± 0.000,  0.000] by doing Data[#17↝🕹&#39;#Agent.move&#39;↕2 @☰± 0.821,  0.196]\n2020-10-01 11:59:06 RedSky exlogger:c[3500] WARNING [performer] No replanning left!\n2020-10-01 11:59:06 RedSky exlogger:c[3500] INFO [performer] Iter 2: max derive exceeded (6.776458774048618 &gt; 2.71184140526327) trying to reach Data[#12↝👁&#39;#Cylinder1.position&#39;↕2 @☰± 0.000,  0.000] by doing Data[#17↝🕹&#39;#Agent.move&#39;↕2 @☰± 0.821,  0.196]\n2020-10-01 11:59:06 RedSky exlogger:c[3500] WARNING [performer] No replanning left!\n2020-10-01 11:59:06 RedSky exlogger:c[3500] INFO [performer] Iter 3: max derive exceeded (6.7764599799365195 &gt; 2.71184140526327) trying to reach Data[#12↝👁&#39;#Cylinder1.position&#39;↕2 @☰± 0.000,  0.000] by doing Data[#17↝🕹&#39;#Agent.move&#39;↕2 @☰± 0.821,  0.196]\n2020-10-01 11:59:06 RedSky exlogger:c[3500] WARNING [performer] No replanning left!\n2020-10-01 11:59:06 RedSky exlogger:c[3500] INFO [performer] Iter 4: max derive exceeded (6.776461185842399 &gt; 2.71184140526327) trying to reach Data[#12↝👁&#39;#Cylinder1.position&#39;↕2 @☰± 0.000,  0.000] by doing Data[#17↝🕹&#39;#Agent.move&#39;↕2 @☰± 0.821,  0.196]\n2020-10-01 11:59:06 RedSky exlogger:c[3500] WARNING [performer] No replanning left!\n2020-10-01 11:59:06 RedSky exlogger:c[3500] INFO [performer] Iter 5: max derive exceeded (6.776462391766137 &gt; 2.71184140526327) trying to reach Data[#12↝👁&#39;#Cylinder1.position&#39;↕2 @☰± 0.000,  0.000] by doing Data[#17↝🕹&#39;#Agent.move&#39;↕2 @☰± 0.821,  0.196]\n2020-10-01 11:59:06 RedSky exlogger:c[3500] WARNING [performer] No replanning left!\n2020-10-01 11:59:06 RedSky exlogger:c[3500] INFO [performer] Iter 6: max derive exceeded (6.776463597707798 &gt; 2.71184140526327) trying to reach Data[#12↝👁&#39;#Cylinder1.position&#39;↕2 @☰± 0.000,  0.000] by doing Data[#17↝🕹&#39;#Agent.move&#39;↕2 @☰± 0.821,  0.196]\n2020-10-01 11:59:06 RedSky exlogger:c[3500] WARNING [performer] No replanning left!\n2020-10-01 11:59:06 RedSky exlogger:c[3500] INFO [performer] Iter 7: max derive exceeded (6.7764648036673725 &gt; 2.71184140526327) trying to reach Data[#12↝👁&#39;#Cylinder1.position&#39;↕2 @☰± 0.000,  0.000] by doing Data[#17↝🕹&#39;#Agent.move&#39;↕2 @☰± 0.821,  0.196]\n2020-10-01 11:59:06 RedSky exlogger:c[3500] WARNING [performer] No replanning left!\n2020-10-01 11:59:06 RedSky exlogger:c[3500] INFO [performer] Iter 8: max derive exceeded (6.776466009644923 &gt; 2.71184140526327) trying to reach Data[#12↝👁&#39;#Cylinder1.position&#39;↕2 @☰± 0.000,  0.000] by doing Data[#17↝🕹&#39;#Agent.move&#39;↕2 @☰± 0.821,  0.196]\n2020-10-01 11:59:06 RedSky exlogger:c[3500] WARNING [performer] No replanning left!\n2020-10-01 11:59:06 RedSky exlogger:c[3500] INFO [performer] Iter 9: max derive exceeded (6.776467215640338 &gt; 2.71184140526327) trying to reach Data[#12↝👁&#39;#Cylinder1.position&#39;↕2 @☰± 0.000,  0.000] by doing Data[#17↝🕹&#39;#Agent.move&#39;↕2 @☰± 0.821,  0.196]\n2020-10-01 11:59:06 RedSky exlogger:c[3500] WARNING [performer] No replanning left!\n2020-10-01 11:59:06 RedSky exlogger:c[3500] INFO [performer] Iter 10: max derive exceeded (6.776468421653668 &gt; 2.71184140526327) trying to reach Data[#12↝👁&#39;#Cylinder1.position&#39;↕2 @☰± 0.000,  0.000] by doing Data[#17↝🕹&#39;#Agent.move&#39;↕2 @☰± 0.821,  0.196]\n2020-10-01 11:59:06 RedSky exlogger:c[3500] WARNING [performer] No replanning left!\n2020-10-01 11:59:06 RedSky exlogger:c[3500] INFO [performer] Iter 11: max derive exceeded (6.776469627684919 &gt; 2.71184140526327) trying to reach Data[#12↝👁&#39;#Cylinder1.position&#39;↕2 @☰± 0.000,  0.000] by doing Data[#17↝🕹&#39;#Agent.move&#39;↕2 @☰± 0.821,  0.196]\n2020-10-01 11:59:06 RedSky exlogger:c[3500] WARNING [performer] No replanning left!\n2020-10-01 11:59:06 RedSky exlogger:c[3500] INFO [performer] Iter 12: max derive exceeded (6.776470833734142 &gt; 2.71184140526327) trying to reach Data[#12↝👁&#39;#Cylinder1.position&#39;↕2 @☰± 0.000,  0.000] by doing Data[#17↝🕹&#39;#Agent.move&#39;↕2 @☰± 0.821,  0.196]\n2020-10-01 11:59:06 RedSky exlogger:c[3500] WARNING [performer] No replanning left!\n2020-10-01 11:59:06 RedSky exlogger:c[3500] INFO [performer] Iter 13: max derive exceeded (6.776472039801227 &gt; 2.71184140526327) trying to reach Data[#12↝👁&#39;#Cylinder1.position&#39;↕2 @☰± 0.000,  0.000] by doing Data[#17↝🕹&#39;#Agent.move&#39;↕2 @☰± 0.821,  0.196]\n2020-10-01 11:59:06 RedSky exlogger:c[3500] WARNING [performer] No replanning left!\n2020-10-01 11:59:06 RedSky exlogger:c[3500] INFO [performer] Iter 14: max derive exceeded (6.776473245886233 &gt; 2.71184140526327) trying to reach Data[#12↝👁&#39;#Cylinder1.position&#39;↕2 @☰± 0.000,  0.000] by doing Data[#17↝🕹&#39;#Agent.move&#39;↕2 @☰± 0.821,  0.196]\n2020-10-01 11:59:06 RedSky exlogger:c[3500] WARNING [performer] No replanning left!\n2020-10-01 11:59:06 RedSky exlogger:c[3500] INFO [performer] Iter 15: max derive exceeded (6.776474451989154 &gt; 2.71184140526327) trying to reach Data[#12↝👁&#39;#Cylinder1.position&#39;↕2 @☰± 0.000,  0.000] by doing Data[#17↝🕹&#39;#Agent.move&#39;↕2 @☰± 0.821,  0.196]\n2020-10-01 11:59:06 RedSky exlogger:c[3500] WARNING [performer] No replanning left!\n2020-10-01 11:59:06 RedSky exlogger:c[3500] INFO [performer] Iter 16: max derive exceeded (6.7764756581100505 &gt; 2.71184140526327) trying to reach Data[#12↝👁&#39;#Cylinder1.position&#39;↕2 @☰± 0.000,  0.000] by doing Data[#17↝🕹&#39;#Agent.move&#39;↕2 @☰± 0.821,  0.196]\n2020-10-01 11:59:06 RedSky exlogger:c[3500] WARNING [performer] No replanning left!\n2020-10-01 11:59:06 RedSky exlogger:c[3500] INFO [performer] Iter 17: max derive exceeded (6.776476864248811 &gt; 2.71184140526327) trying to reach Data[#12↝👁&#39;#Cylinder1.position&#39;↕2 @☰± 0.000,  0.000] by doing Data[#17↝🕹&#39;#Agent.move&#39;↕2 @☰± 0.821,  0.196]\n2020-10-01 11:59:06 RedSky exlogger:c[3500] WARNING [performer] No replanning left!\n2020-10-01 11:59:06 RedSky exlogger:c[3500] INFO [performer] Iter 18: max derive exceeded (6.776478070405486 &gt; 2.71184140526327) trying to reach Data[#12↝👁&#39;#Cylinder1.position&#39;↕2 @☰± 0.000,  0.000] by doing Data[#17↝🕹&#39;#Agent.move&#39;↕2 @☰± 0.821,  0.196]\n2020-10-01 11:59:06 RedSky exlogger:c[3500] WARNING [performer] No replanning left!\n2020-10-01 11:59:06 RedSky exlogger:c[3500] INFO [performer] Iter 19: max derive exceeded (6.776479276580083 &gt; 2.71184140526327) trying to reach Data[#12↝👁&#39;#Cylinder1.position&#39;↕2 @☰± 0.000,  0.000] by doing Data[#17↝🕹&#39;#Agent.move&#39;↕2 @☰± 0.821,  0.196]\n2020-10-01 11:59:06 RedSky exlogger:c[3500] WARNING [performer] No replanning left!\n2020-10-01 11:59:06 RedSky exlogger:c[3500] WARNING [performer] Iter 20: out of replanning\n******************************\n--------\nACTIONS: {@☰#12↝👁&#39;#Cylinder1.position&#39;↕2, @☰#17↝🕹&#39;#Agent.move&#39;↕2, @☰#9↝👁&#39;#Agent.position&#39;↕2, @☰#13↝👁&#39;#Cylinder1.positionToAgent&#39;↕2} [ModelInterestModel(@☰#17↝🕹&#39;#Agent.move&#39;↕2 | @NullSpace =&gt; @☰#9↝👁&#39;#Agent.position&#39;↕2), ModelInterestModel(@☰#17↝🕹&#39;#Agent.move&#39;↕2 | @☰#28↝👁&#39;#Agent.lidar&#39;:PRE↕8 =&gt; @☰#12↝👁&#39;#Cylinder1.position&#39;↕2), ModelInterestModel(@☰#17↝🕹&#39;#Agent.move&#39;↕2 | @☰#31↝👁&#39;#Cylinder2.position&#39;:PRE↕2 =&gt; @☰#13↝👁&#39;#Cylinder1.positionToAgent&#39;↕2)]\n2020-10-01 11:59:08 RedSky exlogger:c[3500] INFO [adaptation] Adding ModelInterestModel(@☰#9↝👁&#39;#Agent.position&#39;↕2 | @NullSpace =&gt; @☰#13↝👁&#39;#Cylinder1.positionToAgent&#39;↕2) (with score 0.9347315267454188)\n2020-10-01 11:59:08 RedSky exlogger:c[3500] INFO [model] New model added: ModelInterestModel(@☰#9↝👁&#39;#Agent.position&#39;↕2 | @NullSpace =&gt; @☰#13↝👁&#39;#Cylinder1.positionToAgent&#39;↕2)\n2020-10-01 11:59:08 RedSky exlogger:c[3500] INFO [adaptation] Adding ModelInterestModel(@☰#17↝🕹&#39;#Agent.move&#39;↕2 | @NullSpace =&gt; @☰#15↝👁&#39;#Cylinder2.positionToAgent&#39;↕2) (with score 0.37931746291838864)\n2020-10-01 11:59:08 RedSky exlogger:c[3500] INFO [model] New model added: ModelInterestModel(@☰#17↝🕹&#39;#Agent.move&#39;↕2 | @NullSpace =&gt; @☰#15↝👁&#39;#Cylinder2.positionToAgent&#39;↕2)\n/////////\n[@☰#28↝👁&#39;#Agent.lidar&#39;:PRE↕8, @☰#29↝👁&#39;#Cylinder1.position&#39;:PRE↕2, @☰#26↝👁&#39;#Agent.position&#39;:PRE↕2, @☰#30↝👁&#39;#Cylinder1.positionToAgent&#39;:PRE↕2, @☰#31↝👁&#39;#Cylinder2.position&#39;:PRE↕2, @☰#32↝👁&#39;#Cylinder2.positionToAgent&#39;:PRE↕2] [1.0, 1.0, 0.36787944117144233, 0.6065306597126334, 1.0, 1.0]\n@@@@ Attempt ModelInterestModel(@☰#17↝🕹&#39;#Agent.move&#39;↕2 | @NullSpace =&gt; @☰#9↝👁&#39;#Agent.position&#39;↕2) -&gt; ModelInterestModel(@☰#17↝🕹&#39;#Agent.move&#39;↕2 | @☰#29↝👁&#39;#Cylinder1.position&#39;:PRE↕2 =&gt; @☰#9↝👁&#39;#Agent.position&#39;↕2)\n@@@@ =&gt; 0.3749509647203083 0.9999974548621084\n/////////\n[@☰#28↝👁&#39;#Agent.lidar&#39;:PRE↕8, @☰#29↝👁&#39;#Cylinder1.position&#39;:PRE↕2, @☰#26↝👁&#39;#Agent.position&#39;:PRE↕2, @☰#30↝👁&#39;#Cylinder1.positionToAgent&#39;:PRE↕2, @☰#31↝👁&#39;#Cylinder2.position&#39;:PRE↕2, @☰#32↝👁&#39;#Cylinder2.positionToAgent&#39;:PRE↕2] [1.0, 0.6065306597126334, 0.36787944117144233, 0.6065306597126334, 1.0, 1.0]\n@@@@ Attempt ModelInterestModel(@☰#17↝🕹&#39;#Agent.move&#39;↕2 | @NullSpace =&gt; @☰#9↝👁&#39;#Agent.position&#39;↕2) -&gt; ModelInterestModel(@☰#17↝🕹&#39;#Agent.move&#39;↕2 | @☰#31↝👁&#39;#Cylinder2.position&#39;:PRE↕2 =&gt; @☰#9↝👁&#39;#Agent.position&#39;↕2)\n@@@@ =&gt; 0.918534635089317 0.9999974548621084\n@@@@ =&gt; 0.918534635089317 0.9999974548621084\n/////////\n[@☰#28↝👁&#39;#Agent.lidar&#39;:PRE↕8, @☰#29↝👁&#39;#Cylinder1.position&#39;:PRE↕2, @☰#26↝👁&#39;#Agent.position&#39;:PRE↕2, @☰#30↝👁&#39;#Cylinder1.positionToAgent&#39;:PRE↕2, @☰#31↝👁&#39;#Cylinder2.position&#39;:PRE↕2, @☰#32↝👁&#39;#Cylinder2.positionToAgent&#39;:PRE↕2] [1.0, 0.6065306597126334, 0.36787944117144233, 0.6065306597126334, 0.6065306597126334, 1.0]\n@@@@ Attempt ModelInterestModel(@☰#17↝🕹&#39;#Agent.move&#39;↕2 | @NullSpace =&gt; @☰#9↝👁&#39;#Agent.position&#39;↕2) -&gt; ModelInterestModel(@☰#17↝🕹&#39;#Agent.move&#39;↕2 | @☰#28↝👁&#39;#Agent.lidar&#39;:PRE↕8 =&gt; @☰#9↝👁&#39;#Agent.position&#39;↕2)\n@@@@ =&gt; 0.9999953178571078 0.9999974548621084\n@@@@ =&gt; 0.9999953178571078 0.9999974548621084\n/////////\n[@☰#28↝👁&#39;#Agent.lidar&#39;:PRE↕8, @☰#29↝👁&#39;#Cylinder1.position&#39;:PRE↕2, @☰#26↝👁&#39;#Agent.position&#39;:PRE↕2, @☰#30↝👁&#39;#Cylinder1.positionToAgent&#39;:PRE↕2, @☰#31↝👁&#39;#Cylinder2.position&#39;:PRE↕2, @☰#32↝👁&#39;#Cylinder2.positionToAgent&#39;:PRE↕2] [0.6065306597126334, 0.6065306597126334, 0.36787944117144233, 0.6065306597126334, 0.6065306597126334, 1.0]\n@@@@ Attempt ModelInterestModel(@☰#17↝🕹&#39;#Agent.move&#39;↕2 | @NullSpace =&gt; @☰#9↝👁&#39;#Agent.position&#39;↕2) -&gt; ModelInterestModel(@☰#17↝🕹&#39;#Agent.move&#39;↕2 | @☰#26↝👁&#39;#Agent.position&#39;:PRE↕2 =&gt; @☰#9↝👁&#39;#Agent.position&#39;↕2)\n@@@@ =&gt; 0.9999965697610326 0.9999974548621084\n@@@@ =&gt; 0.9999965697610326 0.9999974548621084\n/////////\n[@☰#29↝👁&#39;#Cylinder1.position&#39;:PRE↕2, @☰#26↝👁&#39;#Agent.position&#39;:PRE↕2, @☰#30↝👁&#39;#Cylinder1.positionToAgent&#39;:PRE↕2, @☰#31↝👁&#39;#Cylinder2.position&#39;:PRE↕2, @☰#32↝👁&#39;#Cylinder2.positionToAgent&#39;:PRE↕2] [1.0, 1.0, 1.0, 1.0, 1.0]\n@@@@ Attempt ModelInterestModel(@☰#17↝🕹&#39;#Agent.move&#39;↕2 | @☰#28↝👁&#39;#Agent.lidar&#39;:PRE↕8 =&gt; @☰#12↝👁&#39;#Cylinder1.position&#39;↕2) -&gt; ModelInterestModel(@☰#17↝🕹&#39;#Agent.move&#39;↕2 | @☰∥#54⇉👁[↝👁&#39;#Cylinder2.positionToAgent&#39; ↝👁&#39;#Agent.lidar&#39;]↕10 =&gt; @☰#12↝👁&#39;#Cylinder1.position&#39;↕2)\n2020-10-01 11:59:08 RedSky exlogger:c[3500] INFO [model] Model removed: ❌ModelInterestModel(@☰#17↝🕹&#39;#Agent.move&#39;↕2 | @☰#28↝👁&#39;#Agent.lidar&#39;:PRE↕8 =&gt; @☰#12↝👁&#39;#Cylinder1.position&#39;↕2)\n2020-10-01 11:59:08 RedSky exlogger:c[3500] INFO [model] New model added: ModelInterestModel(@☰#17↝🕹&#39;#Agent.move&#39;↕2 | @☰#28↝👁&#39;#Agent.lidar&#39;:PRE↕8 =&gt; @☰#12↝👁&#39;#Cylinder1.position&#39;↕2)\n2020-10-01 11:59:08 RedSky exlogger:c[3500] INFO [adaptation] Modified ❌ModelInterestModel(@☰#17↝🕹&#39;#Agent.move&#39;↕2 | @☰#28↝👁&#39;#Agent.lidar&#39;:PRE↕8 =&gt; @☰#12↝👁&#39;#Cylinder1.position&#39;↕2) into ModelInterestModel(@☰#17↝🕹&#39;#Agent.move&#39;↕2 | @☰#28↝👁&#39;#Agent.lidar&#39;:PRE↕8 =&gt; @☰#12↝👁&#39;#Cylinder1.position&#39;↕2), merging [❌ModelInterestModel(@☰#17↝🕹&#39;#Agent.move&#39;↕2 | @☰#28↝👁&#39;#Agent.lidar&#39;:PRE↕8 =&gt; @☰#12↝👁&#39;#Cylinder1.position&#39;↕2)] due to a lower competence)\n@@@@ =&gt; 0.06285860734669596 0.3016682876713601\n@@@@ Attempt ModelInterestModel(@☰#17↝🕹&#39;#Agent.move&#39;↕2 | @☰#28↝👁&#39;#Agent.lidar&#39;:PRE↕8 =&gt; @☰#12↝👁&#39;#Cylinder1.position&#39;↕2) -&gt; ModelInterestModel(@☰#17↝🕹&#39;#Agent.move&#39;↕2 | @☰#28↝👁&#39;#Agent.lidar&#39;:PRE↕8 =&gt; @☰#12↝👁&#39;#Cylinder1.position&#39;↕2)\n@@@@ =&gt; 0.5766575961569042 0.3016682876713601\n@@@@ =&gt; 0.5766575961569042 0.3016682876713601\n/////////\n[@☰#28↝👁&#39;#Agent.lidar&#39;:PRE↕8, @☰#29↝👁&#39;#Cylinder1.position&#39;:PRE↕2, @☰#26↝👁&#39;#Agent.position&#39;:PRE↕2, @☰#30↝👁&#39;#Cylinder1.positionToAgent&#39;:PRE↕2, @☰#32↝👁&#39;#Cylinder2.positionToAgent&#39;:PRE↕2] [1.0, 1.0, 1.0, 1.0, 1.0]\n@@@@ Attempt ModelInterestModel(@☰#17↝🕹&#39;#Agent.move&#39;↕2 | @☰#31↝👁&#39;#Cylinder2.position&#39;:PRE↕2 =&gt; @☰#13↝👁&#39;#Cylinder1.positionToAgent&#39;↕2) -&gt; ModelInterestModel(@☰#17↝🕹&#39;#Agent.move&#39;↕2 | @☰#28↝👁&#39;#Agent.lidar&#39;:PRE↕8 =&gt; @☰#13↝👁&#39;#Cylinder1.positionToAgent&#39;↕2)\n@@@@ =&gt; 0.6406402414012089 0.9093321661900826\n/////////\n[@☰#28↝👁&#39;#Agent.lidar&#39;:PRE↕8, @☰#29↝👁&#39;#Cylinder1.position&#39;:PRE↕2, @☰#26↝👁&#39;#Agent.position&#39;:PRE↕2, @☰#30↝👁&#39;#Cylinder1.positionToAgent&#39;:PRE↕2, @☰#32↝👁&#39;#Cylinder2.positionToAgent&#39;:PRE↕2] [0.6065306597126334, 1.0, 1.0, 1.0, 1.0]\n@@@@ Attempt ModelInterestModel(@☰#17↝🕹&#39;#Agent.move&#39;↕2 | @☰#31↝👁&#39;#Cylinder2.position&#39;:PRE↕2 =&gt; @☰#13↝👁&#39;#Cylinder1.positionToAgent&#39;↕2) -&gt; ModelInterestModel(@☰#17↝🕹&#39;#Agent.move&#39;↕2 | @☰#30↝👁&#39;#Cylinder1.positionToAgent&#39;:PRE↕2 =&gt; @☰#13↝👁&#39;#Cylinder1.positionToAgent&#39;↕2)\n@@@@ =&gt; 0.8547600281383994 0.9093321661900826\n@@@@ =&gt; 0.8547600281383994 0.9093321661900826\n/////////\n[@☰#28↝👁&#39;#Agent.lidar&#39;:PRE↕8, @☰#29↝👁&#39;#Cylinder1.position&#39;:PRE↕2, @☰#26↝👁&#39;#Agent.position&#39;:PRE↕2, @☰#30↝👁&#39;#Cylinder1.positionToAgent&#39;:PRE↕2, @☰#31↝👁&#39;#Cylinder2.position&#39;:PRE↕2, @☰#32↝👁&#39;#Cylinder2.positionToAgent&#39;:PRE↕2] [1.0, 1.0, 1.0, 1.0, 1.0, 1.0]\n@@@@ Attempt ModelInterestModel(@☰#9↝👁&#39;#Agent.position&#39;↕2 | @NullSpace =&gt; @☰#13↝👁&#39;#Cylinder1.positionToAgent&#39;↕2) -&gt; ModelInterestModel(@☰#9↝👁&#39;#Agent.position&#39;↕2 | @☰#26↝👁&#39;#Agent.position&#39;:PRE↕2 =&gt; @☰#13↝👁&#39;#Cylinder1.positionToAgent&#39;↕2)\n@@@@ =&gt; 0.8791183359752248 0.9147315267454188\n@@@@ =&gt; 0.8791183359752248 0.9147315267454188\n/////////\n[@☰#28↝👁&#39;#Agent.lidar&#39;:PRE↕8, @☰#29↝👁&#39;#Cylinder1.position&#39;:PRE↕2, @☰#26↝👁&#39;#Agent.position&#39;:PRE↕2, @☰#30↝👁&#39;#Cylinder1.positionToAgent&#39;:PRE↕2, @☰#31↝👁&#39;#Cylinder2.position&#39;:PRE↕2, @☰#32↝👁&#39;#Cylinder2.positionToAgent&#39;:PRE↕2] [1.0, 1.0, 0.6065306597126334, 1.0, 1.0, 1.0]\n@@@@ Attempt ModelInterestModel(@☰#9↝👁&#39;#Agent.position&#39;↕2 | @NullSpace =&gt; @☰#13↝👁&#39;#Cylinder1.positionToAgent&#39;↕2) -&gt; ModelInterestModel(@☰#9↝👁&#39;#Agent.position&#39;↕2 | @☰#29↝👁&#39;#Cylinder1.position&#39;:PRE↕2 =&gt; @☰#13↝👁&#39;#Cylinder1.positionToAgent&#39;↕2)\n@@@@ =&gt; 0.7249969664408424 0.9147315267454188\n/////////\n[@☰#28↝👁&#39;#Agent.lidar&#39;:PRE↕8, @☰#29↝👁&#39;#Cylinder1.position&#39;:PRE↕2, @☰#26↝👁&#39;#Agent.position&#39;:PRE↕2, @☰#30↝👁&#39;#Cylinder1.positionToAgent&#39;:PRE↕2, @☰#31↝👁&#39;#Cylinder2.position&#39;:PRE↕2, @☰#32↝👁&#39;#Cylinder2.positionToAgent&#39;:PRE↕2] [1.0, 0.6065306597126334, 0.6065306597126334, 1.0, 1.0, 1.0]\n@@@@ Attempt ModelInterestModel(@☰#9↝👁&#39;#Agent.position&#39;↕2 | @NullSpace =&gt; @☰#13↝👁&#39;#Cylinder1.positionToAgent&#39;↕2) -&gt; ModelInterestModel(@☰#9↝👁&#39;#Agent.position&#39;↕2 | @☰#32↝👁&#39;#Cylinder2.positionToAgent&#39;:PRE↕2 =&gt; @☰#13↝👁&#39;#Cylinder1.positionToAgent&#39;↕2)\n@@@@ =&gt; 0.7505053035016462 0.9147315267454188\n/////////\n[@☰#28↝👁&#39;#Agent.lidar&#39;:PRE↕8, @☰#29↝👁&#39;#Cylinder1.position&#39;:PRE↕2, @☰#26↝👁&#39;#Agent.position&#39;:PRE↕2, @☰#30↝👁&#39;#Cylinder1.positionToAgent&#39;:PRE↕2, @☰#31↝👁&#39;#Cylinder2.position&#39;:PRE↕2, @☰#32↝👁&#39;#Cylinder2.positionToAgent&#39;:PRE↕2] [1.0, 0.6065306597126334, 0.6065306597126334, 1.0, 1.0, 0.6065306597126334]\n@@@@ Attempt ModelInterestModel(@☰#9↝👁&#39;#Agent.position&#39;↕2 | @NullSpace =&gt; @☰#13↝👁&#39;#Cylinder1.positionToAgent&#39;↕2) -&gt; ModelInterestModel(@☰#9↝👁&#39;#Agent.position&#39;↕2 | @☰#29↝👁&#39;#Cylinder1.position&#39;:PRE↕2 =&gt; @☰#13↝👁&#39;#Cylinder1.positionToAgent&#39;↕2)\n@@@@ =&gt; 0.7249969664408424 0.9147315267454188\n/////////\n[@☰#28↝👁&#39;#Agent.lidar&#39;:PRE↕8, @☰#29↝👁&#39;#Cylinder1.position&#39;:PRE↕2, @☰#26↝👁&#39;#Agent.position&#39;:PRE↕2, @☰#30↝👁&#39;#Cylinder1.positionToAgent&#39;:PRE↕2, @☰#31↝👁&#39;#Cylinder2.position&#39;:PRE↕2, @☰#32↝👁&#39;#Cylinder2.positionToAgent&#39;:PRE↕2] [1.0, 1.0, 1.0, 1.0, 1.0, 1.0]\n@@@@ Attempt ModelInterestModel(@☰#17↝🕹&#39;#Agent.move&#39;↕2 | @NullSpace =&gt; @☰#15↝👁&#39;#Cylinder2.positionToAgent&#39;↕2) -&gt; ModelInterestModel(@☰#17↝🕹&#39;#Agent.move&#39;↕2 | @☰#29↝👁&#39;#Cylinder1.position&#39;:PRE↕2 =&gt; @☰#15↝👁&#39;#Cylinder2.positionToAgent&#39;↕2)\n2020-10-01 11:59:09 RedSky exlogger:c[3500] INFO [model] Model removed: ModelInterestModel(@☰#17↝🕹&#39;#Agent.move&#39;↕2 | @NullSpace =&gt; @☰#15↝👁&#39;#Cylinder2.positionToAgent&#39;↕2)\n2020-10-01 11:59:09 RedSky exlogger:c[3500] INFO [model] New model added: ModelInterestModel(@☰#17↝🕹&#39;#Agent.move&#39;↕2 | @☰#32↝👁&#39;#Cylinder2.positionToAgent&#39;:PRE↕2 =&gt; @☰#15↝👁&#39;#Cylinder2.positionToAgent&#39;↕2)\n2020-10-01 11:59:09 RedSky exlogger:c[3500] INFO [adaptation] Modified ModelInterestModel(@☰#17↝🕹&#39;#Agent.move&#39;↕2 | @NullSpace =&gt; @☰#15↝👁&#39;#Cylinder2.positionToAgent&#39;↕2) into ModelInterestModel(@☰#17↝🕹&#39;#Agent.move&#39;↕2 | @☰#32↝👁&#39;#Cylinder2.positionToAgent&#39;:PRE↕2 =&gt; @☰#15↝👁&#39;#Cylinder2.positionToAgent&#39;↕2) (for a gain of 0.1855831001053455)\n2020-10-01 11:59:09 RedSky exlogger:c[3500] INFO [interest] Creating interestMap for model ModelInterestModel(@☰#9↝👁&#39;#Agent.position&#39;↕2 | @NullSpace =&gt; @☰#13↝👁&#39;#Cylinder1.positionToAgent&#39;↕2), strategy Strategy autonomousStrategy\n2020-10-01 11:59:09 RedSky exlogger:c[3500] INFO [interest] Creating interestMap for model ModelInterestModel(@☰#17↝🕹&#39;#Agent.move&#39;↕2 | @☰#32↝👁&#39;#Cylinder2.positionToAgent&#39;:PRE↕2 =&gt; @☰#15↝👁&#39;#Cylinder2.positionToAgent&#39;↕2), strategy Strategy autonomousStrategy\n@@@@ =&gt; 0.004364521918076067 0.3593174629183886\n/////////\n[@☰#28↝👁&#39;#Agent.lidar&#39;:PRE↕8, @☰#29↝👁&#39;#Cylinder1.position&#39;:PRE↕2, @☰#26↝👁&#39;#Agent.position&#39;:PRE↕2, @☰#30↝👁&#39;#Cylinder1.positionToAgent&#39;:PRE↕2, @☰#31↝👁&#39;#Cylinder2.position&#39;:PRE↕2, @☰#32↝👁&#39;#Cylinder2.positionToAgent&#39;:PRE↕2] [1.0, 0.6065306597126334, 1.0, 1.0, 1.0, 1.0]\n@@@@ Attempt ModelInterestModel(@☰#17↝🕹&#39;#Agent.move&#39;↕2 | @NullSpace =&gt; @☰#15↝👁&#39;#Cylinder2.positionToAgent&#39;↕2) -&gt; ModelInterestModel(@☰#17↝🕹&#39;#Agent.move&#39;↕2 | @☰#26↝👁&#39;#Agent.position&#39;:PRE↕2 =&gt; @☰#15↝👁&#39;#Cylinder2.positionToAgent&#39;↕2)\n@@@@ =&gt; 0.014297781827996903 0.3593174629183886\n/////////\n[@☰#28↝👁&#39;#Agent.lidar&#39;:PRE↕8, @☰#29↝👁&#39;#Cylinder1.position&#39;:PRE↕2, @☰#26↝👁&#39;#Agent.position&#39;:PRE↕2, @☰#30↝👁&#39;#Cylinder1.positionToAgent&#39;:PRE↕2, @☰#31↝👁&#39;#Cylinder2.position&#39;:PRE↕2, @☰#32↝👁&#39;#Cylinder2.positionToAgent&#39;:PRE↕2] [1.0, 0.6065306597126334, 0.6065306597126334, 1.0, 1.0, 1.0]\n@@@@ Attempt ModelInterestModel(@☰#17↝🕹&#39;#Agent.move&#39;↕2 | @NullSpace =&gt; @☰#15↝👁&#39;#Cylinder2.positionToAgent&#39;↕2) -&gt; ModelInterestModel(@☰#17↝🕹&#39;#Agent.move&#39;↕2 | @☰#32↝👁&#39;#Cylinder2.positionToAgent&#39;:PRE↕2 =&gt; @☰#15↝👁&#39;#Cylinder2.positionToAgent&#39;↕2)\n@@@@ =&gt; 0.5449005630237341 0.3593174629183886\n@@@@ =&gt; 0.5449005630237341 0.3593174629183886\n2020-10-01 11:59:09 RedSky exlogger:c[3500] INFO [performer] Iter 2: max derive exceeded (10.32976901249211 &gt; 7.23424208759562) trying to reach Data[#15↝👁&#39;#Cylinder2.positionToAgent&#39;↕2 @☰± 25.313, -12.488] by doing Data[#17↝🕹&#39;#Agent.move&#39;↕2 @☰±-0.968,  0.480]\n2020-10-01 11:59:09 RedSky exlogger:c[3500] INFO [performer] Replanning...\n2020-10-01 11:59:10 RedSky exlogger:c[3500] INFO [performer] Iter 3: max derive exceeded (18.864415838676234 &gt; 7.23424208759562) trying to reach Data[#15↝👁&#39;#Cylinder2.positionToAgent&#39;↕2 @☰± 26.154,  4.113] by doing Data[#17↝🕹&#39;#Agent.move&#39;↕2 @☰±-1.671, -0.156]\n2020-10-01 11:59:10 RedSky exlogger:c[3500] INFO [performer] Replanning...\n2020-10-01 11:59:10 RedSky exlogger:c[3500] INFO [performer] Iter 3: max derive exceeded (8.389704764526247 &gt; 7.23424208759562) trying to reach Data[#15↝👁&#39;#Cylinder2.positionToAgent&#39;↕2 @☰± 25.316, -12.514] by doing Data[#17↝🕹&#39;#Agent.move&#39;↕2 @☰±-0.968,  0.480]\n2020-10-01 11:59:10 RedSky exlogger:c[3500] WARNING [performer] No replanning left!\n2020-10-01 11:59:10 RedSky exlogger:c[3500] INFO [performer] Iter 4: max derive exceeded (27.511293400841847 &gt; 7.23424208759562) trying to reach Data[#15↝👁&#39;#Cylinder2.positionToAgent&#39;↕2 @☰± 26.156, -8.431] by doing Data[#17↝🕹&#39;#Agent.move&#39;↕2 @☰±-2.581,  0.322]\n2020-10-01 11:59:10 RedSky exlogger:c[3500] WARNING [performer] No replanning left!\n2020-10-01 11:59:10 RedSky exlogger:c[3500] INFO [performer] Iter 5: max derive exceeded (36.09369875904987 &gt; 7.23424208759562) trying to reach Data[#15↝👁&#39;#Cylinder2.positionToAgent&#39;↕2 @☰± 26.158,  11.335] by doing Data[#17↝🕹&#39;#Agent.move&#39;↕2 @☰±-1.429, -0.435]\n2020-10-01 11:59:10 RedSky exlogger:c[3500] WARNING [performer] No replanning left!\n2020-10-01 11:59:10 RedSky exlogger:c[3500] INFO [performer] Iter 6: max derive exceeded (79.52301084656149 &gt; 7.23424208759562) trying to reach Data[#15↝👁&#39;#Cylinder2.positionToAgent&#39;↕2 @☰± 26.158,  1.668] by doing Data[#17↝🕹&#39;#Agent.move&#39;↕2 @☰±-2.324, -0.063]\n2020-10-01 11:59:10 RedSky exlogger:c[3500] WARNING [performer] No replanning left!\n2020-10-01 11:59:10 RedSky exlogger:c[3500] INFO [performer] Iter 7: max derive exceeded (79.46696446921112 &gt; 7.23424208759562) trying to reach Data[#15↝👁&#39;#Cylinder2.positionToAgent&#39;↕2 @☰±-8.660,  3.736] by doing Data[#17↝🕹&#39;#Agent.move&#39;↕2 @☰± 0.334, -0.143]\n2020-10-01 11:59:10 RedSky exlogger:c[3500] WARNING [performer] No replanning left!\n2020-10-01 11:59:10 RedSky exlogger:c[3500] WARNING [performer] Iter 8: out of replanning\n******************************\n--------\nACTIONS: {@☰#12↝👁&#39;#Cylinder1.position&#39;↕2, @☰#17↝🕹&#39;#Agent.move&#39;↕2, @☰#9↝👁&#39;#Agent.position&#39;↕2, @☰#13↝👁&#39;#Cylinder1.positionToAgent&#39;↕2, @☰#15↝👁&#39;#Cylinder2.positionToAgent&#39;↕2} [ModelInterestModel(@☰#17↝🕹&#39;#Agent.move&#39;↕2 | @NullSpace =&gt; @☰#9↝👁&#39;#Agent.position&#39;↕2), ModelInterestModel(@☰#17↝🕹&#39;#Agent.move&#39;↕2 | @☰#31↝👁&#39;#Cylinder2.position&#39;:PRE↕2 =&gt; @☰#13↝👁&#39;#Cylinder1.positionToAgent&#39;↕2), ModelInterestModel(@☰#9↝👁&#39;#Agent.position&#39;↕2 | @NullSpace =&gt; @☰#13↝👁&#39;#Cylinder1.positionToAgent&#39;↕2), ModelInterestModel(@☰#17↝🕹&#39;#Agent.move&#39;↕2 | @☰#28↝👁&#39;#Agent.lidar&#39;:PRE↕8 =&gt; @☰#12↝👁&#39;#Cylinder1.position&#39;↕2), ModelInterestModel(@☰#17↝🕹&#39;#Agent.move&#39;↕2 | @☰#32↝👁&#39;#Cylinder2.positionToAgent&#39;:PRE↕2 =&gt; @☰#15↝👁&#39;#Cylinder2.positionToAgent&#39;↕2)]\n2020-10-01 11:59:12 RedSky exlogger:c[3500] INFO [adaptation] Adding ModelInterestModel(@☰#9↝👁&#39;#Agent.position&#39;↕2 | @☰#30↝👁&#39;#Cylinder1.positionToAgent&#39;:PRE↕2 =&gt; @☰#15↝👁&#39;#Cylinder2.positionToAgent&#39;↕2) (with score 0.7433093643002481)\n2020-10-01 11:59:12 RedSky exlogger:c[3500] INFO [model] New model added: ModelInterestModel(@☰#9↝👁&#39;#Agent.position&#39;↕2 | @☰#30↝👁&#39;#Cylinder1.positionToAgent&#39;:PRE↕2 =&gt; @☰#15↝👁&#39;#Cylinder2.positionToAgent&#39;↕2)\n2020-10-01 11:59:12 RedSky exlogger:c[3500] INFO [adaptation] Adding ModelInterestModel(@☰#15↝👁&#39;#Cylinder2.positionToAgent&#39;↕2 | @NullSpace =&gt; @☰#13↝👁&#39;#Cylinder1.positionToAgent&#39;↕2) (with score 0.5727954408093419)\n2020-10-01 11:59:12 RedSky exlogger:c[3500] INFO [model] New model added: ModelInterestModel(@☰#15↝👁&#39;#Cylinder2.positionToAgent&#39;↕2 | @NullSpace =&gt; @☰#13↝👁&#39;#Cylinder1.positionToAgent&#39;↕2)\n/////////\n[@☰#28↝👁&#39;#Agent.lidar&#39;:PRE↕8, @☰#26↝👁&#39;#Agent.position&#39;:PRE↕2, @☰#30↝👁&#39;#Cylinder1.positionToAgent&#39;:PRE↕2, @☰#32↝👁&#39;#Cylinder2.positionToAgent&#39;:PRE↕2] [0.6065306597126334, 0.22313016014842982, 0.6065306597126334, 1.0]\n@@@@ Attempt ModelInterestModel(@☰#17↝🕹&#39;#Agent.move&#39;↕2 | @NullSpace =&gt; @☰#9↝👁&#39;#Agent.position&#39;↕2) -&gt; ModelInterestModel(@☰#17↝🕹&#39;#Agent.move&#39;↕2 | @☰#32↝👁&#39;#Cylinder2.positionToAgent&#39;:PRE↕2 =&gt; @☰#9↝👁&#39;#Agent.position&#39;↕2)\n@@@@ =&gt; 0.999998141148124 0.9999648939488577\n@@@@ =&gt; 0.999998141148124 0.9999648939488577\n/////////\n[@☰#28↝👁&#39;#Agent.lidar&#39;:PRE↕8, @☰#26↝👁&#39;#Agent.position&#39;:PRE↕2, @☰#30↝👁&#39;#Cylinder1.positionToAgent&#39;:PRE↕2, @☰#32↝👁&#39;#Cylinder2.positionToAgent&#39;:PRE↕2] [0.6065306597126334, 0.22313016014842982, 0.6065306597126334, 0.6065306597126334]\n@@@@ Attempt ModelInterestModel(@☰#17↝🕹&#39;#Agent.move&#39;↕2 | @NullSpace =&gt; @☰#9↝👁&#39;#Agent.position&#39;↕2) -&gt; ModelInterestModel(@☰#17↝🕹&#39;#Agent.move&#39;↕2 | @☰#28↝👁&#39;#Agent.lidar&#39;:PRE↕8 =&gt; @☰#9↝👁&#39;#Agent.position&#39;↕2)\n@@@@ =&gt; 0.9943147793880337 0.9999648939488577\n@@@@ =&gt; 0.9943147793880337 0.9999648939488577\n/////////\n[@☰#28↝👁&#39;#Agent.lidar&#39;:PRE↕8, @☰#26↝👁&#39;#Agent.position&#39;:PRE↕2, @☰#30↝👁&#39;#Cylinder1.positionToAgent&#39;:PRE↕2, @☰#32↝👁&#39;#Cylinder2.positionToAgent&#39;:PRE↕2] [0.36787944117144233, 0.22313016014842982, 0.6065306597126334, 0.6065306597126334]\n@@@@ Attempt ModelInterestModel(@☰#17↝🕹&#39;#Agent.move&#39;↕2 | @NullSpace =&gt; @☰#9↝👁&#39;#Agent.position&#39;↕2) -&gt; ModelInterestModel(@☰#17↝🕹&#39;#Agent.move&#39;↕2 | @☰#28↝👁&#39;#Agent.lidar&#39;:PRE↕8 =&gt; @☰#9↝👁&#39;#Agent.position&#39;↕2)\n@@@@ =&gt; 0.9943147793880337 0.9999648939488577\n@@@@ =&gt; 0.9943147793880337 0.9999648939488577\n@@@@ Attempt ModelInterestModel(@☰#17↝🕹&#39;#Agent.move&#39;↕2 | @☰#31↝👁&#39;#Cylinder2.position&#39;:PRE↕2 =&gt; @☰#13↝👁&#39;#Cylinder1.positionToAgent&#39;↕2) -&gt; ModelInterestModel(@☰#17↝🕹&#39;#Agent.move&#39;↕2 | @☰#31↝👁&#39;#Cylinder2.position&#39;:PRE↕2 =&gt; @☰#13↝👁&#39;#Cylinder1.positionToAgent&#39;↕2)\n@@@@ =&gt; 0.7029371351775151 0.961861793237073\n/////////\n[@☰#28↝👁&#39;#Agent.lidar&#39;:PRE↕8, @☰#26↝👁&#39;#Agent.position&#39;:PRE↕2, @☰#30↝👁&#39;#Cylinder1.positionToAgent&#39;:PRE↕2, @☰#32↝👁&#39;#Cylinder2.positionToAgent&#39;:PRE↕2] [1.0, 1.0, 1.0, 1.0]\n@@@@ Attempt ModelInterestModel(@☰#17↝🕹&#39;#Agent.move&#39;↕2 | @☰#31↝👁&#39;#Cylinder2.position&#39;:PRE↕2 =&gt; @☰#13↝👁&#39;#Cylinder1.positionToAgent&#39;↕2) -&gt; ModelInterestModel(@☰#17↝🕹&#39;#Agent.move&#39;↕2 | @☰∥#82⇉👁[↝👁&#39;#Cylinder2.position&#39; ↝👁&#39;#Agent.lidar&#39;]↕10 =&gt; @☰#13↝👁&#39;#Cylinder1.positionToAgent&#39;↕2)\n@@@@ =&gt; 0.00033210800162348673 0.961861793237073\n/////////\n[@☰#28↝👁&#39;#Agent.lidar&#39;:PRE↕8, @☰#26↝👁&#39;#Agent.position&#39;:PRE↕2, @☰#30↝👁&#39;#Cylinder1.positionToAgent&#39;:PRE↕2, @☰#32↝👁&#39;#Cylinder2.positionToAgent&#39;:PRE↕2] [0.6065306597126334, 1.0, 1.0, 1.0]\n@@@@ Attempt ModelInterestModel(@☰#17↝🕹&#39;#Agent.move&#39;↕2 | @☰#31↝👁&#39;#Cylinder2.position&#39;:PRE↕2 =&gt; @☰#13↝👁&#39;#Cylinder1.positionToAgent&#39;↕2) -&gt; ModelInterestModel(@☰#17↝🕹&#39;#Agent.move&#39;↕2 | @☰∥#82⇉👁[↝👁&#39;#Cylinder2.position&#39; ↝👁&#39;#Agent.lidar&#39;]↕10 =&gt; @☰#13↝👁&#39;#Cylinder1.positionToAgent&#39;↕2)\n@@@@ =&gt; 0.00033210800162348673 0.961861793237073\n@@@@ Attempt ModelInterestModel(@☰#17↝🕹&#39;#Agent.move&#39;↕2 | @☰#31↝👁&#39;#Cylinder2.position&#39;:PRE↕2 =&gt; @☰#13↝👁&#39;#Cylinder1.positionToAgent&#39;↕2) -&gt; ModelInterestModel(@☰#17↝🕹&#39;#Agent.move&#39;↕2 | @☰#31↝👁&#39;#Cylinder2.position&#39;:PRE↕2 =&gt; @☰#13↝👁&#39;#Cylinder1.positionToAgent&#39;↕2)\n@@@@ =&gt; 0.7029371351775149 0.961861793237073\n/////////\n[@☰#28↝👁&#39;#Agent.lidar&#39;:PRE↕8, @☰#26↝👁&#39;#Agent.position&#39;:PRE↕2, @☰#30↝👁&#39;#Cylinder1.positionToAgent&#39;:PRE↕2, @☰#32↝👁&#39;#Cylinder2.positionToAgent&#39;:PRE↕2] [1.0, 0.6065306597126334, 1.0, 0.6065306597126334]\n@@@@ Attempt ModelInterestModel(@☰#9↝👁&#39;#Agent.position&#39;↕2 | @NullSpace =&gt; @☰#13↝👁&#39;#Cylinder1.positionToAgent&#39;↕2) -&gt; ModelInterestModel(@☰#9↝👁&#39;#Agent.position&#39;↕2 | @☰#28↝👁&#39;#Agent.lidar&#39;:PRE↕8 =&gt; @☰#13↝👁&#39;#Cylinder1.positionToAgent&#39;↕2)\n@@@@ =&gt; 0.7907945887277569 0.9704613293304858\n/////////\n[@☰#28↝👁&#39;#Agent.lidar&#39;:PRE↕8, @☰#26↝👁&#39;#Agent.position&#39;:PRE↕2, @☰#30↝👁&#39;#Cylinder1.positionToAgent&#39;:PRE↕2, @☰#32↝👁&#39;#Cylinder2.positionToAgent&#39;:PRE↕2] [0.6065306597126334, 0.6065306597126334, 1.0, 0.6065306597126334]\n@@@@ Attempt ModelInterestModel(@☰#9↝👁&#39;#Agent.position&#39;↕2 | @NullSpace =&gt; @☰#13↝👁&#39;#Cylinder1.positionToAgent&#39;↕2) -&gt; ModelInterestModel(@☰#9↝👁&#39;#Agent.position&#39;↕2 | @☰#30↝👁&#39;#Cylinder1.positionToAgent&#39;:PRE↕2 =&gt; @☰#13↝👁&#39;#Cylinder1.positionToAgent&#39;↕2)\n@@@@ =&gt; 0.9447908771106177 0.9704613293304858\n@@@@ =&gt; 0.9447908771106177 0.9704613293304858\n/////////\n[@☰#28↝👁&#39;#Agent.lidar&#39;:PRE↕8, @☰#26↝👁&#39;#Agent.position&#39;:PRE↕2, @☰#30↝👁&#39;#Cylinder1.positionToAgent&#39;:PRE↕2, @☰#32↝👁&#39;#Cylinder2.positionToAgent&#39;:PRE↕2] [0.6065306597126334, 0.6065306597126334, 0.6065306597126334, 0.6065306597126334]\n9999 Abort\n@@@@ Attempt ModelInterestModel(@☰#9↝👁&#39;#Agent.position&#39;↕2 | @NullSpace =&gt; @☰#13↝👁&#39;#Cylinder1.positionToAgent&#39;↕2) -&gt; None\n/////////\n[@☰#28↝👁&#39;#Agent.lidar&#39;:PRE↕8, @☰#26↝👁&#39;#Agent.position&#39;:PRE↕2, @☰#30↝👁&#39;#Cylinder1.positionToAgent&#39;:PRE↕2, @☰#32↝👁&#39;#Cylinder2.positionToAgent&#39;:PRE↕2] [0.6065306597126334, 0.6065306597126334, 0.6065306597126334, 0.6065306597126334]\n@@@@ Attempt ModelInterestModel(@☰#9↝👁&#39;#Agent.position&#39;↕2 | @NullSpace =&gt; @☰#13↝👁&#39;#Cylinder1.positionToAgent&#39;↕2) -&gt; ModelInterestModel(@☰#9↝👁&#39;#Agent.position&#39;↕2 | @☰#28↝👁&#39;#Agent.lidar&#39;:PRE↕8 =&gt; @☰#13↝👁&#39;#Cylinder1.positionToAgent&#39;↕2)\n@@@@ =&gt; 0.790794588727757 0.9704613293304858\n@@@@ Attempt ModelInterestModel(@☰#17↝🕹&#39;#Agent.move&#39;↕2 | @☰#28↝👁&#39;#Agent.lidar&#39;:PRE↕8 =&gt; @☰#12↝👁&#39;#Cylinder1.position&#39;↕2) -&gt; ModelInterestModel(@☰#17↝🕹&#39;#Agent.move&#39;↕2 | @☰#28↝👁&#39;#Agent.lidar&#39;:PRE↕8 =&gt; @☰#12↝👁&#39;#Cylinder1.position&#39;↕2)\n@@@@ =&gt; 0.8237175417012472 0.7439670138328945\n@@@@ =&gt; 0.823717541701247 0.7439670138328945\n@@@@ Attempt ModelInterestModel(@☰#17↝🕹&#39;#Agent.move&#39;↕2 | @☰#28↝👁&#39;#Agent.lidar&#39;:PRE↕8 =&gt; @☰#12↝👁&#39;#Cylinder1.position&#39;↕2) -&gt; ModelInterestModel(@☰#17↝🕹&#39;#Agent.move&#39;↕2 | @☰#28↝👁&#39;#Agent.lidar&#39;:PRE↕8 =&gt; @☰#12↝👁&#39;#Cylinder1.position&#39;↕2)\n@@@@ =&gt; 0.823717541701247 0.7439670138328945\n@@@@ =&gt; 0.823717541701247 0.7439670138328945\n@@@@ Attempt ModelInterestModel(@☰#17↝🕹&#39;#Agent.move&#39;↕2 | @☰#32↝👁&#39;#Cylinder2.positionToAgent&#39;:PRE↕2 =&gt; @☰#15↝👁&#39;#Cylinder2.positionToAgent&#39;↕2) -&gt; ModelInterestModel(@☰#17↝🕹&#39;#Agent.move&#39;↕2 | @☰#32↝👁&#39;#Cylinder2.positionToAgent&#39;:PRE↕2 =&gt; @☰#15↝👁&#39;#Cylinder2.positionToAgent&#39;↕2)\n@@@@ =&gt; 0.8214274902921356 0.6983527298589265\n2020-10-01 11:59:14 RedSky exlogger:c[3500] INFO [model] Model removed: ❌ModelInterestModel(@☰#17↝🕹&#39;#Agent.move&#39;↕2 | @☰#32↝👁&#39;#Cylinder2.positionToAgent&#39;:PRE↕2 =&gt; @☰#15↝👁&#39;#Cylinder2.positionToAgent&#39;↕2)\n2020-10-01 11:59:14 RedSky exlogger:c[3500] INFO [model] New model added: ModelInterestModel(@☰#17↝🕹&#39;#Agent.move&#39;↕2 | @☰#32↝👁&#39;#Cylinder2.positionToAgent&#39;:PRE↕2 =&gt; @☰#15↝👁&#39;#Cylinder2.positionToAgent&#39;↕2)\n2020-10-01 11:59:14 RedSky exlogger:c[3500] INFO [adaptation] Modified ❌ModelInterestModel(@☰#17↝🕹&#39;#Agent.move&#39;↕2 | @☰#32↝👁&#39;#Cylinder2.positionToAgent&#39;:PRE↕2 =&gt; @☰#15↝👁&#39;#Cylinder2.positionToAgent&#39;↕2) into ModelInterestModel(@☰#17↝🕹&#39;#Agent.move&#39;↕2 | @☰#32↝👁&#39;#Cylinder2.positionToAgent&#39;:PRE↕2 =&gt; @☰#15↝👁&#39;#Cylinder2.positionToAgent&#39;↕2), merging [❌ModelInterestModel(@☰#17↝🕹&#39;#Agent.move&#39;↕2 | @☰#32↝👁&#39;#Cylinder2.positionToAgent&#39;:PRE↕2 =&gt; @☰#15↝👁&#39;#Cylinder2.positionToAgent&#39;↕2)] due to a lower competence)\n@@@@ =&gt; 0.8214274902921356 0.6983527298589265\n/////////\n[@☰#28↝👁&#39;#Agent.lidar&#39;:PRE↕8, @☰#26↝👁&#39;#Agent.position&#39;:PRE↕2, @☰#32↝👁&#39;#Cylinder2.positionToAgent&#39;:PRE↕2] [1.0, 1.0, 1.0]\n@@@@ Attempt ModelInterestModel(@☰#9↝👁&#39;#Agent.position&#39;↕2 | @☰#30↝👁&#39;#Cylinder1.positionToAgent&#39;:PRE↕2 =&gt; @☰#15↝👁&#39;#Cylinder2.positionToAgent&#39;↕2) -&gt; ModelInterestModel(@☰#9↝👁&#39;#Agent.position&#39;↕2 | @☰∥#85⇉👁[↝👁&#39;#Cylinder1.positionToAgent&#39; ↝👁&#39;#Cylinder2.positionToAgent&#39;]↕4 =&gt; @☰#15↝👁&#39;#Cylinder2.positionToAgent&#39;↕2)\n@@@@ =&gt; 0.3844441041159546 0.7251364041150334\n/////////\n[@☰#28↝👁&#39;#Agent.lidar&#39;:PRE↕8, @☰#26↝👁&#39;#Agent.position&#39;:PRE↕2, @☰#32↝👁&#39;#Cylinder2.positionToAgent&#39;:PRE↕2] [1.0, 1.0, 0.6065306597126334]\n@@@@ Attempt ModelInterestModel(@☰#9↝👁&#39;#Agent.position&#39;↕2 | @☰#30↝👁&#39;#Cylinder1.positionToAgent&#39;:PRE↕2 =&gt; @☰#15↝👁&#39;#Cylinder2.positionToAgent&#39;↕2) -&gt; ModelInterestModel(@☰#9↝👁&#39;#Agent.position&#39;↕2 | @☰∥#85⇉👁[↝👁&#39;#Cylinder1.positionToAgent&#39; ↝👁&#39;#Cylinder2.positionToAgent&#39;]↕4 =&gt; @☰#15↝👁&#39;#Cylinder2.positionToAgent&#39;↕2)\n@@@@ =&gt; 0.38444410411595464 0.7251364041150334\n/////////\n[@☰#28↝👁&#39;#Agent.lidar&#39;:PRE↕8, @☰#26↝👁&#39;#Agent.position&#39;:PRE↕2, @☰#32↝👁&#39;#Cylinder2.positionToAgent&#39;:PRE↕2] [1.0, 1.0, 0.36787944117144233]\n@@@@ Attempt ModelInterestModel(@☰#9↝👁&#39;#Agent.position&#39;↕2 | @☰#30↝👁&#39;#Cylinder1.positionToAgent&#39;:PRE↕2 =&gt; @☰#15↝👁&#39;#Cylinder2.positionToAgent&#39;↕2) -&gt; ModelInterestModel(@☰#9↝👁&#39;#Agent.position&#39;↕2 | @☰∥#88⇉👁[↝👁&#39;#Cylinder1.positionToAgent&#39; ↝👁&#39;#Agent.lidar&#39;]↕10 =&gt; @☰#15↝👁&#39;#Cylinder2.positionToAgent&#39;↕2)\n@@@@ =&gt; 0.00033210800162348673 0.7251364041150334\n/////////\n[@☰#28↝👁&#39;#Agent.lidar&#39;:PRE↕8, @☰#26↝👁&#39;#Agent.position&#39;:PRE↕2, @☰#32↝👁&#39;#Cylinder2.positionToAgent&#39;:PRE↕2] [1.0, 1.0, 1.0]\n@@@@ Attempt ModelInterestModel(@☰#9↝👁&#39;#Agent.position&#39;↕2 | @☰#30↝👁&#39;#Cylinder1.positionToAgent&#39;:PRE↕2 =&gt; @☰#15↝👁&#39;#Cylinder2.positionToAgent&#39;↕2) -&gt; ModelInterestModel(@☰#9↝👁&#39;#Agent.position&#39;↕2 | @☰#28↝👁&#39;#Agent.lidar&#39;:PRE↕8 =&gt; @☰#15↝👁&#39;#Cylinder2.positionToAgent&#39;↕2)\n@@@@ =&gt; 0.6292017442373121 0.7251364041150334\n@@@@ =&gt; 0.6292017442373121 0.7251364041150334\n/////////\n[@☰#28↝👁&#39;#Agent.lidar&#39;:PRE↕8, @☰#26↝👁&#39;#Agent.position&#39;:PRE↕2, @☰#30↝👁&#39;#Cylinder1.positionToAgent&#39;:PRE↕2, @☰#32↝👁&#39;#Cylinder2.positionToAgent&#39;:PRE↕2] [1.0, 1.0, 1.0, 1.0]\n@@@@ Attempt ModelInterestModel(@☰#15↝👁&#39;#Cylinder2.positionToAgent&#39;↕2 | @NullSpace =&gt; @☰#13↝👁&#39;#Cylinder1.positionToAgent&#39;↕2) -&gt; ModelInterestModel(@☰#15↝👁&#39;#Cylinder2.positionToAgent&#39;↕2 | @☰#26↝👁&#39;#Agent.position&#39;:PRE↕2 =&gt; @☰#13↝👁&#39;#Cylinder1.positionToAgent&#39;↕2)\n@@@@ =&gt; 0.11663756358450249 0.5527954408093418\n/////////\n[@☰#28↝👁&#39;#Agent.lidar&#39;:PRE↕8, @☰#26↝👁&#39;#Agent.position&#39;:PRE↕2, @☰#30↝👁&#39;#Cylinder1.positionToAgent&#39;:PRE↕2, @☰#32↝👁&#39;#Cylinder2.positionToAgent&#39;:PRE↕2] [1.0, 0.6065306597126334, 1.0, 1.0]\n@@@@ Attempt ModelInterestModel(@☰#15↝👁&#39;#Cylinder2.positionToAgent&#39;↕2 | @NullSpace =&gt; @☰#13↝👁&#39;#Cylinder1.positionToAgent&#39;↕2) -&gt; ModelInterestModel(@☰#15↝👁&#39;#Cylinder2.positionToAgent&#39;↕2 | @☰#30↝👁&#39;#Cylinder1.positionToAgent&#39;:PRE↕2 =&gt; @☰#13↝👁&#39;#Cylinder1.positionToAgent&#39;↕2)\n2020-10-01 11:59:14 RedSky exlogger:c[3500] INFO [interest] Creating interestMap for model ModelInterestModel(@☰#15↝👁&#39;#Cylinder2.positionToAgent&#39;↕2 | @NullSpace =&gt; @☰#13↝👁&#39;#Cylinder1.positionToAgent&#39;↕2), strategy Strategy autonomousStrategy\n2020-10-01 11:59:14 RedSky exlogger:c[3500] INFO [interest] Splitting along dim 2: -21.4682 for Region @☰∥#57⇉👁[↝👁&#39;#Cylinder2.position&#39; ↝👁&#39;#Cylinder1.positionToAgent&#39;]↕4\n    Left: None\n    &lt;Cut 2d -21.4682 #4&gt;\n    Right: None\n2020-10-01 11:59:14 RedSky exlogger:c[3500] INFO [interest] Splitting along dim 0: 10.0516 for Region @☰#9↝👁&#39;#Agent.position&#39;↕2\n    Left: None\n    &lt;Cut 0d 10.0516 #2&gt;\n    Right: None\n2020-10-01 11:59:15 RedSky exlogger:c[3500] INFO [interest] Creating interestMap for model ModelInterestModel(@☰#9↝👁&#39;#Agent.position&#39;↕2 | @☰#30↝👁&#39;#Cylinder1.positionToAgent&#39;:PRE↕2 =&gt; @☰#15↝👁&#39;#Cylinder2.positionToAgent&#39;↕2), strategy Strategy autonomousStrategy\n2020-10-01 11:59:15 RedSky exlogger:c[3500] INFO [interest] Creating interestMap for model ModelInterestModel(@☰#17↝🕹&#39;#Agent.move&#39;↕2 | @☰#32↝👁&#39;#Cylinder2.positionToAgent&#39;:PRE↕2 =&gt; @☰#15↝👁&#39;#Cylinder2.positionToAgent&#39;↕2), strategy Strategy autonomousStrategy\n@@@@ =&gt; 0.19703824783527707 0.5527954408093418\n/////////\n[@☰#28↝👁&#39;#Agent.lidar&#39;:PRE↕8, @☰#26↝👁&#39;#Agent.position&#39;:PRE↕2, @☰#30↝👁&#39;#Cylinder1.positionToAgent&#39;:PRE↕2, @☰#32↝👁&#39;#Cylinder2.positionToAgent&#39;:PRE↕2] [1.0, 0.6065306597126334, 0.6065306597126334, 1.0]\n@@@@ Attempt ModelInterestModel(@☰#15↝👁&#39;#Cylinder2.positionToAgent&#39;↕2 | @NullSpace =&gt; @☰#13↝👁&#39;#Cylinder1.positionToAgent&#39;↕2) -&gt; ModelInterestModel(@☰#15↝👁&#39;#Cylinder2.positionToAgent&#39;↕2 | @☰#28↝👁&#39;#Agent.lidar&#39;:PRE↕8 =&gt; @☰#13↝👁&#39;#Cylinder1.positionToAgent&#39;↕2)\n@@@@ =&gt; 0.09175984978717634 0.5527954408093418\n2020-10-01 11:59:15 RedSky exlogger:c[3500] INFO [interest] Splitting along dim 3: 13.2783 for Region @☰∥#57⇉👁[↝👁&#39;#Cylinder2.position&#39; ↝👁&#39;#Cylinder1.positionToAgent&#39;]↕4\n    Left: None\n    &lt;Cut 3d 13.2783 #4&gt;\n    Right: None\n"
    }
   ],
   "source": [
    "for _ in range(5):\n",
    "    learner.train(20)\n",
    "    env.run()\n",
    "\n",
    "    competences[learner.iteration] = learner.dataset.competences(precise=True)"
   ]
  },
  {
   "source": [
    "## Affordances"
   ],
   "cell_type": "markdown",
   "metadata": {}
  },
  {
   "cell_type": "code",
   "execution_count": 58,
   "metadata": {},
   "outputs": [
    {
     "output_type": "execute_result",
     "data": {
      "text/plain": "[Agent:0#Agent bound to root:0,\n Cylinder:0#Cylinder1 bound to root:0,\n Cylinder:1#Cylinder2 bound to root:0]"
     },
     "metadata": {},
     "execution_count": 58
    }
   ],
   "source": [
    "cyl2 = env.world.cascadingChild('#Cylinder2')\n",
    "env.world.cascadingChildren()"
   ]
  },
  {
   "cell_type": "code",
   "execution_count": 27,
   "metadata": {
    "tags": []
   },
   "outputs": [
    {
     "output_type": "stream",
     "name": "stdout",
     "text": "hello\nhello\nhello\nhello\nhello\nhello\n"
    }
   ],
   "source": [
    "from cdl.agents.tools.models.affordance import Affordance\n",
    "aff = Affordance(learner.dataset, learner.propertySpace('Agent.move'), learner.propertySpace('#Cylinder1.position'), learner.propertySpace('#Cylinder1.positionToAgent'), register=False)"
   ]
  },
  {
   "cell_type": "code",
   "execution_count": 45,
   "metadata": {},
   "outputs": [
    {
     "output_type": "execute_result",
     "data": {
      "text/plain": "{Entity (A)}"
     },
     "metadata": {},
     "execution_count": 45
    }
   ],
   "source": [
    "aff.abstractOutcomeSpace.abstractedEntities()"
   ]
  },
  {
   "cell_type": "code",
   "execution_count": 57,
   "metadata": {
    "tags": []
   },
   "outputs": [
    {
     "output_type": "execute_result",
     "data": {
      "text/plain": "{Property position}"
     },
     "metadata": {},
     "execution_count": 57
    }
   ],
   "source": [
    "aff.abstractOutcomeSpace.abstractedEntityProperties().get(aff.mainEntity())"
   ]
  },
  {
   "cell_type": "code",
   "execution_count": 41,
   "metadata": {},
   "outputs": [
    {
     "output_type": "execute_result",
     "data": {
      "text/plain": "Property position"
     },
     "metadata": {},
     "execution_count": 41
    }
   ],
   "source": [
    "list(aff.abstractOutcomeSpace.children)[0].element"
   ]
  },
  {
   "cell_type": "code",
   "execution_count": 59,
   "metadata": {},
   "outputs": [
    {
     "output_type": "error",
     "ename": "AttributeError",
     "evalue": "&#39;Affordance&#39; object has no attribute &#39;compatibleEntity&#39;",
     "traceback": [
      "\u001b[1;31m---------------------------------------------------------------------------\u001b[0m",
      "\u001b[1;31mAttributeError\u001b[0m                            Traceback (most recent call last)",
      "\u001b[1;32m&lt;ipython-input-59-33a962238051&gt;\u001b[0m in \u001b[0;36m&lt;module&gt;\u001b[1;34m\u001b[0m\n\u001b[1;32m----&gt; 1\u001b[1;33m \u001b[0maff\u001b[0m\u001b[1;33m.\u001b[0m\u001b[0mcompatibleEntity\u001b[0m\u001b[1;33m(\u001b[0m\u001b[0mcyl2\u001b[0m\u001b[1;33m)\u001b[0m\u001b[1;33m\u001b[0m\u001b[1;33m\u001b[0m\u001b[0m\n\u001b[0m",
      "\u001b[1;31mAttributeError\u001b[0m: &#39;Affordance&#39; object has no attribute &#39;compatibleEntity&#39;"
     ]
    }
   ],
   "source": [
    "aff.compatibleEntity(cyl2)"
   ]
  },
  {
   "source": [
    "## Results"
   ],
   "cell_type": "markdown",
   "metadata": {}
  },
  {
   "cell_type": "code",
   "execution_count": null,
   "metadata": {
    "tags": []
   },
   "outputs": [],
   "source": [
    "# %prun -s cumtime learner.train(20)"
   ]
  },
  {
   "cell_type": "code",
   "execution_count": 10,
   "metadata": {},
   "outputs": [
    {
     "output_type": "execute_result",
     "data": {
      "text/plain": "{ModelInterestModel(@☰#17↝🕹&#39;#Agent.move&#39;↕2 | @NullSpace =&gt; @☰#9↝👁&#39;#Agent.position&#39;↕2): 0.9999666031125396,\n ModelInterestModel(@☰#17↝🕹&#39;#Agent.move&#39;↕2 | @☰#31↝👁&#39;#Cylinder2.position&#39;:PRE↕2 =&gt; @☰#13↝👁&#39;#Cylinder1.positionToAgent&#39;↕2): 0.9781625257848863,\n ModelInterestModel(@☰#9↝👁&#39;#Agent.position&#39;↕2 | @NullSpace =&gt; @☰#13↝👁&#39;#Cylinder1.positionToAgent&#39;↕2): 0.9843602747885332,\n ModelInterestModel(@☰#17↝🕹&#39;#Agent.move&#39;↕2 | @☰#28↝👁&#39;#Agent.lidar&#39;:PRE↕8 =&gt; @☰#12↝👁&#39;#Cylinder1.position&#39;↕2): 0.8827349469043861,\n ModelInterestModel(@☰#9↝👁&#39;#Agent.position&#39;↕2 | @☰#30↝👁&#39;#Cylinder1.positionToAgent&#39;:PRE↕2 =&gt; @☰#15↝👁&#39;#Cylinder2.positionToAgent&#39;↕2): 0.8249101370980685,\n ModelInterestModel(@☰#15↝👁&#39;#Cylinder2.positionToAgent&#39;↕2 | @NullSpace =&gt; @☰#13↝👁&#39;#Cylinder1.positionToAgent&#39;↕2): 0.7692189320473624,\n ModelInterestModel(@☰#17↝🕹&#39;#Agent.move&#39;↕2 | @☰#32↝👁&#39;#Cylinder2.positionToAgent&#39;:PRE↕2 =&gt; @☰#15↝👁&#39;#Cylinder2.positionToAgent&#39;↕2): 0.7814583535704414}"
     },
     "metadata": {},
     "execution_count": 10
    }
   ],
   "source": [
    "learner.dataset.invalidateCompetences()\n",
    "learner.dataset.competences(precise=True)"
   ]
  },
  {
   "cell_type": "code",
   "execution_count": 40,
   "metadata": {},
   "outputs": [
    {
     "output_type": "execute_result",
     "data": {
      "text/plain": "[Model(@☰#13↝🕹&#39;#Agent.move&#39;↕2 | @☰#22↝👁&#39;#Agent.lidar&#39;:PRE↕8 =&gt; @☰#11↝👁&#39;#Cylinder1.positionToAgent&#39;↕2),\n Model(@☰#13↝🕹&#39;#Agent.move&#39;↕2 | @NullSpace =&gt; @☰#7↝👁&#39;#Agent.position&#39;↕2),\n ❌Model(@☰#7↝👁&#39;#Agent.position&#39;↕2 | @☰#22↝👁&#39;#Agent.lidar&#39;:PRE↕8 =&gt; @☰#11↝👁&#39;#Cylinder1.positionToAgent&#39;↕2),\n ❌Model(@☰#11↝👁&#39;#Cylinder1.positionToAgent&#39;↕2 | @☰#22↝👁&#39;#Agent.lidar&#39;:PRE↕8 =&gt; @☰#10↝👁&#39;#Cylinder1.position&#39;↕2),\n Model(@☰#7↝👁&#39;#Agent.position&#39;↕2 | @☰#24↝👁&#39;#Cylinder1.positionToAgent&#39;:PRE↕2 =&gt; @☰#10↝👁&#39;#Cylinder1.position&#39;↕2),\n ❌Model(@☰#11↝👁&#39;#Cylinder1.positionToAgent&#39;↕2 | @☰#23↝👁&#39;#Cylinder1.position&#39;:PRE↕2 =&gt; @☰#10↝👁&#39;#Cylinder1.position&#39;↕2),\n Model(@☰#13↝🕹&#39;#Agent.move&#39;↕2 | @☰#22↝👁&#39;#Agent.lidar&#39;:PRE↕8 =&gt; @☰#10↝👁&#39;#Cylinder1.position&#39;↕2),\n Model(@☰#7↝👁&#39;#Agent.position&#39;↕2 | @☰#24↝👁&#39;#Cylinder1.positionToAgent&#39;:PRE↕2 =&gt; @☰#11↝👁&#39;#Cylinder1.positionToAgent&#39;↕2)]"
     },
     "metadata": {},
     "execution_count": 40
    }
   ],
   "source": [
    "learner.dataset.models"
   ]
  },
  {
   "cell_type": "code",
   "execution_count": null,
   "metadata": {},
   "outputs": [],
   "source": [
    "mrpp.contextSpacialization[0].allTrue()"
   ]
  },
  {
   "cell_type": "code",
   "execution_count": null,
   "metadata": {},
   "outputs": [],
   "source": [
    "learner.dataset.models[1].invalidateCompetences()\n",
    "learner.dataset.models[1].competence(precise=True)"
   ]
  },
  {
   "cell_type": "code",
   "execution_count": null,
   "metadata": {
    "tags": []
   },
   "outputs": [],
   "source": [
    "learner.adaptiveModelManager.evaluateModels(None)"
   ]
  },
  {
   "cell_type": "code",
   "execution_count": null,
   "metadata": {},
   "outputs": [],
   "source": [
    "[model.lowCompetenceSince for model in learner.dataset.enabledModels()]"
   ]
  },
  {
   "cell_type": "code",
   "execution_count": null,
   "metadata": {},
   "outputs": [],
   "source": [
    "competences"
   ]
  },
  {
   "cell_type": "code",
   "execution_count": null,
   "metadata": {
    "tags": []
   },
   "outputs": [],
   "source": [
    "[config.model for config in learner.configHistory]"
   ]
  },
  {
   "cell_type": "code",
   "execution_count": null,
   "metadata": {
    "tags": []
   },
   "outputs": [],
   "source": [
    "# learner.interestModel.sampleBestPoint()"
   ]
  },
  {
   "cell_type": "code",
   "execution_count": null,
   "metadata": {
    "tags": []
   },
   "outputs": [],
   "source": [
    "from exlab.modular.logger import Logger, logger, logging\n",
    "# logger().setRecordLevel(Logger.DEBUG2, 'performer')\n",
    "# logger().setDisplayLevel(Logger.DEBUG2, 'performer')\n",
    "# logger().setRecordLevel(Logger.DEBUG2, 'strategy')\n",
    "# logger().setDisplayLevel(Logger.DEBUG2, 'strategy')\n",
    "logger().setRecordLevel(Logger.DEBUG2, 'plan')\n",
    "logger().setDisplayLevel(Logger.DEBUG2, 'plan')\n",
    "# logger().setRecordLevel(logging.DEBUG, 'plan')\n",
    "# logger().setDisplayLevel(logging.DEBUG, 'plan')\n",
    "# logger().display(tag='plan')"
   ]
  },
  {
   "cell_type": "code",
   "execution_count": null,
   "metadata": {
    "tags": []
   },
   "outputs": [],
   "source": [
    "learner.dataset.competences(precise=True)"
   ]
  },
  {
   "cell_type": "code",
   "execution_count": null,
   "metadata": {
    "tags": []
   },
   "outputs": [],
   "source": [
    "learner.dataset.competences(precise=True)"
   ]
  },
  {
   "cell_type": "code",
   "execution_count": null,
   "metadata": {},
   "outputs": [],
   "source": [
    "# mrpp.contextSpacialization[0].allTrue()"
   ]
  },
  {
   "cell_type": "code",
   "execution_count": null,
   "metadata": {},
   "outputs": [],
   "source": [
    "# mrp.contextSpacialization[1]._resetAreas()"
   ]
  },
  {
   "cell_type": "code",
   "execution_count": null,
   "metadata": {},
   "outputs": [],
   "source": [
    "[area.columns for area in learner.dataset.models[1].contextSpacialization[0].areas]"
   ]
  },
  {
   "cell_type": "code",
   "execution_count": null,
   "metadata": {},
   "outputs": [],
   "source": [
    "display(learner.dataset.models[1].contextSpacialization[0].visualizeAreas())"
   ]
  },
  {
   "cell_type": "code",
   "execution_count": null,
   "metadata": {
    "tags": []
   },
   "outputs": [],
   "source": [
    "display(learner.dataset.models[2].contextSpacialization[0].visualizeAreas())"
   ]
  },
  {
   "cell_type": "code",
   "execution_count": null,
   "metadata": {
    "tags": []
   },
   "outputs": [],
   "source": [
    "# mrp.eventForwardError(467)"
   ]
  },
  {
   "cell_type": "code",
   "execution_count": null,
   "metadata": {
    "tags": []
   },
   "outputs": [],
   "source": [
    "# eventId = 85\n",
    "# action = mrp.actionSpace.getPoint(eventId)[0]\n",
    "# outcome = mrp.outcomeSpace.getPoint(eventId)[0]\n",
    "# context = mrp.contextSpace.getPoint(eventId)[0]\n",
    "# print(action)\n",
    "# mrp.inverse(outcome, context=context)"
   ]
  },
  {
   "source": [
    "## Planning"
   ],
   "cell_type": "markdown",
   "metadata": {}
  },
  {
   "cell_type": "code",
   "execution_count": null,
   "metadata": {},
   "outputs": [],
   "source": [
    "goal = learner.propertySpace('#Cylinder1.positionToAgent').point([50, 0]).setRelative(False)\n",
    "learner.planner.planDistance(goal)"
   ]
  },
  {
   "cell_type": "code",
   "execution_count": null,
   "metadata": {},
   "outputs": [],
   "source": [
    "mrpp.inverse(learner.propertySpace('#Cylinder1.positionToAgent').goal([-10.882,  11.432]), context=env.state().context())"
   ]
  },
  {
   "cell_type": "code",
   "execution_count": null,
   "metadata": {},
   "outputs": [],
   "source": [
    "mrpp.forward(learner.propertySpace('Agent.position').action([10.960, -10.059]), context=env.state().context())"
   ]
  },
  {
   "cell_type": "code",
   "execution_count": null,
   "metadata": {
    "tags": []
   },
   "outputs": [],
   "source": [
    "mrp.inverse(learner.propertySpace('#Cylinder1.positionToAgent').action([3, 0]), context=context)"
   ]
  },
  {
   "cell_type": "code",
   "execution_count": null,
   "metadata": {
    "tags": []
   },
   "outputs": [],
   "source": [
    "mrp.inverse(learner.propertySpace('#Cylinder1.positionToAgent').action([3, 0]), context=env.state().context())"
   ]
  },
  {
   "cell_type": "code",
   "execution_count": null,
   "metadata": {
    "tags": []
   },
   "outputs": [],
   "source": [
    "learner.reach(learner.propertySpace('Agent.position').point([50, 0]).setRelative(True))\n",
    "env.run()"
   ]
  },
  {
   "cell_type": "code",
   "execution_count": null,
   "metadata": {
    "tags": []
   },
   "outputs": [],
   "source": [
    "config = MoveConfig(goal=learner.propertySpace('#Cylinder1.positionToAgent').point([-60, 0]).setRelative(False))\n",
    "config.plannerSettings.dontMoveSpaces.append(learner.propertySpace('#Cylinder1.position'))\n",
    "learner.reach(config)\n",
    "env.run()"
   ]
  },
  {
   "cell_type": "code",
   "execution_count": null,
   "metadata": {},
   "outputs": [],
   "source": [
    "env.world.observe()"
   ]
  },
  {
   "cell_type": "code",
   "execution_count": null,
   "metadata": {
    "tags": []
   },
   "outputs": [],
   "source": [
    "learner.reach(learner.propertySpace('#Cylinder1.position').point([50, 0]).setRelative(True))\n",
    "env.run()"
   ]
  },
  {
   "cell_type": "code",
   "execution_count": null,
   "metadata": {
    "tags": []
   },
   "outputs": [],
   "source": [
    "mrpp.forward(learner.propertySpace('Agent.position').action([22.107, -2.817]), context=env.state().context())"
   ]
  },
  {
   "cell_type": "code",
   "execution_count": null,
   "metadata": {
    "tags": []
   },
   "outputs": [],
   "source": [
    "mrpp.inverse(learner.propertySpace('#Cylinder1.positionToAgent').action([-12.170,  0.149]), context=env.state().context())"
   ]
  },
  {
   "cell_type": "code",
   "execution_count": null,
   "metadata": {},
   "outputs": [],
   "source": [
    "learner.propertySpace('Agent.move').convertTo(spaceManager=learner.dataset)"
   ]
  },
  {
   "cell_type": "code",
   "execution_count": null,
   "metadata": {
    "tags": []
   },
   "outputs": [],
   "source": [
    "learner.reach(learner.propertySpace('#Cylinder1.position').point([0, -10]).setRelative(True))\n",
    "env.run()"
   ]
  },
  {
   "cell_type": "code",
   "execution_count": null,
   "metadata": {},
   "outputs": [],
   "source": [
    "learner.propertySpace('Agent.position').point([0, 0])"
   ]
  },
  {
   "cell_type": "code",
   "execution_count": null,
   "metadata": {},
   "outputs": [],
   "source": [
    "learner.dataset.spaces"
   ]
  },
  {
   "cell_type": "code",
   "execution_count": null,
   "metadata": {},
   "outputs": [],
   "source": [
    "learner.dataset.spaces[7].maxDistancePerColumn"
   ]
  },
  {
   "cell_type": "code",
   "execution_count": null,
   "metadata": {},
   "outputs": [],
   "source": [
    "learner.propertySpace('Agent.move').maxDistancePerColumn"
   ]
  },
  {
   "cell_type": "code",
   "execution_count": null,
   "metadata": {
    "tags": []
   },
   "outputs": [],
   "source": [
    "display(learner.propertySpace('Agent.move').visualizeData(), learner.propertySpace('Agent.position').visualizeData())"
   ]
  },
  {
   "cell_type": "code",
   "execution_count": null,
   "metadata": {
    "tags": []
   },
   "outputs": [],
   "source": [
    "display(learner.propertySpace('Agent.move').visualizeData(), learner.propertySpace('#Cylinder1.positionToAgent').visualizeData())"
   ]
  },
  {
   "cell_type": "code",
   "execution_count": null,
   "metadata": {
    "tags": []
   },
   "outputs": [],
   "source": [
    "from dino.data.space import SpaceKind\n",
    "display(learner.propertySpace('#Cylinder1.positionToAgent', kind=SpaceKind.PRE).visualizeData(), learner.propertySpace('#Cylinder1.position').visualizeData())"
   ]
  },
  {
   "cell_type": "code",
   "execution_count": null,
   "metadata": {},
   "outputs": [],
   "source": [
    "im = list(learner.dataset.models[0].interestMaps.values())[0]\n",
    "display(im.visualizeData())"
   ]
  },
  {
   "cell_type": "code",
   "execution_count": null,
   "metadata": {},
   "outputs": [],
   "source": [
    "im"
   ]
  }
 ]
}