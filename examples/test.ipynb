{
 "metadata": {
  "language_info": {
   "codemirror_mode": {
    "name": "ipython",
    "version": 3
   },
   "file_extension": ".py",
   "mimetype": "text/x-python",
   "name": "python",
   "nbconvert_exporter": "python",
   "pygments_lexer": "ipython3",
   "version": "3.8.3-final"
  },
  "orig_nbformat": 2,
  "kernelspec": {
   "name": "python_defaultSpec_1600765327064",
   "display_name": "Python 3.8.3 64-bit"
  }
 },
 "nbformat": 4,
 "nbformat_minor": 2,
 "cells": [
  {
   "cell_type": "code",
   "execution_count": 1,
   "metadata": {
    "tags": []
   },
   "outputs": [
    {
     "output_type": "execute_result",
     "data": {
      "text/plain": "'c:\\\\Data\\\\Projects\\\\phd\\\\cdl\\\\env\\\\Scripts\\\\python.exe'"
     },
     "metadata": {},
     "execution_count": 1
    }
   ],
   "source": [
    "%load_ext autoreload\n",
    "%autoreload 2\n",
    "# %matplotlib widget\n",
    "%matplotlib\n",
    "\n",
    "import sys\n",
    "sys.executable"
   ]
  },
  {
   "cell_type": "code",
   "execution_count": 2,
   "metadata": {
    "tags": []
   },
   "outputs": [
    {
     "output_type": "stream",
     "name": "stdout",
     "text": "pygame 1.9.6\nHello from the pygame community. https://www.pygame.org/contribute.html\nLoading chipmunk for Windows (64bit) [c:\\Data\\Projects\\phd\\cdl\\env\\lib\\site-packages\\pymunk\\chipmunk.dll]\n2020-09-22 15:11:50 BlackSky exlogger:c[33152] INFO [modular] Module 'PlaygroundEnvironment' has been started\n"
    }
   ],
   "source": [
    "from dino.environments.playground import PlaygroundEnvironment\n",
    "from exlab.interface.graph import display\n",
    "env = PlaygroundEnvironment()"
   ]
  },
  {
   "cell_type": "code",
   "execution_count": 3,
   "metadata": {},
   "outputs": [
    {
     "output_type": "execute_result",
     "data": {
      "text/plain": "<PIL.Image.Image image mode=RGBA size=300x300 at 0x1F4990F1310>",
      "image/png": "[encoded data removed]"
     },
     "metadata": {},
     "execution_count": 3
    }
   ],
   "source": [
    "# env.displayGui(True)\n",
    "env.image()"
   ]
  },
  {
   "cell_type": "code",
   "execution_count": 4,
   "metadata": {
    "tags": []
   },
   "outputs": [
    {
     "output_type": "stream",
     "name": "stderr",
     "text": "2020-09-22 15:11:54 BlackSky exlogger:c[33152] INFO [modular] Module 'ModelDataset' has been started\n2020-09-22 15:11:54 BlackSky exlogger:c[33152] INFO [modular] Module 'ModelDataset' has been started\n2020-09-22 15:11:54 BlackSky exlogger:c[33152] INFO [modular] Module 'Agent' has been started\n2020-09-22 15:11:54 BlackSky exlogger:c[33152] INFO [modular] Module 'Performer' has been started\n2020-09-22 15:11:54 BlackSky exlogger:c[33152] INFO [modular] Module 'planner' has been started\n2020-09-22 15:11:54 BlackSky exlogger:c[33152] INFO [modular] Module 'ModelDataset' has been attached to 'Agent'\n2020-09-22 15:11:54 BlackSky exlogger:c[33152] INFO [modular] Module 'InterestModelManager' has been started\n2020-09-22 15:11:54 BlackSky exlogger:c[33152] INFO [modular] Module 'Strategy autonomousStrategy' has been started\n2020-09-22 15:11:54 BlackSky exlogger:c[33152] INFO [modular] Module 'Strategy autonomousStrategy' has been started\n"
    }
   ],
   "source": [
    "from cdl.agents.learners.curiosity.saggriac import SAGGLearner\n",
    "learner = SAGGLearner(env.world.findHost())"
   ]
  },
  {
   "cell_type": "code",
   "execution_count": 5,
   "metadata": {
    "tags": []
   },
   "outputs": [],
   "source": [
    "from cdl.agents.tools.models.interest_model import InterestModel\n",
    "mnc = InterestModel(learner.dataset, learner.propertySpace('Agent.move'), learner.propertySpace('Agent.position'), register=False)\n",
    "# InterestModel(learner.dataset, learner.propertySpace('Agent.move'), learner.propertySpace('#Cylinder1.position'), learner.propertySpace('#Cylinder1.positionToAgent'))"
   ]
  },
  {
   "cell_type": "code",
   "execution_count": 6,
   "metadata": {},
   "outputs": [],
   "source": [
    "mnc.contextColumns(None, None)"
   ]
  },
  {
   "cell_type": "code",
   "execution_count": 6,
   "metadata": {
    "tags": []
   },
   "outputs": [
    {
     "output_type": "stream",
     "name": "stderr",
     "text": "2020-09-22 15:11:56 BlackSky exlogger:c[33152] INFO [model] New model added: Model(@☰#4↝🕹'#Agent.move'↕2 | @☰#9↝👁'#Agent.lidar':PRE↕8 => @☰#5↝👁'#Agent.position'↕2)\n"
    }
   ],
   "source": [
    "mc = InterestModel(learner.dataset, learner.propertySpace('Agent.move'), learner.propertySpace('Agent.position'), learner.propertySpace('Agent.lidar'))"
   ]
  },
  {
   "cell_type": "code",
   "execution_count": 8,
   "metadata": {},
   "outputs": [
    {
     "output_type": "execute_result",
     "data": {
      "text/plain": "array([False, False, False, False, False, False, False, False])"
     },
     "metadata": {},
     "execution_count": 8
    }
   ],
   "source": [
    "mc.contextSpacialization.columns(None)"
   ]
  },
  {
   "cell_type": "code",
   "execution_count": 9,
   "metadata": {},
   "outputs": [],
   "source": [
    "# from dino.data.contextarea import ContextSpatialization, ContextArea\n",
    "# cs = ContextSpatialization(learner.dataset.models[0], learner.propertySpace('Agent.position'))"
   ]
  },
  {
   "cell_type": "code",
   "execution_count": 10,
   "metadata": {},
   "outputs": [],
   "source": [
    "# cs._addArea(ContextArea(cs, cs.space.point([10, 10])))"
   ]
  },
  {
   "cell_type": "code",
   "execution_count": 11,
   "metadata": {
    "tags": []
   },
   "outputs": [],
   "source": [
    "# cs.findArea(cs.space.point([10, 10]))"
   ]
  },
  {
   "cell_type": "code",
   "execution_count": 12,
   "metadata": {
    "tags": []
   },
   "outputs": [],
   "source": [
    "# from exlab.modular.logger import Logger, logger, logging\n",
    "# logger().setRecordLevel(Logger.DEBUG2, 'performer')\n",
    "# logger().setDisplayLevel(Logger.DEBUG2, 'performer')\n",
    "# logger().setRecordLevel(Logger.DEBUG2, 'strategy')\n",
    "# logger().setDisplayLevel(Logger.DEBUG2, 'strategy')\n",
    "# logger().setRecordLevel(Logger.DEBUG2, 'plan')\n",
    "# logger().setDisplayLevel(Logger.DEBUG2, 'plan')\n",
    "# logger().display(tag='plan')"
   ]
  },
  {
   "cell_type": "code",
   "execution_count": 186,
   "metadata": {
    "tags": []
   },
   "outputs": [],
   "source": [
    "learner.train(50)"
   ]
  },
  {
   "cell_type": "code",
   "execution_count": 187,
   "metadata": {
    "tags": []
   },
   "outputs": [
    {
     "output_type": "stream",
     "name": "stdout",
     "text": "Should del context column 5 (+-0.0003616528192402768) around Observation[#5↝👁'#Agent.position'↕2 @☰± 41.487,  50.758]\nConflict trying to update current area, creating a new one\nShould del context column 5 (+0.0011575397947943822) around Observation[#5↝👁'#Agent.position'↕2 @☰± 23.731,  23.673]\nConflict trying to update current area, creating a new one\n2020-09-22 16:10:32 BlackSky exlogger:c[33152] INFO [interest] Splitting along dim 5: 14.6904 for Region @☰∥#11⇉👁[↝👁'#Agent.position' ↝👁'#Agent.lidar']↕10\n    Left: None\n    <Cut 5d 14.6904 #10>\n    Right: None\n"
    }
   ],
   "source": [
    "env.run()"
   ]
  },
  {
   "cell_type": "code",
   "execution_count": 197,
   "metadata": {
    "tags": []
   },
   "outputs": [
    {
     "output_type": "stream",
     "name": "stdout",
     "text": "[  3   5   6   8  18  22  23  32  36  38  40  45  47  48  51  52  61  62\n  69  72  78  82  87  92  96  97 101 106 108 112 121 125 130 131 137 138\n 139 142 144 145 146 148 151 155 159 166 167 175 179 183 189 191 195 202\n 206 208 211 213 214 217 226 228 230 234 242 251 254 256 260 267 268 272\n 281 288 300 303 306 308 313 315 326 331 336 342 343 345 348 351 355 360\n 364 371 372 373 378 391 395 408 412 414 417 427 428 429 432 436 437 440\n 457 466 471 475 494 499 502 505 521 522 524 526 528 530 533 537 539 541\n 545 548 549 551 553 561 572 577 583 588 591 598 606 608 610]\n[  1   4  13  14  15  16  17  30  49  50  55  86  90  94  99 104 111 115\n 118 120 124 140 141 169 172 177 178 182 187 201 205 207 209 212 218 223\n 224 227 233 235 239 244 245 247 258 263 270 271 273 275 278 280 285 294\n 297 307 309 319 324 325 327 334 339 349 356 363 377 389 390 396 400 413\n 425 431 438 446 450 454 458 468 478 489 490 491 492 493 500 501 532 540\n 550 560 562 563 567 570 571 584 590 593 596 612 613 614]\n[  0  24  25  29  33  37  42  43  54  59  63  64  68  74  81  83  84  88\n  95 100 103 110 126 134 149 157 161 162 168 176 180 184 192 196 199 200\n 215 219 220 225 231 238 246 255 259 261 269 277 282 286 287 289 299 311\n 312 323 332 335 340 346 352 361 369 374 376 379 382 388 394 399 402 420\n 426 430 434 441 448 449 451 464 467 470 472 474 477 483 484 485 487 488\n 523 534 535 536 538 543 544 555 558 559 564 568 575 580 592 595 602 603\n 604 605 607]\n[  7  12  19  26  27  34  35  39  41  53  56  57  58  67  70  73  76  77\n  79  91  98 105 109 116 128 135 136 150 152 153 156 158 160 163 185 186\n 188 193 194 197 198 203 204 216 232 236 248 249 252 253 257 266 283 290\n 291 292 302 304 318 321 322 328 329 330 338 341 344 347 358 362 375 380\n 383 384 385 386 392 393 404 406 407 411 415 418 419 421 424 433 444 452\n 453 459 460 461 463 465 473 479 481 486 495 497 498 503 510 527 529 531\n 542 554 556 557 565 566 576 578 579 586 589 594 599 609 611 615]\n[ 66  80 117 122 123 129 154 164 171 221 241 298 310 314 350 354 365 381\n 387 397 401 409 410 439 456 520 569 574 585 597 616]\n[  2   9  10  11  20  21  28  31  44  46  60  65  71  75  85  89  93 102\n 107 113 114 119 127 132 133 143 147 165 170 173 174 181 190 210 222 229\n 237 240 243 250 262 264 265 274 276 279 284 293 295 296 301 305 316 317\n 320 333 337 353 357 359 366 367 368 370 398 403 405 416 422 423 435 442\n 443 445 447 455 462 469 476 480 482 496 504 511 525 546 547 552 573 581\n 582 587 600 601]\n"
    },
    {
     "output_type": "display_data",
     "data": {
      "text/plain": "Canvas(toolbar=Toolbar(toolitems=[('Home', 'Reset original view', 'home', 'home'), ('Back', 'Back to previous …",
      "application/vnd.jupyter.widget-view+json": {
       "version_major": 2,
       "version_minor": 0,
       "model_id": "8521f3ba57d543e488e02f20bf7de9c1"
      }
     },
     "metadata": {}
    }
   ],
   "source": [
    "display(mc.contextSpacialization.visualizeAreas())"
   ]
  },
  {
   "cell_type": "code",
   "execution_count": 189,
   "metadata": {},
   "outputs": [
    {
     "output_type": "execute_result",
     "data": {
      "text/plain": "[array([False, False, False, False, False,  True, False, False]),\n array([False, False, False, False, False, False, False, False]),\n array([False, False, False,  True, False, False, False, False]),\n array([False, False, False, False, False,  True, False, False]),\n array([False, False, False, False, False, False, False, False]),\n array([False, False, False, False, False, False, False, False])]"
     },
     "metadata": {},
     "execution_count": 189
    }
   ],
   "source": [
    "[area.columns for area in mc.contextSpacialization.areas]"
   ]
  },
  {
   "cell_type": "code",
   "execution_count": 23,
   "metadata": {},
   "outputs": [
    {
     "output_type": "execute_result",
     "data": {
      "text/plain": "array([100., 100., 100., 100., 100., 100., 100., 100., 100., 100., 100.,\n       100., 100., 100., 100., 100., 100., 100., 100., 100., 100., 100.,\n       100., 100., 100., 100., 100., 100., 100., 100., 100., 100., 100.,\n       100., 100., 100., 100., 100., 100., 100., 100., 100., 100., 100.,\n       100., 100., 100., 100., 100., 100., 100., 100., 100., 100., 100.,\n       100., 100., 100., 100., 100., 100., 100., 100., 100., 100., 100.,\n       100., 100., 100., 100., 100., 100., 100., 100., 100., 100., 100.,\n       100., 100., 100., 100., 100., 100., 100., 100., 100., 100., 100.,\n       100., 100., 100., 100., 100., 100., 100., 100., 100., 100., 100.,\n       100., 100., 100., 100., 100., 100., 100., 100., 100., 100., 100.,\n       100., 100., 100., 100., 100., 100., 100., 100., 100., 100., 100.,\n       100., 100., 100., 100., 100., 100., 100., 100., 100., 100., 100.,\n       100., 100., 100., 100., 100., 100., 100., 100., 100., 100., 100.,\n       100., 100., 100., 100., 100., 100., 100., 100., 100., 100., 100.,\n       100., 100., 100., 100., 100., 100., 100., 100., 100., 100., 100.,\n       100., 100., 100., 100., 100., 100., 100., 100., 100., 100., 100.,\n       100., 100., 100., 100., 100., 100., 100., 100., 100., 100., 100.,\n       100., 100., 100., 100., 100., 100., 100., 100., 100., 100., 100.,\n       100., 100.])"
     },
     "metadata": {},
     "execution_count": 23
    }
   ],
   "source": [
    "mc.contextSpace.data[:200, 0]"
   ]
  },
  {
   "cell_type": "code",
   "execution_count": 19,
   "metadata": {},
   "outputs": [],
   "source": [
    "learner.reach(learner.propertySpace('Agent.position').point([100, 100]).setRelative(False))"
   ]
  },
  {
   "cell_type": "code",
   "execution_count": 13,
   "metadata": {},
   "outputs": [],
   "source": [
    "learner.reach(learner.propertySpace('#Cylinder1.position').point([500, 200]).setRelative(False))"
   ]
  },
  {
   "cell_type": "code",
   "execution_count": 16,
   "metadata": {},
   "outputs": [
    {
     "output_type": "execute_result",
     "data": {
      "text/plain": "Data[#6↝👁'#Agent.position'↕2 @☰± 0.000,  0.000]"
     },
     "metadata": {},
     "execution_count": 16
    }
   ],
   "source": [
    "learner.propertySpace('Agent.position').point([0, 0])"
   ]
  },
  {
   "cell_type": "code",
   "execution_count": 18,
   "metadata": {},
   "outputs": [
    {
     "output_type": "execute_result",
     "data": {
      "text/plain": "Observation[Observation[#0→👁'#Agent.position'↕2 @± 362.759,  305.029]\n    Observation[#1→👁'#Agent.positionToAgent'↕2 @± 0.000,  0.000]\n    Observation[#2→👁'#Agent.lidar'↕8 @± 100.000,  100.000,  100.000,  100.000,  100.000,  100.000,  100.000,  100.000]]"
     },
     "metadata": {},
     "execution_count": 18
    }
   ],
   "source": [
    "env.world.observe()"
   ]
  },
  {
   "cell_type": "code",
   "execution_count": null,
   "metadata": {},
   "outputs": [],
   "source": []
  },
  {
   "cell_type": "code",
   "execution_count": 11,
   "metadata": {},
   "outputs": [
    {
     "output_type": "execute_result",
     "data": {
      "text/plain": "200"
     },
     "metadata": {},
     "execution_count": 11
    }
   ],
   "source": [
    "env.iteration"
   ]
  },
  {
   "cell_type": "code",
   "execution_count": 18,
   "metadata": {},
   "outputs": [
    {
     "output_type": "execute_result",
     "data": {
      "text/plain": "3"
     },
     "metadata": {},
     "execution_count": 18
    }
   ],
   "source": [
    "learner.iteration"
   ]
  },
  {
   "cell_type": "code",
   "execution_count": 69,
   "metadata": {},
   "outputs": [
    {
     "output_type": "execute_result",
     "data": {
      "text/plain": "512"
     },
     "metadata": {},
     "execution_count": 69
    }
   ],
   "source": [
    "learner.dataset.spaces[0].number"
   ]
  },
  {
   "cell_type": "code",
   "execution_count": 70,
   "metadata": {},
   "outputs": [
    {
     "output_type": "execute_result",
     "data": {
      "text/plain": "array([[ 0.32286985, -0.19646247],\n       [ 0.37222594,  0.07765963],\n       [ 0.2425151 , -0.68859405],\n       ...,\n       [ 0.        ,  0.        ],\n       [ 0.        ,  0.        ],\n       [ 0.        ,  0.        ]])"
     },
     "metadata": {},
     "execution_count": 70
    }
   ],
   "source": [
    "learner.dataset.spaces[0].data"
   ]
  },
  {
   "cell_type": "code",
   "execution_count": 20,
   "metadata": {},
   "outputs": [
    {
     "output_type": "execute_result",
     "data": {
      "text/plain": "11"
     },
     "metadata": {},
     "execution_count": 20
    }
   ],
   "source": [
    "env.iteration"
   ]
  },
  {
   "cell_type": "code",
   "execution_count": 29,
   "metadata": {
    "tags": []
   },
   "outputs": [
    {
     "output_type": "stream",
     "name": "stdout",
     "text": "Model(@☰#4↝🕹'#Agent.move'↕2 | @☰#9↝👁'#Agent.lidar':PRE↕8 => @☰#5↝👁'#Agent.position'↕2)\nModel(@☰#4↝🕹'#Agent.move'↕2 | @NullSpace => @☰#5↝👁'#Agent.position'↕2)\n"
    }
   ],
   "source": [
    "print(mc)\n",
    "print(mnc)"
   ]
  },
  {
   "cell_type": "code",
   "execution_count": 192,
   "metadata": {
    "tags": []
   },
   "outputs": [
    {
     "output_type": "execute_result",
     "data": {
      "text/plain": "0.7627940699812723"
     },
     "metadata": {},
     "execution_count": 192
    }
   ],
   "source": [
    "mnc.competence(precise=True)"
   ]
  },
  {
   "cell_type": "code",
   "execution_count": 193,
   "metadata": {
    "tags": []
   },
   "outputs": [
    {
     "output_type": "execute_result",
     "data": {
      "text/plain": "0.9865840288174422"
     },
     "metadata": {},
     "execution_count": 193
    }
   ],
   "source": [
    "mc.competence(precise=True)"
   ]
  },
  {
   "cell_type": "code",
   "execution_count": 180,
   "metadata": {},
   "outputs": [
    {
     "output_type": "execute_result",
     "data": {
      "text/plain": "<bound method ContextSpatialization.columns of <dino.data.contextarea.ContextSpatialization object at 0x000001F4990EA670>>"
     },
     "metadata": {},
     "execution_count": 180
    }
   ],
   "source": []
  },
  {
   "cell_type": "code",
   "execution_count": 9,
   "metadata": {
    "tags": []
   },
   "outputs": [
    {
     "output_type": "display_data",
     "data": {
      "text/plain": "Canvas(toolbar=Toolbar(toolitems=[('Home', 'Reset original view', 'home', 'home'), ('Back', 'Back to previous …",
      "application/vnd.jupyter.widget-view+json": {
       "version_major": 2,
       "version_minor": 0,
       "model_id": "fece65bc895d423394c6c5e5cebfda93"
      }
     },
     "metadata": {}
    }
   ],
   "source": [
    "display(learner.propertySpace('Agent.move').visualizeData(), learner.propertySpace('Agent.position').visualizeData())"
   ]
  },
  {
   "cell_type": "code",
   "execution_count": 10,
   "metadata": {},
   "outputs": [
    {
     "output_type": "display_data",
     "data": {
      "text/plain": "Canvas(toolbar=Toolbar(toolitems=[('Home', 'Reset original view', 'home', 'home'), ('Back', 'Back to previous …",
      "application/vnd.jupyter.widget-view+json": {
       "version_major": 2,
       "version_minor": 0,
       "model_id": "7f3639fc8733437596799cfa4bc46f73"
      }
     },
     "metadata": {}
    }
   ],
   "source": [
    "display(learner.propertySpace('Agent.move').visualizeData(), learner.propertySpace('#Cylinder1.position').visualizeData())"
   ]
  },
  {
   "cell_type": "code",
   "execution_count": 21,
   "metadata": {},
   "outputs": [
    {
     "output_type": "execute_result",
     "data": {
      "text/plain": "@☰#14↝👁'#Cylinder1.position'↕2"
     },
     "metadata": {},
     "execution_count": 21
    }
   ],
   "source": [
    "learner.propertySpace('#Cylinder1.position')"
   ]
  },
  {
   "cell_type": "code",
   "execution_count": 26,
   "metadata": {},
   "outputs": [
    {
     "output_type": "display_data",
     "data": {
      "text/plain": "Canvas(toolbar=Toolbar(toolitems=[('Home', 'Reset original view', 'home', 'home'), ('Back', 'Back to previous …",
      "application/vnd.jupyter.widget-view+json": {
       "version_major": 2,
       "version_minor": 0,
       "model_id": "b91d10917d414ca4924fbc7a23045489"
      }
     },
     "metadata": {}
    }
   ],
   "source": [
    "im = list(learner.dataset.models[0].interestMaps.values())[0]\n",
    "display(im.visualizeData())"
   ]
  },
  {
   "cell_type": "code",
   "execution_count": 11,
   "metadata": {},
   "outputs": [
    {
     "output_type": "execute_result",
     "data": {
      "text/plain": "Region @☰#6↝👁'#Agent.position'↕2\n    Left: Region @☰#6↝👁'#Agent.position'↕2\n        Left: None\n        <Cut Noned 0.0000 #2>\n        Right: None\n    <Cut 0d -12.0612 #2>\n    Right: Region @☰#6↝👁'#Agent.position'↕2\n        Left: Region @☰#6↝👁'#Agent.position'↕2\n            Left: None\n            <Cut Noned 0.0000 #2>\n            Right: None\n        <Cut 0d -9.9797 #2>\n        Right: Region @☰#6↝👁'#Agent.position'↕2\n            Left: Region @☰#6↝👁'#Agent.position'↕2\n                Left: Region @☰#6↝👁'#Agent.position'↕2\n                    Left: None\n                    <Cut Noned 0.0000 #2>\n                    Right: None\n                <Cut 1d -19.2330 #2>\n                Right: Region @☰#6↝👁'#Agent.position'↕2\n                    Left: None\n                    <Cut Noned 0.0000 #2>\n                    Right: None\n            <Cut 0d 13.9845 #2>\n            Right: Region @☰#6↝👁'#Agent.position'↕2\n                Left: None\n                <Cut Noned 0.0000 #2>\n                Right: None"
     },
     "metadata": {},
     "execution_count": 11
    }
   ],
   "source": [
    "im"
   ]
  }
 ]
}