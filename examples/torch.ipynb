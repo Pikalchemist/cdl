{
 "metadata": {
  "language_info": {
   "codemirror_mode": {
    "name": "ipython",
    "version": 3
   },
   "file_extension": ".py",
   "mimetype": "text/x-python",
   "name": "python",
   "nbconvert_exporter": "python",
   "pygments_lexer": "ipython3",
   "version": "3.8.3-final"
  },
  "orig_nbformat": 2,
  "kernelspec": {
   "name": "python3",
   "display_name": "Python 3.8.3 64-bit ('env')",
   "metadata": {
    "interpreter": {
     "hash": "28e765281bcf9ae015ef25da116cf546eb1738f420d6c46d8e33d5419d354008"
    }
   }
  }
 },
 "nbformat": 4,
 "nbformat_minor": 2,
 "cells": [
  {
   "cell_type": "code",
   "execution_count": 1,
   "metadata": {},
   "outputs": [],
   "source": [
    "# import torch\n",
    "import numpy as np"
   ]
  },
  {
   "cell_type": "code",
   "execution_count": 2,
   "metadata": {},
   "outputs": [
    {
     "output_type": "stream",
     "name": "stdout",
     "text": [
      "<Managed Device 0>\n"
     ]
    }
   ],
   "source": [
    "from numba import cuda\n",
    "print(cuda.gpus)"
   ]
  },
  {
   "cell_type": "code",
   "execution_count": 3,
   "metadata": {},
   "outputs": [
    {
     "output_type": "error",
     "ename": "NameError",
     "evalue": "name 'torch' is not defined",
     "traceback": [
      "\u001b[1;31m---------------------------------------------------------------------------\u001b[0m",
      "\u001b[1;31mNameError\u001b[0m                                 Traceback (most recent call last)",
      "\u001b[1;32m<ipython-input-3-2eaca526b1e6>\u001b[0m in \u001b[0;36m<module>\u001b[1;34m\u001b[0m\n\u001b[1;32m----> 1\u001b[1;33m \u001b[0mtorch\u001b[0m\u001b[1;33m.\u001b[0m\u001b[0mcuda\u001b[0m\u001b[1;33m.\u001b[0m\u001b[0mis_available\u001b[0m\u001b[1;33m(\u001b[0m\u001b[1;33m)\u001b[0m\u001b[1;33m\u001b[0m\u001b[1;33m\u001b[0m\u001b[0m\n\u001b[0m",
      "\u001b[1;31mNameError\u001b[0m: name 'torch' is not defined"
     ]
    }
   ],
   "source": [
    "torch.cuda.is_available()"
   ]
  },
  {
   "cell_type": "code",
   "execution_count": 41,
   "metadata": {},
   "outputs": [],
   "source": [
    "threadsperblock = 256\n",
    "\n",
    "N = threadsperblock * 32\n",
    "C = 5\n",
    "a = np.random.uniform(-100, 100, (N, C))\n",
    "x = np.random.uniform(-100, 100, (C))\n",
    "ids = np.arange(N)\n",
    "distances = np.zeros(N)\n",
    "\n",
    "# ac = torch.from_numpy(a)\n",
    "# xc = torch.from_numpy(x)\n",
    "# idsc = torch.from_numpy(ids)"
   ]
  },
  {
   "cell_type": "code",
   "execution_count": 34,
   "metadata": {},
   "outputs": [
    {
     "output_type": "stream",
     "name": "stdout",
     "text": [
      "[200.68561296 240.75441411 130.64599758 ... 187.9341813  219.61043515\n 226.65892084]\n"
     ]
    }
   ],
   "source": [
    "import math\n",
    "\n",
    "# CUDA kernel\n",
    "@cuda.jit\n",
    "def distancesKernel(results, data, x, weights, maxDist):\n",
    "    pos = cuda.grid(1)\n",
    "    s = 0\n",
    "    for i in range(data[pos].shape[0]):\n",
    "        s += ((data[pos][i] - x[i]) * weights) ** 2\n",
    "    results[pos] = (s ** 0.5) / maxDist\n",
    "\n",
    "# Host code\n",
    "blockspergrid = math.ceil(a.shape[0] / threadsperblock)\n",
    "ac = cuda.to_device(a)\n",
    "xc = cuda.to_device(x)\n",
    "distancesKernel[blockspergrid, threadsperblock](distances, ac, xc, 1., 1.)\n",
    "print(distances)"
   ]
  },
  {
   "cell_type": "code",
   "execution_count": 35,
   "metadata": {},
   "outputs": [
    {
     "output_type": "stream",
     "name": "stdout",
     "text": [
      "459 µs ± 3.94 µs per loop (mean ± std. dev. of 7 runs, 1000 loops each)\n"
     ]
    }
   ],
   "source": [
    "%%timeit\n",
    "distancesKernel[blockspergrid, threadsperblock](distances, ac, xc, 1., 1.)"
   ]
  },
  {
   "cell_type": "code",
   "execution_count": 39,
   "metadata": {},
   "outputs": [
    {
     "output_type": "stream",
     "name": "stdout",
     "text": [
      "282 µs ± 526 ns per loop (mean ± std. dev. of 7 runs, 1000 loops each)\n"
     ]
    }
   ],
   "source": [
    "%%timeit\n",
    "_computeDistances(a, x)"
   ]
  },
  {
   "cell_type": "code",
   "execution_count": 17,
   "metadata": {},
   "outputs": [],
   "source": [
    "ac.cuda()\n",
    "xc.cuda()\n",
    "idsc.cuda();"
   ]
  },
  {
   "cell_type": "code",
   "execution_count": 28,
   "metadata": {},
   "outputs": [],
   "source": [
    "def _computeDistancesCuda(data, x, weights=1., maxDist=1.):\n",
    "    return (torch.sum(((data - x) * weights) ** 2, axis=1) ** 0.5) / maxDist\n",
    "\n",
    "def _nnFromDataCuda(ids, data, n=1, ignore=0):\n",
    "    i = data.topk(n+ignore, largest=False)[ignore:n + ignore]\n",
    "    return i\n",
    "    #i = data.argpartition(min(n, data.shape[0]))[:n]\n",
    "    #i = i[data[i].argsort()]\n",
    "    #i = i[ignore:min(i.size, n)]\n",
    "    # return ids[i], data[i]\n",
    "\n",
    "# distances = _computeDistancesCuda(ac, xc)"
   ]
  },
  {
   "cell_type": "code",
   "execution_count": 22,
   "metadata": {},
   "outputs": [],
   "source": [
    "def _computeDistances(data, x, weights=1., maxDist=1.):\n",
    "    return (np.sum(((data - x) * weights) ** 2, axis=1) ** 0.5) / maxDist\n",
    "\n",
    "def _nnFromData(ids, data, n=1, ignore=0):\n",
    "    i = data.argpartition(np.arange(ignore, min(n + ignore, data.shape[0])))\n",
    "    i = i[ignore:n + ignore]\n",
    "    #i = data.argpartition(min(n, data.shape[0]))[:n]\n",
    "    #i = i[data[i].argsort()]\n",
    "    #i = i[ignore:min(i.size, n)]\n",
    "    return ids[i], data[i]"
   ]
  },
  {
   "cell_type": "code",
   "execution_count": 37,
   "metadata": {},
   "outputs": [],
   "source": [
    "from numba import jit\n",
    "\n",
    "@jit(nopython=True)\n",
    "def distancesNumba(data, x, weights=1., maxDist=1.):\n",
    "    return (np.sum(((data - x) * weights) ** 2, axis=1) ** 0.5) / maxDist"
   ]
  },
  {
   "cell_type": "code",
   "execution_count": 38,
   "metadata": {},
   "outputs": [
    {
     "output_type": "stream",
     "name": "stdout",
     "text": [
      "54.5 µs ± 16.6 µs per loop (mean ± std. dev. of 7 runs, 1 loop each)\n"
     ]
    }
   ],
   "source": [
    "%%timeit\n",
    "distancesNumba(a, x)"
   ]
  },
  {
   "cell_type": "code",
   "execution_count": 31,
   "metadata": {},
   "outputs": [
    {
     "output_type": "stream",
     "name": "stdout",
     "text": [
      "45.8 µs ± 969 ns per loop (mean ± std. dev. of 7 runs, 10000 loops each)\n"
     ]
    }
   ],
   "source": [
    "%%timeit\n",
    "distances = _computeDistances(a, x)\n",
    "# result = _nnFromData(ids, distances)"
   ]
  },
  {
   "cell_type": "code",
   "execution_count": 32,
   "metadata": {},
   "outputs": [
    {
     "output_type": "stream",
     "name": "stdout",
     "text": [
      "98.7 µs ± 1.76 µs per loop (mean ± std. dev. of 7 runs, 10000 loops each)\n"
     ]
    }
   ],
   "source": [
    "%%timeit\n",
    "distances = _computeDistancesCuda(ac, xc)\n",
    "# result = _nnFromDataCuda(idsc, distances)"
   ]
  },
  {
   "cell_type": "code",
   "execution_count": 36,
   "metadata": {},
   "outputs": [],
   "source": [
    "# from knn_cuda import KNN"
   ]
  }
 ]
}