{
 "cells": [
  {
   "cell_type": "code",
   "execution_count": 1,
   "metadata": {
    "tags": []
   },
   "outputs": [
    {
     "data": {
      "text/plain": [
       "'c:\\\\Data\\\\Projects\\\\phd\\\\cdl\\\\env\\\\Scripts\\\\python.exe'"
      ]
     },
     "execution_count": 1,
     "metadata": {},
     "output_type": "execute_result"
    }
   ],
   "source": [
    "%load_ext autoreload\n",
    "%autoreload 2\n",
    "# %matplotlib widget\n",
    "%matplotlib inline\n",
    "\n",
    "import sys\n",
    "sys.executable"
   ]
  },
  {
   "cell_type": "code",
   "execution_count": 2,
   "metadata": {
    "tags": []
   },
   "outputs": [
    {
     "name": "stdout",
     "output_type": "stream",
     "text": [
      "Loading chipmunk for Windows (64bit) [c:\\Data\\Projects\\phd\\cdl\\env\\lib\\site-packages\\pymunk\\chipmunk.dll]\n",
      "pygame 1.9.6\n",
      "Hello from the pygame community. https://www.pygame.org/contribute.html\n"
     ]
    },
    {
     "name": "stderr",
     "output_type": "stream",
     "text": [
      "2021-10-22 16:52:06 RedSky exlogger:c[29176] INFO [modular] Module 'PlaygroundEnvironment' has been started\n",
      "2021-10-22 16:52:06 RedSky exlogger:c[29176] INFO [modular] Module 'ModelDataset' has been started\n",
      "2021-10-22 16:52:06 RedSky exlogger:c[29176] INFO [modular] Module 'ModelDataset' has been started\n",
      "2021-10-22 16:52:06 RedSky exlogger:c[29176] INFO [modular] Module 'Agent' has been started\n",
      "2021-10-22 16:52:06 RedSky exlogger:c[29176] INFO [modular] Module 'Performer' has been started\n",
      "2021-10-22 16:52:06 RedSky exlogger:c[29176] INFO [modular] Module 'planner' has been started\n",
      "2021-10-22 16:52:06 RedSky exlogger:c[29176] INFO [modular] Module 'ModelDataset' has been attached to 'Agent'\n",
      "2021-10-22 16:52:06 RedSky exlogger:c[29176] INFO [modular] Module 'InterestModelManager' has been started\n",
      "2021-10-22 16:52:06 RedSky exlogger:c[29176] INFO [modular] Module 'Strategy autonomousStrategy' has been started\n",
      "2021-10-22 16:52:06 RedSky exlogger:c[29176] INFO [modular] Module 'Strategy autonomousStrategy' has been started\n"
     ]
    },
    {
     "name": "stdout",
     "output_type": "stream",
     "text": [
      "[176.91240771]\n",
      "[457.83949153 283.02826714]\n",
      "[361.64347084 184.79177471 104.80935073]\n",
      "[201.79197209 378.66343895 658.04635095 563.28500779]\n",
      "[461.25481027 295.65182225  75.10659092 147.08500943 656.14937324]\n",
      "[356.40566774 190.80094339 115.60276813  86.00581376 552.86978575\n",
      " 105.38026381]\n",
      "[352.28681497 513.07699227 793.91750201 691.15844783 209.69024775\n",
      " 807.75862731 702.39376421]\n"
     ]
    }
   ],
   "source": [
    "from dinos.environments.playground import PlaygroundEnvironment\n",
    "import dinos.environments.playground.scenes as playgroundScenes\n",
    "# env = PlaygroundEnvironment(playgroundScenes.RoomWithWallsScene)\n",
    "env = PlaygroundEnvironment(playgroundScenes.MultiCylindersWallsScene)\n",
    "\n",
    "from cdl.agents.learners.curiosity.saggriac import SAGGLearner\n",
    "learner = SAGGLearner(env.world.findHost())\n",
    "learner.adaptiveModels = False\n",
    "# list(learner.trainStrategies)[0].exploreNonPrimitive = False\n",
    "\n",
    "from exlab.interface.graph import display\n",
    "from dinos.utils.move import MoveConfig\n",
    "from exlab.modular.logger import logger\n",
    "import numpy as np\n"
   ]
  },
  {
   "cell_type": "code",
   "execution_count": 3,
   "metadata": {
    "tags": []
   },
   "outputs": [
    {
     "name": "stderr",
     "output_type": "stream",
     "text": [
      "2021-10-22 16:52:06 RedSky exlogger:c[29176] INFO [model] New model added: ModelInterestModel(@☰#26↝🕹'#Agent.move'↕2 | @☰#29↝👁'#Agent.lidar':PRE↕8 => @☰#27↝👁'#Agent.position'↕2)\n"
     ]
    }
   ],
   "source": [
    "from cdl.agents.tools.models.interest_model import InterestModel\n",
    "mMove = InterestModel(learner.dataset, learner.propertySpace('Agent.move'), learner.propertySpace('Agent.position'), learner.propertySpace('Agent.lidar'))\n",
    "# mRelativeObject = InterestModel(learner.dataset, learner.propertySpace('Agent.position'), learner.propertySpace('#Cylinder1.positionToAgent'), learner.propertySpace('#Cylinder1.positionToAgent'))\n",
    "# mObject = InterestModel(learner.dataset, learner.propertySpace('Agent.position'), learner.propertySpace('#Cylinder1.position'), learner.propertySpace('#Cylinder1.positionToAgent'))\n",
    "# mButton = InterestModel(learner.dataset, learner.propertySpace('Agent.position'), learner.propertySpace('#Button1.pressed'), learner.propertySpace('#Cylinder1.position'))\n",
    "\n",
    "# mObject.limitMoves = 0.3\n",
    "\n",
    "# mrp = InterestModel(learner.dataset, learner.propertySpace('Agent.move'), learner.propertySpace('#Cylinder1.positionToAgent'))\n",
    "# mrp = InterestModel(learner.dataset, learner.propertySpace('Agent.move'), learner.propertySpace('#Cylinder1.positionToAgent'), learner.propertySpace('#Cylinder1.positionToAgent'))\n",
    "# mo = InterestModel(learner.dataset, learner.propertySpace('Agent.move'), learner.propertySpace('#Cylinder1.position'), learner.propertySpace('#Cylinder1.positionToAgent'), register=False)\n",
    "# mo2 = InterestModel(learner.dataset, learner.propertySpace('Agent.move'), learner.propertySpace('#Cylinder2.position'), learner.propertySpace('#Cylinder2.positionToAgent'), register=False)"
   ]
  },
  {
   "cell_type": "code",
   "execution_count": 4,
   "metadata": {},
   "outputs": [],
   "source": [
    "# env.displayGui(True)\n",
    "# env.image()"
   ]
  },
  {
   "cell_type": "code",
   "execution_count": 5,
   "metadata": {},
   "outputs": [
    {
     "name": "stdout",
     "output_type": "stream",
     "text": [
      "LPoint2f(-250, 50) LPoint2f(850, 50)\n",
      "LPoint2f(850, 48) LPoint2f(850, 503)\n",
      "LPoint2f(850, 500) LPoint2f(-250, 500)\n",
      "LPoint2f(-250, 503) LPoint2f(-250, 48)\n",
      "LPoint2f(260, 200) LPoint2f(260, 400)\n",
      "LPoint2f(50, 50) LPoint2f(50, 350)\n",
      "LPoint2f(-100, 200) LPoint2f(-100, 500)\n",
      "LPoint2f(550, 50) LPoint2f(550, 200)\n",
      "LPoint2f(550, 350) LPoint2f(550, 500)\n",
      "LPoint2f(700, 175) LPoint2f(700, 375)\n"
     ]
    },
    {
     "data": {
      "image/png": "[encoded data removed]",
      "text/plain": [
       "<PIL.Image.Image image mode=RGB size=300x100 at 0x22DE4AC4C70>"
      ]
     },
     "execution_count": 5,
     "metadata": {},
     "output_type": "execute_result"
    }
   ],
   "source": [
    "env.engine.graphicalEngines[1].image()"
   ]
  },
  {
   "cell_type": "code",
   "execution_count": 6,
   "metadata": {},
   "outputs": [
    {
     "name": "stderr",
     "output_type": "stream",
     "text": [
      "c:\\Data\\Projects\\phd\\cdl\\env\\lib\\site-packages\\numpy\\lib\\function_base.py:380: RuntimeWarning: Mean of empty slice.\n",
      "  avg = a.mean(axis)\n",
      "c:\\Data\\Projects\\phd\\cdl\\env\\lib\\site-packages\\numpy\\core\\_methods.py:162: RuntimeWarning: invalid value encountered in true_divide\n",
      "  ret = um.true_divide(\n",
      "2021-10-22 16:52:18 RedSky exlogger:c[29176] INFO 10...\n"
     ]
    },
    {
     "name": "stdout",
     "output_type": "stream",
     "text": [
      "[230.75528163]\n",
      "[443.08125666 634.65344874]\n",
      "[282.31188427 469.84678354 165.19382555]\n",
      "[576.58997563 794.48599736 212.200377   341.97660739]\n",
      "[242.53865671  24.18677324 654.400489   489.35978584 811.12082947]\n",
      "[123.14625451 186.06719216 449.43742612 285.35066147 617.63500548]\n",
      "[ 82.86132994 190.2051524  524.92761406 365.04520268 650.57666727\n",
      " 165.02424064]\n",
      "[212.13203436 442.47485804 300.42137074 191.426226   380.0842012\n",
      " 295.78539518 275.96014205]\n"
     ]
    },
    {
     "name": "stderr",
     "output_type": "stream",
     "text": [
      "2021-10-22 16:52:18 RedSky exlogger:c[29176] INFO [interest] Creating interestMap for model ModelInterestModel(@☰#26↝🕹'#Agent.move'↕2 | @☰#29↝👁'#Agent.lidar':PRE↕8 => @☰#27↝👁'#Agent.position'↕2), strategy Strategy autonomousStrategy\n",
      "2021-10-22 16:52:19 RedSky exlogger:c[29176] INFO 20...\n"
     ]
    },
    {
     "name": "stdout",
     "output_type": "stream",
     "text": [
      "[231.3201245]\n",
      "[569.22754677 775.1264413 ]\n",
      "[575.68133546 797.85838342 128.86038957]\n",
      "[471.3066942  682.29392493 100.64790112 140.34600101]\n",
      "[258.74504826 488.32980659 344.29202721 323.24603633 244.0758079 ]\n",
      "[212.00235848 265.4241888  552.05525086 604.67511938 471.83153773\n",
      " 353.73436361]\n",
      "[ 68.26419266 285.81987335 554.15521291 545.81773515 454.04184829\n",
      " 222.7666941  272.52339349]\n"
     ]
    },
    {
     "name": "stderr",
     "output_type": "stream",
     "text": [
      "2021-10-22 16:52:20 RedSky exlogger:c[29176] INFO 30...\n"
     ]
    },
    {
     "name": "stdout",
     "output_type": "stream",
     "text": [
      "[512.97758236]\n",
      "[287.89234099 277.15699522]\n",
      "[183.86136081 636.28374174 369.        ]\n",
      "[ 55.02726597 459.79343188 233.94443785 209.83088429]\n",
      "[253.71834778 264.31988196  83.09632964 374.31804659 199.06029237]\n",
      "[376.04388042 139.35924799 148.44864432 497.48969839 322.13196054\n",
      " 125.03599482]\n",
      "[310.88583113 204.03921192 107.70329614 434.84365006 256.87740267\n",
      "  60.67124525  65.27633568]\n"
     ]
    },
    {
     "name": "stderr",
     "output_type": "stream",
     "text": [
      "2021-10-22 16:52:21 RedSky exlogger:c[29176] INFO [performer] Iter (d0) 1: prediction is Data[#27↝👁'#Agent.position'↕2 @☰± 13.542, -12.807] ?= planned Data[#27↝👁'#Agent.position'↕2 @☰± 23.847, -3.164] ?= got Observation[#0→👁'#Agent.position'↕2 @ 12.936, -13.374]\n",
      "2021-10-22 16:52:21 RedSky exlogger:c[29176] INFO [performer] Iter (d0) 1: max derive exceeded (18.4728 > 4.2785) trying to reach Data[#27↝👁'#Agent.position'↕2 @☰± 23.847, -3.164] by doing Action[#26↝🕹'#Agent.move'↕2 @☰± 0.914, -0.122] to get Data[#27↝👁'#Agent.position'↕2 @☰± 23.847, -3.164] and got Observation[#0→👁'#Agent.position'↕2 @ 12.936, -13.374] Diff 14.9435\n",
      "2021-10-22 16:52:21 RedSky exlogger:c[29176] INFO [performer] Replanning...\n",
      "2021-10-22 16:52:21 RedSky exlogger:c[29176] WARNING [performer] Iter (d0) 1: no more action to execute... trying to replan new ones\n",
      "2021-10-22 16:52:21 RedSky exlogger:c[29176] INFO [performer] Iter (d0) 2: max prediction derive exceeded (14.2263 > 4.2785) trying to reach Data[#27↝👁'#Agent.position'↕2 @☰± 22.723, -2.708]\n",
      "2021-10-22 16:52:21 RedSky exlogger:c[29176] INFO [performer] Replanning...\n",
      "2021-10-22 16:52:21 RedSky exlogger:c[29176] WARNING [performer] Iter (d0) 2: no more action to execute... trying to replan new ones\n",
      "2021-10-22 16:52:23 RedSky exlogger:c[29176] INFO [performer] Iter (d0) 2: max prediction derive exceeded (14.2498 > 4.2785) trying to reach Data[#27↝👁'#Agent.position'↕2 @☰± 22.679, -2.792]\n",
      "2021-10-22 16:52:23 RedSky exlogger:c[29176] INFO [performer] Replanning...\n",
      "2021-10-22 16:52:23 RedSky exlogger:c[29176] WARNING [performer] Iter (d0) 2: no more action to execute... trying to replan new ones\n",
      "2021-10-22 16:52:24 RedSky exlogger:c[29176] INFO [performer] Iter (d0) 2: max prediction derive exceeded (14.2498 > 4.2785) trying to reach Data[#27↝👁'#Agent.position'↕2 @☰± 22.679, -2.792]\n",
      "2021-10-22 16:52:24 RedSky exlogger:c[29176] INFO [performer] Replanning...\n",
      "2021-10-22 16:52:24 RedSky exlogger:c[29176] WARNING [performer] Iter (d0) 2: no more action to execute... trying to replan new ones\n",
      "2021-10-22 16:52:25 RedSky exlogger:c[29176] INFO [performer] Iter (d0) 2: max prediction derive exceeded (14.2498 > 4.2785) trying to reach Data[#27↝👁'#Agent.position'↕2 @☰± 22.679, -2.792]\n",
      "2021-10-22 16:52:25 RedSky exlogger:c[29176] INFO [performer] Replanning...\n",
      "2021-10-22 16:52:25 RedSky exlogger:c[29176] WARNING [performer] Iter (d0) 2: no more action to execute... trying to replan new ones\n",
      "2021-10-22 16:52:26 RedSky exlogger:c[29176] INFO [performer] Iter (d0) 2: max prediction derive exceeded (14.2498 > 4.2785) trying to reach Data[#27↝👁'#Agent.position'↕2 @☰± 22.679, -2.792]\n",
      "2021-10-22 16:52:26 RedSky exlogger:c[29176] INFO [performer] Replanning...\n",
      "2021-10-22 16:52:26 RedSky exlogger:c[29176] WARNING [performer] Iter (d0) 2: out of replanning\n",
      "2021-10-22 16:52:28 RedSky exlogger:c[29176] INFO [performer] Iter (d0) 1: max prediction derive exceeded (2.6064 > 5.4506) trying to reach Data[#27↝👁'#Agent.position'↕2 @☰± 22.768,  0.069]\n",
      "2021-10-22 16:52:28 RedSky exlogger:c[29176] INFO [performer] Replanning...\n",
      "2021-10-22 16:52:28 RedSky exlogger:c[29176] WARNING [performer] Iter (d0) 1: no more action to execute... trying to replan new ones\n",
      "2021-10-22 16:52:32 RedSky exlogger:c[29176] INFO [performer] Iter (d0) 1: max prediction derive exceeded (0.1413 > 5.4506) trying to reach Data[#27↝👁'#Agent.position'↕2 @☰± 10.846,  0.406]\n",
      "2021-10-22 16:52:32 RedSky exlogger:c[29176] INFO [performer] Replanning...\n",
      "2021-10-22 16:52:32 RedSky exlogger:c[29176] WARNING [performer] Iter (d0) 1: no more action to execute... trying to replan new ones\n",
      "2021-10-22 16:52:37 RedSky exlogger:c[29176] INFO [performer] Iter (d0) 1: max prediction derive exceeded (0.1413 > 5.4506) trying to reach Data[#27↝👁'#Agent.position'↕2 @☰± 10.846,  0.406]\n",
      "2021-10-22 16:52:37 RedSky exlogger:c[29176] INFO [performer] Replanning...\n",
      "2021-10-22 16:52:37 RedSky exlogger:c[29176] WARNING [performer] Iter (d0) 1: no more action to execute... trying to replan new ones\n",
      "2021-10-22 16:52:41 RedSky exlogger:c[29176] INFO [performer] Iter (d0) 1: max prediction derive exceeded (0.1413 > 5.4506) trying to reach Data[#27↝👁'#Agent.position'↕2 @☰± 10.846,  0.406]\n",
      "2021-10-22 16:52:41 RedSky exlogger:c[29176] INFO [performer] Replanning...\n",
      "2021-10-22 16:52:41 RedSky exlogger:c[29176] WARNING [performer] Iter (d0) 1: no more action to execute... trying to replan new ones\n",
      "2021-10-22 16:52:46 RedSky exlogger:c[29176] INFO [performer] Iter (d0) 1: max prediction derive exceeded (0.1413 > 5.4506) trying to reach Data[#27↝👁'#Agent.position'↕2 @☰± 10.846,  0.406]\n",
      "2021-10-22 16:52:46 RedSky exlogger:c[29176] INFO [performer] Replanning...\n",
      "2021-10-22 16:52:46 RedSky exlogger:c[29176] WARNING [performer] Iter (d0) 1: no more action to execute... trying to replan new ones\n",
      "2021-10-22 16:52:50 RedSky exlogger:c[29176] INFO [performer] Iter (d0) 1: max prediction derive exceeded (0.1413 > 5.4506) trying to reach Data[#27↝👁'#Agent.position'↕2 @☰± 10.846,  0.406]\n",
      "2021-10-22 16:52:50 RedSky exlogger:c[29176] INFO [performer] Replanning...\n",
      "2021-10-22 16:52:50 RedSky exlogger:c[29176] WARNING [performer] Iter (d0) 1: out of replanning\n",
      "2021-10-22 16:52:51 RedSky exlogger:c[29176] INFO [performer] Iter (d1) 0: max prediction derive exceeded (3.9852 > 6.1362) trying to reach Data[#27↝👁'#Agent.position'↕2 @☰± 10.477, -6.607]\n",
      "2021-10-22 16:52:51 RedSky exlogger:c[29176] INFO [performer] Replanning...\n",
      "2021-10-22 16:52:51 RedSky exlogger:c[29176] WARNING [performer] Iter (d1) 0: no more action to execute... trying to replan new ones\n",
      "2021-10-22 16:52:51 RedSky exlogger:c[29176] INFO [performer] Iter (d1) 0: max prediction derive exceeded (3.9852 > 6.1362) trying to reach Data[#27↝👁'#Agent.position'↕2 @☰± 10.477, -6.607]\n",
      "2021-10-22 16:52:51 RedSky exlogger:c[29176] INFO [performer] Replanning...\n",
      "2021-10-22 16:52:51 RedSky exlogger:c[29176] WARNING [performer] Iter (d1) 0: no more action to execute... trying to replan new ones\n",
      "2021-10-22 16:52:51 RedSky exlogger:c[29176] INFO [performer] Iter (d1) 0: max prediction derive exceeded (3.9852 > 6.1362) trying to reach Data[#27↝👁'#Agent.position'↕2 @☰± 10.477, -6.607]\n",
      "2021-10-22 16:52:51 RedSky exlogger:c[29176] INFO [performer] Replanning...\n",
      "2021-10-22 16:52:51 RedSky exlogger:c[29176] WARNING [performer] Iter (d1) 0: no more action to execute... trying to replan new ones\n",
      "2021-10-22 16:52:51 RedSky exlogger:c[29176] INFO [performer] Iter (d1) 0: max prediction derive exceeded (3.9852 > 6.1362) trying to reach Data[#27↝👁'#Agent.position'↕2 @☰± 10.477, -6.607]\n",
      "2021-10-22 16:52:51 RedSky exlogger:c[29176] INFO [performer] Replanning...\n",
      "2021-10-22 16:52:51 RedSky exlogger:c[29176] WARNING [performer] Iter (d1) 0: no more action to execute... trying to replan new ones\n",
      "2021-10-22 16:52:51 RedSky exlogger:c[29176] INFO [performer] Iter (d1) 0: max prediction derive exceeded (3.9852 > 6.1362) trying to reach Data[#27↝👁'#Agent.position'↕2 @☰± 10.477, -6.607]\n",
      "2021-10-22 16:52:51 RedSky exlogger:c[29176] INFO [performer] Replanning...\n",
      "2021-10-22 16:52:51 RedSky exlogger:c[29176] WARNING [performer] Iter (d1) 0: no more action to execute... trying to replan new ones\n",
      "2021-10-22 16:52:51 RedSky exlogger:c[29176] INFO [performer] Iter (d1) 0: max prediction derive exceeded (3.9852 > 6.1362) trying to reach Data[#27↝👁'#Agent.position'↕2 @☰± 10.477, -6.607]\n",
      "2021-10-22 16:52:51 RedSky exlogger:c[29176] INFO [performer] Replanning...\n",
      "2021-10-22 16:52:51 RedSky exlogger:c[29176] WARNING [performer] Iter (d1) 0: out of replanning\n",
      "2021-10-22 16:52:52 RedSky exlogger:c[29176] INFO 40...\n"
     ]
    },
    {
     "name": "stdout",
     "output_type": "stream",
     "text": [
      "[192.66551326]\n",
      "[333.21614607 143.75326083]\n",
      "[307.76614499 497.03118614 639.8195058 ]\n",
      "[460.43457733 268.02984908 130.96946209 764.51291683]\n",
      "[130.41855696  76.00657866 205.41178155 438.12441155 335.03581898]\n",
      "[168.07438829 120.76837334 209.30838493 465.8508345  339.36558458\n",
      "  69.05070601]\n",
      "[117.59676866 124.08464853 240.90246989 417.57993247 371.84539798\n",
      "  50.          50.47771786]\n"
     ]
    },
    {
     "name": "stderr",
     "output_type": "stream",
     "text": [
      "2021-10-22 16:52:53 RedSky exlogger:c[29176] INFO [performer] Iter (d0) 0: prediction is Data[#27↝👁'#Agent.position'↕2 @☰±-2.979, -6.657] ?= planned Data[#27↝👁'#Agent.position'↕2 @☰±-19.412, -6.631] ?= got Observation[#0→👁'#Agent.position'↕2 @-1.619, -6.657]\n",
      "2021-10-22 16:52:53 RedSky exlogger:c[29176] INFO [performer] Iter (d0) 0: max derive exceeded (17.7930 > 5.8961) trying to reach Data[#27↝👁'#Agent.position'↕2 @☰±-19.412, -6.631] by doing Action[#26↝🕹'#Agent.move'↕2 @☰±-0.742, -0.256] to get Data[#27↝👁'#Agent.position'↕2 @☰±-19.412, -6.631] and got Observation[#0→👁'#Agent.position'↕2 @-1.619, -6.657] Diff 17.7930\n",
      "2021-10-22 16:52:53 RedSky exlogger:c[29176] INFO [performer] Replanning...\n",
      "2021-10-22 16:52:53 RedSky exlogger:c[29176] WARNING [performer] Iter (d0) 0: no more action to execute... trying to replan new ones\n",
      "2021-10-22 16:52:55 RedSky exlogger:c[29176] INFO [performer] Iter (d0) 0: prediction is Data[#27↝👁'#Agent.position'↕2 @☰±-0.012, -9.488] ?= planned Data[#27↝👁'#Agent.position'↕2 @☰±-17.736, -9.333] ?= got Observation[#0→👁'#Agent.position'↕2 @-0.027, -9.488]\n",
      "2021-10-22 16:52:55 RedSky exlogger:c[29176] INFO [performer] Iter (d0) 0: max derive exceeded (17.7095 > 5.8961) trying to reach Data[#27↝👁'#Agent.position'↕2 @☰±-17.736, -9.333] by doing Action[#26↝🕹'#Agent.move'↕2 @☰±-0.678, -0.363] to get Data[#27↝👁'#Agent.position'↕2 @☰±-17.736, -9.333] and got Observation[#0→👁'#Agent.position'↕2 @-0.027, -9.488] Diff 17.7095\n",
      "2021-10-22 16:52:55 RedSky exlogger:c[29176] INFO [performer] Replanning...\n",
      "2021-10-22 16:52:55 RedSky exlogger:c[29176] WARNING [performer] Iter (d0) 0: no more action to execute... trying to replan new ones\n",
      "2021-10-22 16:53:05 RedSky exlogger:c[29176] WARNING [strategy] Planning failed for pre-goal context Observation[#27↝👁'#Agent.position'↕2 @☰ 100.000,  227.000]\n",
      "2021-10-22 16:53:06 RedSky exlogger:c[29176] INFO 50...\n",
      "2021-10-22 16:53:06 RedSky exlogger:c[29176] INFO [performer] Iter (d0) 3: max prediction derive exceeded (0.0600 > 7.5737) trying to reach Data[#27↝👁'#Agent.position'↕2 @☰± 21.097, -16.347]\n",
      "2021-10-22 16:53:06 RedSky exlogger:c[29176] INFO [performer] Replanning...\n",
      "2021-10-22 16:53:06 RedSky exlogger:c[29176] WARNING [performer] Iter (d0) 3: no more action to execute... trying to replan new ones\n",
      "2021-10-22 16:53:06 RedSky exlogger:c[29176] INFO [performer] Iter (d0) 3: max prediction derive exceeded (0.0151 > 7.5737) trying to reach Data[#27↝👁'#Agent.position'↕2 @☰± 21.142, -16.423]\n",
      "2021-10-22 16:53:06 RedSky exlogger:c[29176] INFO [performer] Replanning...\n",
      "2021-10-22 16:53:06 RedSky exlogger:c[29176] WARNING [performer] Iter (d0) 3: no more action to execute... trying to replan new ones\n",
      "2021-10-22 16:53:06 RedSky exlogger:c[29176] INFO [performer] Iter (d0) 3: max prediction derive exceeded (0.0151 > 7.5737) trying to reach Data[#27↝👁'#Agent.position'↕2 @☰± 21.142, -16.423]\n",
      "2021-10-22 16:53:06 RedSky exlogger:c[29176] INFO [performer] Replanning...\n",
      "2021-10-22 16:53:06 RedSky exlogger:c[29176] WARNING [performer] Iter (d0) 3: no more action to execute... trying to replan new ones\n",
      "2021-10-22 16:53:06 RedSky exlogger:c[29176] INFO [performer] Iter (d0) 3: max prediction derive exceeded (0.0151 > 7.5737) trying to reach Data[#27↝👁'#Agent.position'↕2 @☰± 21.142, -16.423]\n",
      "2021-10-22 16:53:06 RedSky exlogger:c[29176] INFO [performer] Replanning...\n",
      "2021-10-22 16:53:06 RedSky exlogger:c[29176] WARNING [performer] Iter (d0) 3: no more action to execute... trying to replan new ones\n",
      "2021-10-22 16:53:06 RedSky exlogger:c[29176] INFO [performer] Iter (d0) 3: max prediction derive exceeded (0.0151 > 7.5737) trying to reach Data[#27↝👁'#Agent.position'↕2 @☰± 21.142, -16.423]\n",
      "2021-10-22 16:53:06 RedSky exlogger:c[29176] INFO [performer] Replanning...\n",
      "2021-10-22 16:53:06 RedSky exlogger:c[29176] WARNING [performer] Iter (d0) 3: no more action to execute... trying to replan new ones\n",
      "2021-10-22 16:53:06 RedSky exlogger:c[29176] INFO [performer] Iter (d0) 3: max prediction derive exceeded (0.0151 > 7.5737) trying to reach Data[#27↝👁'#Agent.position'↕2 @☰± 21.142, -16.423]\n",
      "2021-10-22 16:53:06 RedSky exlogger:c[29176] INFO [performer] Replanning...\n",
      "2021-10-22 16:53:06 RedSky exlogger:c[29176] WARNING [performer] Iter (d0) 3: out of replanning\n",
      "2021-10-22 16:53:07 RedSky exlogger:c[29176] INFO 60...\n",
      "2021-10-22 16:53:09 RedSky exlogger:c[29176] INFO [performer] Iter (d0) 7: max prediction derive exceeded (0.0857 > 7.5907) trying to reach Data[#27↝👁'#Agent.position'↕2 @☰±-17.342,  19.546]\n",
      "2021-10-22 16:53:09 RedSky exlogger:c[29176] INFO [performer] Replanning...\n",
      "2021-10-22 16:53:09 RedSky exlogger:c[29176] WARNING [performer] Iter (d0) 7: no more action to execute... trying to replan new ones\n",
      "2021-10-22 16:53:09 RedSky exlogger:c[29176] INFO [performer] Iter (d0) 8: max prediction derive exceeded (7.5592 > 7.5907) trying to reach Data[#27↝👁'#Agent.position'↕2 @☰±-6.381, -2.136]\n",
      "2021-10-22 16:53:09 RedSky exlogger:c[29176] INFO [performer] Replanning...\n",
      "2021-10-22 16:53:09 RedSky exlogger:c[29176] WARNING [performer] Iter (d0) 8: no more action to execute... trying to replan new ones\n",
      "2021-10-22 16:53:09 RedSky exlogger:c[29176] INFO 70...\n"
     ]
    },
    {
     "name": "stdout",
     "output_type": "stream",
     "text": [
      "[341.60357141]\n",
      "[147.41099009 196.06376514]\n",
      "[233.90810161 108.16653826  91.21951546]\n",
      "[335.16712249 635.40380861 448.59001326 538.71885061]\n",
      "[308.42341027 475.78356424 334.94029319 406.11574705 251.46769176]\n",
      "[242.33035303 480.05103895 309.72568508 393.58480662 175.57049866\n",
      "  98.85848471]\n",
      "[149.03019828 478.23529774 282.70833026 373.56257843 192.06509313\n",
      " 261.76516193 166.30694513]\n"
     ]
    },
    {
     "name": "stderr",
     "output_type": "stream",
     "text": [
      "2021-10-22 16:53:11 RedSky exlogger:c[29176] INFO 80...\n",
      "2021-10-22 16:53:13 RedSky exlogger:c[29176] INFO [performer] Iter (d0) 0: prediction is Data[#27↝👁'#Agent.position'↕2 @☰±-17.770,  22.579] ?= planned Data[#27↝👁'#Agent.position'↕2 @☰±-17.652,  22.486] ?= got Observation[#0→👁'#Agent.position'↕2 @-4.010,  23.550]\n",
      "2021-10-22 16:53:13 RedSky exlogger:c[29176] INFO [performer] Iter (d0) 0: max derive exceeded (13.6835 > 6.6162) trying to reach Data[#27↝👁'#Agent.position'↕2 @☰±-17.652,  22.486] by doing Action[#26↝🕹'#Agent.move'↕2 @☰±-0.679,  0.864] to get Data[#27↝👁'#Agent.position'↕2 @☰±-17.652,  22.486] and got Observation[#0→👁'#Agent.position'↕2 @-4.010,  23.550] Diff 13.6835\n",
      "2021-10-22 16:53:13 RedSky exlogger:c[29176] INFO [performer] Replanning...\n",
      "2021-10-22 16:53:13 RedSky exlogger:c[29176] WARNING [performer] Iter (d0) 0: no more action to execute... trying to replan new ones\n",
      "2021-10-22 16:53:13 RedSky exlogger:c[29176] INFO [performer] Iter (d0) 0: prediction is Data[#27↝👁'#Agent.position'↕2 @☰±-0.867, -7.380] ?= planned Data[#27↝👁'#Agent.position'↕2 @☰±-14.041, -17.425] ?= got Observation[#0→👁'#Agent.position'↕2 @ 0.452, -6.342]\n",
      "2021-10-22 16:53:13 RedSky exlogger:c[29176] INFO [performer] Iter (d0) 0: max derive exceeded (18.2447 > 6.6162) trying to reach Data[#27↝👁'#Agent.position'↕2 @☰±-14.041, -17.425] by doing Action[#26↝🕹'#Agent.move'↕2 @☰±-0.558, -0.665] to get Data[#27↝👁'#Agent.position'↕2 @☰±-14.041, -17.425] and got Observation[#0→👁'#Agent.position'↕2 @ 0.452, -6.342] Diff 18.2447\n",
      "2021-10-22 16:53:13 RedSky exlogger:c[29176] INFO [performer] Replanning...\n",
      "2021-10-22 16:53:13 RedSky exlogger:c[29176] WARNING [performer] Iter (d0) 0: no more action to execute... trying to replan new ones\n",
      "2021-10-22 16:53:28 RedSky exlogger:c[29176] INFO 90...\n",
      "2021-10-22 16:53:38 RedSky exlogger:c[29176] WARNING [strategy] Planning failed for pre-goal context Observation[#27↝👁'#Agent.position'↕2 @☰ 292.573,  296.629]\n"
     ]
    },
    {
     "name": "stdout",
     "output_type": "stream",
     "text": [
      "[197.26631745]\n",
      "[224.74207439  89.02246907]\n",
      "[ 99.04544412 122.58874337 127.09445307]\n",
      "[240.60133     47.16990566 114.01754251 169.74392478]\n",
      "[ 73.79024326 124.03628501 156.01281999  44.59820624 168.5823241 ]\n",
      "[315.22055771 120.24142381 159.47727111 241.91320758  74.65252842\n",
      " 243.18100255]\n",
      "[401.82209994 451.68683842 380.33669294 364.07828828 490.1999592\n",
      " 403.09304137 538.79959169]\n"
     ]
    }
   ],
   "source": [
    "# %%prun -s cumtime\n",
    "for _ in range(20):\n",
    "    learner.train(100)\n",
    "    env.evaluate()"
   ]
  },
  {
   "cell_type": "code",
   "execution_count": null,
   "metadata": {},
   "outputs": [],
   "source": [
    "learner.mods = learner.mods[:1]\n",
    "learner.mods"
   ]
  },
  {
   "cell_type": "code",
   "execution_count": null,
   "metadata": {},
   "outputs": [],
   "source": [
    "learner.dataset.dependencyGraph(startModels=[mMove])"
   ]
  },
  {
   "cell_type": "code",
   "execution_count": null,
   "metadata": {},
   "outputs": [],
   "source": [
    "learner.dataset.controlledSpaces([mMove])"
   ]
  },
  {
   "cell_type": "code",
   "execution_count": null,
   "metadata": {},
   "outputs": [],
   "source": [
    "env.state(learner.dataset).consequences(learner.propertySpace('Agent.move').point([1., 0.]))"
   ]
  },
  {
   "cell_type": "code",
   "execution_count": null,
   "metadata": {},
   "outputs": [],
   "source": [
    "# learner.load('PlaygroundEnvironment/Biloup2500/1')"
   ]
  },
  {
   "cell_type": "code",
   "execution_count": null,
   "metadata": {},
   "outputs": [],
   "source": [
    "learner.featureMap.update([learner.propertySpace('Agent.position').point([75, 470])])"
   ]
  },
  {
   "cell_type": "code",
   "execution_count": null,
   "metadata": {},
   "outputs": [],
   "source": [
    "learner.perform(mMove.actionSpace.action([0.5, 0.6]))"
   ]
  },
  {
   "cell_type": "code",
   "execution_count": null,
   "metadata": {},
   "outputs": [],
   "source": [
    "# db = learner.save('Blaka1000')"
   ]
  },
  {
   "cell_type": "code",
   "execution_count": null,
   "metadata": {},
   "outputs": [],
   "source": [
    "learner.dataset.competences(precise=True)"
   ]
  },
  {
   "cell_type": "code",
   "execution_count": null,
   "metadata": {},
   "outputs": [],
   "source": [
    "learner.configHistory[-50:]"
   ]
  },
  {
   "cell_type": "code",
   "execution_count": null,
   "metadata": {},
   "outputs": [],
   "source": [
    "mMove.contextSpacialization[0].stability"
   ]
  },
  {
   "cell_type": "code",
   "execution_count": null,
   "metadata": {},
   "outputs": [],
   "source": [
    "for _ in range(5):\n",
    "    learner.train(50)\n",
    "    env.evaluate()"
   ]
  },
  {
   "cell_type": "code",
   "execution_count": null,
   "metadata": {},
   "outputs": [],
   "source": [
    "display(env.visualizeEvaluations())"
   ]
  },
  {
   "cell_type": "code",
   "execution_count": null,
   "metadata": {},
   "outputs": [],
   "source": [
    "display(env.visualizeEvaluations())"
   ]
  },
  {
   "cell_type": "code",
   "execution_count": null,
   "metadata": {},
   "outputs": [],
   "source": [
    "display(env.visualizeEvaluations())"
   ]
  },
  {
   "cell_type": "code",
   "execution_count": null,
   "metadata": {
    "tags": []
   },
   "outputs": [],
   "source": [
    "learner.train(10)"
   ]
  },
  {
   "cell_type": "code",
   "execution_count": null,
   "metadata": {},
   "outputs": [],
   "source": [
    "mMove.invalidateCompetences()\n",
    "mMove.competence(precise=True)"
   ]
  },
  {
   "cell_type": "code",
   "execution_count": null,
   "metadata": {},
   "outputs": [],
   "source": [
    "from dinos.data.space import SpaceKind\n",
    "def testPoint(id_):\n",
    "    space = learner.propertySpace('Agent.position', SpaceKind.PRE)\n",
    "    space.boundProperty.entity.body.position = space.getPoint([id_])[0].npPlain()\n",
    "\n",
    "    a = mMove.actionSpace.getPoint([id_])[0]\n",
    "    ctx = mMove.contextSpace.getPoint([id_])[0]\n",
    "    cols = mMove.contextSpacialization[0].columns(a)\n",
    "    w = mMove.outcomeSpace.getPoint([id_])[0]\n",
    "\n",
    "    wp, e = mMove.forward(mMove.actionSpace.getPoint([id_])[0], mMove.contextSpace.getPoint([id_])[0])\n",
    "    diff = mMove.outcomeSpace.getPoint([id_])[0] - wp\n",
    "\n",
    "    print(f'{a.npPlain()} | {ctx.npPlain()} => {w.npPlain()} ~= {wp.npPlain()} ({diff.npPlain()}, {e})')\n",
    "    print(cols)\n",
    "    return env.image()"
   ]
  },
  {
   "cell_type": "code",
   "execution_count": null,
   "metadata": {},
   "outputs": [],
   "source": [
    "testPoint(3)"
   ]
  },
  {
   "cell_type": "code",
   "execution_count": null,
   "metadata": {},
   "outputs": [],
   "source": [
    "testPoint(3)"
   ]
  },
  {
   "cell_type": "code",
   "execution_count": null,
   "metadata": {},
   "outputs": [],
   "source": [
    "[73 75 74 12 50 49 56  6 14 55 38 35 37 13 19 58 51 33 53 18 29 10 54 31\n",
    " 11 32 30  8  2  9 52 15 16 17  7 41 36 34 43 79 94 95 20 77]"
   ]
  },
  {
   "cell_type": "code",
   "execution_count": null,
   "metadata": {},
   "outputs": [],
   "source": [
    "ctx"
   ]
  },
  {
   "cell_type": "code",
   "execution_count": null,
   "metadata": {},
   "outputs": [],
   "source": [
    "id_ = 330\n",
    "p, _ = mMove.forward(mMove.actionSpace.getPoint([id_])[0], mMove.contextSpace.getPoint([id_])[0])\n",
    "diff = mMove.outcomeSpace.getPoint([id_])[0] - p\n",
    "diff, "
   ]
  },
  {
   "cell_type": "code",
   "execution_count": null,
   "metadata": {},
   "outputs": [],
   "source": [
    "mMove.contextSpacialization[0].addPoint(mMove.actionSpace.getPoint([3])[0], 2)"
   ]
  },
  {
   "cell_type": "code",
   "execution_count": null,
   "metadata": {},
   "outputs": [],
   "source": [
    "learner.iteration // 4"
   ]
  },
  {
   "cell_type": "code",
   "execution_count": null,
   "metadata": {},
   "outputs": [],
   "source": [
    "n = 0\n",
    "m = 0\n",
    "for i in range(learner.iteration // 10000, learner.iteration // 4):\n",
    "    na, ma = mMove.contextSpacialization[0].addPoint(mMove.actionSpace.getPoint([i])[0], True)\n",
    "    n += na\n",
    "    m += ma\n",
    "n, m"
   ]
  },
  {
   "cell_type": "code",
   "execution_count": null,
   "metadata": {},
   "outputs": [],
   "source": [
    "areas, distances = mMove.contextSpacialization[0].findAreaForAllColumnsDistances(mMove.actionSpace.point([0.6, -0.6]))\n",
    "mMove.contextSpacialization[0].columnsAreas(areas)"
   ]
  },
  {
   "cell_type": "code",
   "execution_count": null,
   "metadata": {},
   "outputs": [],
   "source": [
    "display(mMove.contextSpacialization[0].visualizeAreaColumn(7))"
   ]
  },
  {
   "cell_type": "code",
   "execution_count": null,
   "metadata": {},
   "outputs": [],
   "source": [
    "display(mRelativeObject.contextSpacialization[0].visualizeAreaColumn(1))"
   ]
  },
  {
   "cell_type": "code",
   "execution_count": null,
   "metadata": {},
   "outputs": [],
   "source": [
    "mMove.contextSpacialization[0].columns(mMove.actionSpace.point([0.2, -0.8]))"
   ]
  },
  {
   "cell_type": "code",
   "execution_count": null,
   "metadata": {},
   "outputs": [],
   "source": [
    "a, b, c = mMove.forwardErrors(precise=True, sortIds=True)\n",
    "a[:30], b[:30]"
   ]
  },
  {
   "cell_type": "code",
   "execution_count": null,
   "metadata": {},
   "outputs": [],
   "source": [
    "a, b, c = mMove.forwardErrors(precise=True, sortIds=True)\n",
    "a[:30], b[:30]"
   ]
  },
  {
   "cell_type": "code",
   "execution_count": null,
   "metadata": {},
   "outputs": [],
   "source": [
    "with logger().debugging2('plan'):\n",
    "    learner.train(1)"
   ]
  },
  {
   "cell_type": "code",
   "execution_count": null,
   "metadata": {},
   "outputs": [],
   "source": [
    "learner.configHistory[-1:]"
   ]
  },
  {
   "cell_type": "code",
   "execution_count": null,
   "metadata": {},
   "outputs": [],
   "source": [
    "im = list(mMove.interestMaps.items())[0][1]\n",
    "# display(im.visualizeData())"
   ]
  },
  {
   "cell_type": "code",
   "execution_count": null,
   "metadata": {},
   "outputs": [],
   "source": [
    "im.evaluation"
   ]
  },
  {
   "cell_type": "code",
   "execution_count": null,
   "metadata": {},
   "outputs": [],
   "source": [
    "list(mObject.interestMaps.items())[0][1].evaluation"
   ]
  },
  {
   "cell_type": "code",
   "execution_count": null,
   "metadata": {},
   "outputs": [],
   "source": [
    "len(im.points)"
   ]
  },
  {
   "cell_type": "code",
   "execution_count": null,
   "metadata": {},
   "outputs": [],
   "source": [
    "im.points[2].nearContext(env.state().context().projection(im.contextSpace))"
   ]
  },
  {
   "cell_type": "code",
   "execution_count": null,
   "metadata": {},
   "outputs": [],
   "source": [
    "im.contextSpace.bounds"
   ]
  },
  {
   "cell_type": "code",
   "execution_count": null,
   "metadata": {},
   "outputs": [],
   "source": [
    "im.evaluation"
   ]
  },
  {
   "cell_type": "code",
   "execution_count": null,
   "metadata": {},
   "outputs": [],
   "source": [
    "with logger().debugging2('evaluation'):\n",
    "    env.evaluate()"
   ]
  },
  {
   "cell_type": "code",
   "execution_count": null,
   "metadata": {},
   "outputs": [],
   "source": [
    "print(env.evaluations())"
   ]
  },
  {
   "cell_type": "code",
   "execution_count": null,
   "metadata": {},
   "outputs": [],
   "source": [
    "# d = env.deserializer()\n",
    "# d.deserialize(learner.save()['dataset'], obj=learner.dataset)"
   ]
  },
  {
   "cell_type": "code",
   "execution_count": null,
   "metadata": {
    "tags": []
   },
   "outputs": [],
   "source": [
    "# mc = InterestModel(learner.dataset, learner.propertySpace('Agent.move'), learner.propertySpace('Agent.position'), learner.propertySpace('Agent.lidar'))\n",
    "# mrpp = InterestModel(learner.dataset, learner.propertySpace('Agent.position'), learner.propertySpace('#Cylinder1.positionToAgent'), learner.propertySpace('#Cylinder1.positionToAgent'))\n",
    "# mop = InterestModel(learner.dataset, learner.propertySpace('Agent.position'), learner.propertySpace('#Cylinder1.position'), learner.propertySpace('#Cylinder1.positionToAgent'))"
   ]
  },
  {
   "cell_type": "code",
   "execution_count": null,
   "metadata": {},
   "outputs": [],
   "source": [
    "from exlab.modular.logger import Logger, logger, logging\n",
    "# logger().setRecordLevel(Logger.DEBUG2, 'performer')\n",
    "# logger().setDisplayLevel(Logger.DEBUG2, 'performer')\n",
    "# logger().setRecordLevel(logging.DEBUG, 'strategy')\n",
    "# logger().setDisplayLevel(logging.DEBUG, 'strategy')\n",
    "# logger().setRecordLevel(Logger.DEBUG2, 'plan')\n",
    "# logger().setDisplayLevel(Logger.DEBUG2, 'plan')\n",
    "# logger().display(tag='plan')"
   ]
  },
  {
   "cell_type": "code",
   "execution_count": null,
   "metadata": {},
   "outputs": [],
   "source": [
    "# competences = {}"
   ]
  },
  {
   "cell_type": "code",
   "execution_count": null,
   "metadata": {},
   "outputs": [],
   "source": [
    "# from exlab.modular.logger import Logger, logger, logging\n",
    "# logger().setDisplayLevel(Logger.DEBUG2, 'serial')"
   ]
  },
  {
   "cell_type": "code",
   "execution_count": null,
   "metadata": {},
   "outputs": [],
   "source": [
    "model = learner.dataset.models[0]\n",
    "# model.contextSpacialization[0].resetAreas()"
   ]
  },
  {
   "cell_type": "code",
   "execution_count": null,
   "metadata": {},
   "outputs": [],
   "source": [
    "model.invalidateCompetences()\n",
    "model.competence(precise=True)"
   ]
  },
  {
   "cell_type": "code",
   "execution_count": null,
   "metadata": {},
   "outputs": [],
   "source": [
    "model.invalidateCompetences()\n",
    "model.competence(precise=True)"
   ]
  },
  {
   "cell_type": "code",
   "execution_count": null,
   "metadata": {},
   "outputs": [],
   "source": [
    "model.outcomeContextSpace._nnWeights"
   ]
  },
  {
   "cell_type": "code",
   "execution_count": null,
   "metadata": {},
   "outputs": [],
   "source": [
    "model.outcomeContextSpace.spaces"
   ]
  },
  {
   "cell_type": "code",
   "execution_count": null,
   "metadata": {},
   "outputs": [],
   "source": [
    "model.forward(model.actionSpace.action([1., 0.]), context=env.state().context(), contextColumns=np.array([False, True, False, False, False, False, False, False]))"
   ]
  },
  {
   "cell_type": "code",
   "execution_count": null,
   "metadata": {},
   "outputs": [],
   "source": [
    "id_ = model.actionSpace.nearest(model.actionSpace.point([0.622, 0.539]))[0]\n",
    "model.actionSpace.getData([id_]), id_"
   ]
  },
  {
   "cell_type": "code",
   "execution_count": null,
   "metadata": {},
   "outputs": [],
   "source": [
    "model.restrictionIds"
   ]
  },
  {
   "cell_type": "code",
   "execution_count": null,
   "metadata": {},
   "outputs": [],
   "source": [
    "model.actionContextSpace._updateSpaceWeights()"
   ]
  },
  {
   "cell_type": "code",
   "execution_count": null,
   "metadata": {},
   "outputs": [],
   "source": []
  },
  {
   "cell_type": "code",
   "execution_count": null,
   "metadata": {},
   "outputs": [],
   "source": [
    "from sklearn.neural_network import MLPRegressor\n",
    "from sklearn.model_selection import train_test_split\n",
    "x = mMove.actionContextSpace.getData() * mMove.actionContextSpace._nnWeights\n",
    "y = mMove.outcomeSpace.getData() * mMove.outcomeSpace._nnWeights\n",
    "x_train, x_test, y_train, y_test = train_test_split(x, y, random_state=1)\n",
    "mMove.fnn = MLPRegressor(random_state=1, max_iter=2000).fit(x_train, y_train)"
   ]
  },
  {
   "cell_type": "code",
   "execution_count": null,
   "metadata": {},
   "outputs": [],
   "source": [
    "mMove.fnn.score(x_test, y_test)"
   ]
  },
  {
   "cell_type": "code",
   "execution_count": null,
   "metadata": {},
   "outputs": [],
   "source": [
    "x0 = np.array([1., 0., 70., 70., 70., 70., 70., 70., 70., 70.]) * mMove.actionContextSpace._nnWeights\n",
    "mMove.fnn.predict([x0])"
   ]
  },
  {
   "cell_type": "code",
   "execution_count": null,
   "metadata": {},
   "outputs": [],
   "source": [
    "x0 = np.array([1., 0., 10., 18., 70., 70., 70., 70., 70., 18.]) * mMove.actionContextSpace._nnWeights\n",
    "mMove.fnn.predict([x0])"
   ]
  },
  {
   "cell_type": "code",
   "execution_count": null,
   "metadata": {},
   "outputs": [],
   "source": [
    "mMove.competence()"
   ]
  },
  {
   "cell_type": "code",
   "execution_count": null,
   "metadata": {},
   "outputs": [],
   "source": [
    "model.actionContextSpace._nnWeights"
   ]
  },
  {
   "cell_type": "code",
   "execution_count": null,
   "metadata": {},
   "outputs": [],
   "source": [
    "model.forwardErrors(onlyIds=np.array([id_]), contextColumns=np.array([False, True, False, False, False, False, False, False]))"
   ]
  },
  {
   "cell_type": "code",
   "execution_count": null,
   "metadata": {
    "tags": []
   },
   "outputs": [],
   "source": [
    "learner.train(50)"
   ]
  },
  {
   "cell_type": "code",
   "execution_count": null,
   "metadata": {},
   "outputs": [],
   "source": [
    "with logger().debugging('plan'):\n",
    "    learner.train(5)"
   ]
  },
  {
   "cell_type": "code",
   "execution_count": null,
   "metadata": {},
   "outputs": [],
   "source": [
    "mMove.invalidateCompetences()\n",
    "mMove.competence(precise=True)"
   ]
  },
  {
   "cell_type": "code",
   "execution_count": null,
   "metadata": {},
   "outputs": [],
   "source": [
    "mMove.contextSpacialization[0].addPoint(mMove.actionSpace.getPoint([113])[0])"
   ]
  },
  {
   "cell_type": "code",
   "execution_count": null,
   "metadata": {},
   "outputs": [],
   "source": [
    "mMove.contextSpacialization[0].columns(mMove.actionSpace.getPoint([113])[0])"
   ]
  },
  {
   "cell_type": "code",
   "execution_count": null,
   "metadata": {},
   "outputs": [],
   "source": [
    "mMove.competence(onlyIds=np.array([1357]))"
   ]
  },
  {
   "cell_type": "code",
   "execution_count": null,
   "metadata": {},
   "outputs": [],
   "source": [
    "mMove.competence(onlyIds=np.array([1357]))"
   ]
  },
  {
   "cell_type": "code",
   "execution_count": null,
   "metadata": {},
   "outputs": [],
   "source": [
    "id_ = 1357\n",
    "out, _ = mMove.npForward(mMove.actionSpace.getPoint(id_)[0],\n",
    "                         mMove.contextSpace.getPoint(id_)[0])\n",
    "real = mMove.outcomeSpace.getPoint(id_)[0]\n",
    "out, real"
   ]
  },
  {
   "cell_type": "code",
   "execution_count": null,
   "metadata": {},
   "outputs": [],
   "source": [
    "e, ids, te = mMove.forwardErrors(precise=True, sortIds=True)\n",
    "worst = np.argwhere(e > 0.05)\n",
    "points = mMove.actionContextSpace.getNpPlainPoint(ids[worst])\n",
    "# e[worst], ids[worst], te[worst], points\n",
    "len(worst), mMove.outcomeSpace.number, ids[worst], points, te[worst]"
   ]
  },
  {
   "cell_type": "code",
   "execution_count": null,
   "metadata": {},
   "outputs": [],
   "source": [
    "np.set_printoptions(formatter={'float': lambda x: \"{0:0.3f}\".format(x)})"
   ]
  },
  {
   "cell_type": "code",
   "execution_count": null,
   "metadata": {},
   "outputs": [],
   "source": [
    "mMove.contextSpacialization[0].columns(mMove.actionSpace.point([0.134, -0.252]))"
   ]
  },
  {
   "cell_type": "code",
   "execution_count": null,
   "metadata": {},
   "outputs": [],
   "source": [
    "mMove.contextSpacialization[0].resetAreas()"
   ]
  },
  {
   "cell_type": "code",
   "execution_count": null,
   "metadata": {},
   "outputs": [],
   "source": [
    "mMove.contextSpacialization[0].columns(model.actionSpace.zero())"
   ]
  },
  {
   "cell_type": "code",
   "execution_count": null,
   "metadata": {},
   "outputs": [],
   "source": [
    "import numpy as np\n",
    "mMove.contextSpacialization[0].number = np.ones_like(mMove.contextSpacialization[0].number, dtype=np.int)"
   ]
  },
  {
   "cell_type": "code",
   "execution_count": null,
   "metadata": {},
   "outputs": [],
   "source": [
    "mMove.contextSpacialization[0].relevances[0, 0]"
   ]
  },
  {
   "cell_type": "code",
   "execution_count": null,
   "metadata": {},
   "outputs": [],
   "source": [
    "display(mMove.contextSpacialization[0].visualizeAreaColumn(4))"
   ]
  },
  {
   "cell_type": "code",
   "execution_count": null,
   "metadata": {},
   "outputs": [],
   "source": [
    "mMove.competence(precise=True)"
   ]
  },
  {
   "cell_type": "code",
   "execution_count": null,
   "metadata": {},
   "outputs": [],
   "source": [
    "mMove.contextSpacialization[0].data[0, :5, :]"
   ]
  },
  {
   "cell_type": "code",
   "execution_count": null,
   "metadata": {},
   "outputs": [],
   "source": [
    "mMove.contextSpacialization[0].relevances[0, :5]"
   ]
  },
  {
   "cell_type": "code",
   "execution_count": null,
   "metadata": {},
   "outputs": [],
   "source": [
    "display(mMove.contextSpacialization[0].visualizeAreaColumns())"
   ]
  },
  {
   "cell_type": "code",
   "execution_count": null,
   "metadata": {},
   "outputs": [],
   "source": [
    "model.outcomeSpace.getData(model.actionSpace.nearestDistance(model.actionSpace.point([-1., 0.]), n=20)[0])"
   ]
  },
  {
   "cell_type": "code",
   "execution_count": null,
   "metadata": {},
   "outputs": [],
   "source": [
    "model.contextSpacialization[0].addPoint(model.actionSpace.point([-1., 0.]), 0)"
   ]
  },
  {
   "cell_type": "code",
   "execution_count": null,
   "metadata": {},
   "outputs": [],
   "source": [
    "import numpy as np\n",
    "a = np.array([[-0.0508099,  0.00096602],\n",
    " [-0.05616756, 0.0005382 ],\n",
    " [-0.05667331, 0.01564693],\n",
    " [-0.06120358, 0.00326895],\n",
    " [-0.04796302,-0.0253568 ],\n",
    " [-0.06390312, 0.00135599],\n",
    " [-0.05669113,-0.0247679 ],\n",
    " [-0.05806777,-0.02602719],\n",
    " [-0.07085235, 0.0054878 ]])\n",
    "b = np.array([[-1.35035104, 0.06845228],\n",
    " [-1.4595478,  0.01399336],\n",
    " [ 0.06245619, 0.40559584],\n",
    " [-1.61969657, 0.08224321],\n",
    " [-1.28303248,-0.69540405],\n",
    " [-1.68502212, 0.05397376],\n",
    " [-1.52289188,-0.6782664 ],\n",
    " [-1.5335021, -0.69914473],\n",
    " [-1.88031556, 0.13394682]])"
   ]
  },
  {
   "cell_type": "code",
   "execution_count": null,
   "metadata": {},
   "outputs": [],
   "source": [
    "from sklearn.linear_model import LinearRegression\n",
    "reg = LinearRegression().fit(a, b)\n",
    "reg.predict(np.array([[-0.034,  0.001]]))"
   ]
  },
  {
   "cell_type": "code",
   "execution_count": null,
   "metadata": {},
   "outputs": [],
   "source": [
    "model.forward(model.actionSpace.action([-0.938, 0.]), model.contextSpace.point([70., 70., 70., 70., 70., 70., 70., 70.]))"
   ]
  },
  {
   "cell_type": "code",
   "execution_count": null,
   "metadata": {},
   "outputs": [],
   "source": [
    "model.competence()"
   ]
  },
  {
   "cell_type": "code",
   "execution_count": null,
   "metadata": {},
   "outputs": [],
   "source": [
    "%%prun -s tottime\n",
    "for _ in range(3):\n",
    "    learner.train(100)\n",
    "    env.run()"
   ]
  },
  {
   "cell_type": "code",
   "execution_count": null,
   "metadata": {},
   "outputs": [],
   "source": [
    "import numpy as np\n",
    "goal = learner.propertySpace('Agent.position').point([10., 6.])\n",
    "goals = [[10., 6.], [-20., -3.], [2., 2.], [-16., -4.]]\n",
    "space = learner.propertySpace('Agent.position')\n",
    "otherSpace = learner.propertySpace('Agent.move')\n",
    "goalPlain = goal.npPlain()\n",
    "goalPlain2 = np.array([goal.plain()])\n",
    "model = learner.dataset.models[0]\n",
    "context = env.state().context()\n",
    "ctx = context.projection(model.contextSpace)\n",
    "rids = np.arange(10)*3+1"
   ]
  },
  {
   "cell_type": "code",
   "execution_count": null,
   "metadata": {},
   "outputs": [],
   "source": [
    "for i in range(1, 1000):\n",
    "    space.addPoint(space.point([1., 1. + i / 1000]), i)\n",
    "    otherSpace.addPoint(otherSpace.point([1., 1. + i / 1000]), i)"
   ]
  },
  {
   "cell_type": "code",
   "execution_count": null,
   "metadata": {},
   "outputs": [],
   "source": [
    "# # %%timeit\n",
    "# %%prun -s cumtime\n",
    "# for _ in range(1000):\n",
    "#     model._nearestData(goal, ctx)"
   ]
  },
  {
   "cell_type": "code",
   "execution_count": null,
   "metadata": {},
   "outputs": [],
   "source": [
    "# # %%timeit\n",
    "# %%prun -s tottime\n",
    "# for _ in range(1000):\n",
    "#     space.computePerformances(goal)"
   ]
  },
  {
   "cell_type": "code",
   "execution_count": null,
   "metadata": {},
   "outputs": [],
   "source": [
    "# learner.dataset.models[0].bestLocalityCandidates\n",
    "# [config.plannerSettings.dontMoveSpaces for config in learner.configHistory]"
   ]
  },
  {
   "cell_type": "code",
   "execution_count": null,
   "metadata": {},
   "outputs": [],
   "source": [
    "otherSpace.ids"
   ]
  },
  {
   "cell_type": "code",
   "execution_count": null,
   "metadata": {},
   "outputs": [],
   "source": [
    "%%timeit\n",
    "space.nearestDistance(goal, n=10)"
   ]
  },
  {
   "cell_type": "code",
   "execution_count": null,
   "metadata": {},
   "outputs": [],
   "source": [
    "%%timeit\n",
    "space.nearestDistance(goal, n=10, otherSpace=otherSpace)"
   ]
  },
  {
   "cell_type": "code",
   "execution_count": null,
   "metadata": {},
   "outputs": [],
   "source": [
    "%%timeit\n",
    "space.nearestDistance(goal, n=10, restrictionIds=rids)"
   ]
  },
  {
   "cell_type": "code",
   "execution_count": null,
   "metadata": {},
   "outputs": [],
   "source": [
    "%%timeit\n",
    "space.nearestDistance(goal, n=10, restrictionIds=rids, otherSpace=otherSpace)"
   ]
  },
  {
   "cell_type": "code",
   "execution_count": null,
   "metadata": {},
   "outputs": [],
   "source": [
    "%%timeit\n",
    "space.nearestDistanceArray(goals, n=10, restrictionIds=rids, otherSpace=otherSpace)"
   ]
  },
  {
   "cell_type": "markdown",
   "metadata": {},
   "source": [
    "Base: 22.8 | 41 | 21.4 | 134 || 456  \n",
    "Out: 22.5 | 40 | 21.5 | 138 || 457  \n",
    "Outa: 22.3 | 40.5 | 21.5 | 137 || 456  \n",
    "intersect1d: 22.4 | 41.3 | 21.7 | 53.1 || 376  \n",
    "Better restrictionIds: 23.5 | 23.8 | 22.5 | 23.7 || 336  \n",
    "Only restrictionIds: 23.4 | 24.3 | 18.4 | 19.8 || 347"
   ]
  },
  {
   "cell_type": "code",
   "execution_count": null,
   "metadata": {},
   "outputs": [],
   "source": [
    "space.nearestDistance(goal, n=10)"
   ]
  },
  {
   "cell_type": "code",
   "execution_count": null,
   "metadata": {},
   "outputs": [],
   "source": [
    "space.nearestDistance(goal, n=10, otherSpace=otherSpace)"
   ]
  },
  {
   "cell_type": "code",
   "execution_count": null,
   "metadata": {},
   "outputs": [],
   "source": [
    "space.nearestDistance(goal, n=10, restrictionIds=rids)"
   ]
  },
  {
   "cell_type": "code",
   "execution_count": null,
   "metadata": {},
   "outputs": [],
   "source": [
    "space.nearestDistance(goal, n=10, restrictionIds=rids, otherSpace=otherSpace)"
   ]
  },
  {
   "cell_type": "code",
   "execution_count": null,
   "metadata": {},
   "outputs": [],
   "source": [
    "space.nearestDistanceArray(goals, n=10, restrictionIds=rids, otherSpace=otherSpace)"
   ]
  },
  {
   "cell_type": "code",
   "execution_count": null,
   "metadata": {},
   "outputs": [],
   "source": [
    "import numpy as np\n",
    "def check(data, x, weights=1., maxDist=1.):\n",
    "    return (np.sum(((data - x) * weights) ** 2, axis=1) ** 0.5) / maxDist"
   ]
  },
  {
   "cell_type": "code",
   "execution_count": null,
   "metadata": {},
   "outputs": [],
   "source": [
    "from dinos.data.operations import euclidean_distances"
   ]
  },
  {
   "cell_type": "code",
   "execution_count": null,
   "metadata": {},
   "outputs": [],
   "source": [
    "check(space.data[:space._number], goalPlain)[:10]"
   ]
  },
  {
   "cell_type": "code",
   "execution_count": null,
   "metadata": {},
   "outputs": [],
   "source": [
    "euclidean_distances(space.data[:space._number], goalPlain)[:10]"
   ]
  },
  {
   "cell_type": "code",
   "execution_count": null,
   "metadata": {},
   "outputs": [],
   "source": [
    "euclidean_distances(space.data[:space._number], goalPlain, columns=np.array([True, True]))[:10]"
   ]
  },
  {
   "cell_type": "code",
   "execution_count": null,
   "metadata": {},
   "outputs": [],
   "source": [
    "euclidean_pairwise(space.data[:space._number], goalPlain2)[0, :10]"
   ]
  },
  {
   "cell_type": "code",
   "execution_count": null,
   "metadata": {},
   "outputs": [],
   "source": [
    "euclidean_to_vector(space.data[:space._number], goalPlain)[:10]"
   ]
  },
  {
   "cell_type": "code",
   "execution_count": null,
   "metadata": {},
   "outputs": [],
   "source": [
    "euclidean_to_vector2(space.data[:space._number], goalPlain)[:10]"
   ]
  },
  {
   "cell_type": "code",
   "execution_count": null,
   "metadata": {},
   "outputs": [],
   "source": [
    "cols=np.array([True, True])"
   ]
  },
  {
   "cell_type": "code",
   "execution_count": null,
   "metadata": {},
   "outputs": [],
   "source": [
    "%%timeit\n",
    "# %%prun -s tottime\n",
    "# for _ in range(1000):\n",
    "euclidean_distances(space.data[:space._number], goalPlain, columns=cols)"
   ]
  },
  {
   "cell_type": "code",
   "execution_count": null,
   "metadata": {},
   "outputs": [],
   "source": [
    "%%timeit\n",
    "euclidean_distances(space.data[:space._number], goalPlain)"
   ]
  },
  {
   "cell_type": "code",
   "execution_count": null,
   "metadata": {},
   "outputs": [],
   "source": [
    "%%timeit\n",
    "euclidean_pairwise(space.data[:space._number], goalPlain2)"
   ]
  },
  {
   "cell_type": "code",
   "execution_count": null,
   "metadata": {},
   "outputs": [],
   "source": [
    "%%timeit\n",
    "euclidean_to_vector(space.data[:space._number], goalPlain)"
   ]
  },
  {
   "cell_type": "code",
   "execution_count": null,
   "metadata": {},
   "outputs": [],
   "source": [
    "%%timeit\n",
    "euclidean_to_vector2(space.data[:space._number], goalPlain)"
   ]
  },
  {
   "cell_type": "code",
   "execution_count": null,
   "metadata": {},
   "outputs": [],
   "source": [
    "from numba import jit\n",
    "import numpy as np\n",
    "\n",
    "@jit(nopython=True)\n",
    "def distancesNumba(data, x, weights=1., maxDist=1.):\n",
    "    return (np.sum(((data - x) * weights) ** 2, axis=1) ** 0.5) / maxDist"
   ]
  },
  {
   "cell_type": "code",
   "execution_count": null,
   "metadata": {},
   "outputs": [],
   "source": [
    "%%timeit\n",
    "distancesNumba(space.data[:space._number], goalPlain)"
   ]
  },
  {
   "cell_type": "code",
   "execution_count": null,
   "metadata": {
    "tags": []
   },
   "outputs": [],
   "source": [
    "%%prun -s tottime\n",
    "for _ in range(1):\n",
    "    learner.train(10)\n",
    "    env.run()\n",
    "    # env.evaluate()\n",
    "\n",
    "    # competences[learner.iteration] = learner.dataset.competences(precise=True)"
   ]
  },
  {
   "cell_type": "code",
   "execution_count": null,
   "metadata": {},
   "outputs": [],
   "source": [
    "%%timeit\n",
    "space = learner.dataset.spaces[0]\n",
    "kind = space.kind\n",
    "# relatedSpace = next(iter([s for s in learner.dataset.spaces if s.kind.value == kind.value and s.linkedTo(space)]), None)\n",
    "relatedSpace = next((s for s in learner.dataset.spaces if s.kind.value == kind.value and s.linkedTo(space)), None)"
   ]
  },
  {
   "cell_type": "code",
   "execution_count": null,
   "metadata": {},
   "outputs": [],
   "source": [
    "learner.dataset.controllableSpaces(explorable=True)"
   ]
  },
  {
   "cell_type": "code",
   "execution_count": null,
   "metadata": {},
   "outputs": [],
   "source": [
    "learner.dataset.competences()"
   ]
  },
  {
   "cell_type": "code",
   "execution_count": null,
   "metadata": {},
   "outputs": [],
   "source": [
    "{model: model.precision for model in learner.dataset.models}"
   ]
  },
  {
   "cell_type": "code",
   "execution_count": null,
   "metadata": {},
   "outputs": [],
   "source": [
    "print(env.evaluations())"
   ]
  },
  {
   "cell_type": "code",
   "execution_count": null,
   "metadata": {},
   "outputs": [],
   "source": [
    "print(env.evaluations())"
   ]
  },
  {
   "cell_type": "markdown",
   "metadata": {},
   "source": [
    "## Results\n",
    "---------"
   ]
  },
  {
   "cell_type": "code",
   "execution_count": null,
   "metadata": {
    "tags": []
   },
   "outputs": [],
   "source": [
    "# %prun -s cumtime learner.train(20)"
   ]
  },
  {
   "cell_type": "code",
   "execution_count": null,
   "metadata": {},
   "outputs": [],
   "source": [
    "learner.dataset.models[0].npForward(learner.propertySpace('Agent.move').point([-0.027,  0.035]).setRelative(True), context=env.state().context())"
   ]
  },
  {
   "cell_type": "code",
   "execution_count": null,
   "metadata": {},
   "outputs": [],
   "source": [
    "learner.analyse.visualizeRandomActions()[0].items[0].dim"
   ]
  },
  {
   "cell_type": "code",
   "execution_count": null,
   "metadata": {},
   "outputs": [],
   "source": [
    "display(learner.analyse.visualizeGoals())"
   ]
  },
  {
   "cell_type": "code",
   "execution_count": null,
   "metadata": {},
   "outputs": [],
   "source": [
    "# display(learner.analyse.visualizeReachedGoals())"
   ]
  },
  {
   "cell_type": "code",
   "execution_count": null,
   "metadata": {},
   "outputs": [],
   "source": [
    "display(learner.analyse.visualizeGoalErrors())"
   ]
  },
  {
   "cell_type": "code",
   "execution_count": null,
   "metadata": {},
   "outputs": [],
   "source": [
    "id(learner.configs[2].model)"
   ]
  },
  {
   "cell_type": "code",
   "execution_count": null,
   "metadata": {},
   "outputs": [],
   "source": [
    "id(learner.dataset.models[1])"
   ]
  },
  {
   "cell_type": "code",
   "execution_count": null,
   "metadata": {},
   "outputs": [],
   "source": [
    "# learner.analyse.contextGoals()"
   ]
  },
  {
   "cell_type": "code",
   "execution_count": null,
   "metadata": {},
   "outputs": [],
   "source": [
    "# list(learner.configs.values())[-20:]"
   ]
  },
  {
   "cell_type": "code",
   "execution_count": null,
   "metadata": {},
   "outputs": [],
   "source": [
    "# [c.result.action for c in list(learner.learningConfigs.values())[:300]]"
   ]
  },
  {
   "cell_type": "code",
   "execution_count": null,
   "metadata": {},
   "outputs": [],
   "source": [
    "{model: model.precision for model in learner.dataset.models}"
   ]
  },
  {
   "cell_type": "code",
   "execution_count": null,
   "metadata": {},
   "outputs": [],
   "source": [
    "learner.interestModel.sampleBestRegion()"
   ]
  },
  {
   "cell_type": "code",
   "execution_count": null,
   "metadata": {},
   "outputs": [],
   "source": [
    "learner.interestModel.modelsWithInterestMaps()"
   ]
  },
  {
   "cell_type": "code",
   "execution_count": null,
   "metadata": {},
   "outputs": [],
   "source": [
    "import numpy as np\n",
    "np.max(learner.dataset.models[2].interestMap().pointValues)"
   ]
  },
  {
   "cell_type": "code",
   "execution_count": null,
   "metadata": {},
   "outputs": [],
   "source": [
    "# learner.dataset.models[1].interestMap().pointValues"
   ]
  },
  {
   "cell_type": "code",
   "execution_count": null,
   "metadata": {},
   "outputs": [],
   "source": [
    "# learner.dataset.models[1].interestMap().points"
   ]
  },
  {
   "cell_type": "code",
   "execution_count": null,
   "metadata": {},
   "outputs": [],
   "source": [
    "# display(learner.dataset.models[1].interestMap().visualizeData())"
   ]
  },
  {
   "cell_type": "code",
   "execution_count": null,
   "metadata": {},
   "outputs": [],
   "source": [
    "env.evaluate()"
   ]
  },
  {
   "cell_type": "code",
   "execution_count": null,
   "metadata": {},
   "outputs": [],
   "source": [
    "env.evaluators[0].evaluations"
   ]
  },
  {
   "cell_type": "code",
   "execution_count": null,
   "metadata": {},
   "outputs": [],
   "source": [
    "env.evaluators[0].evaluations[345].results[0].results"
   ]
  },
  {
   "cell_type": "code",
   "execution_count": null,
   "metadata": {},
   "outputs": [],
   "source": [
    "learner.dataset.invalidateCompetences()\n",
    "learner.dataset.competences(precise=True)"
   ]
  },
  {
   "cell_type": "code",
   "execution_count": null,
   "metadata": {},
   "outputs": [],
   "source": [
    "learner.dataset.models"
   ]
  },
  {
   "cell_type": "code",
   "execution_count": null,
   "metadata": {},
   "outputs": [],
   "source": [
    "mrpp.contextSpacialization[0].allTrue()"
   ]
  },
  {
   "cell_type": "code",
   "execution_count": null,
   "metadata": {},
   "outputs": [],
   "source": [
    "learner.dataset.models[1].invalidateCompetences()\n",
    "learner.dataset.models[1].competence(precise=True)"
   ]
  },
  {
   "cell_type": "code",
   "execution_count": null,
   "metadata": {
    "tags": []
   },
   "outputs": [],
   "source": [
    "learner.adaptiveModelManager.evaluateModels(None)"
   ]
  },
  {
   "cell_type": "code",
   "execution_count": null,
   "metadata": {},
   "outputs": [],
   "source": [
    "[model.lowCompetenceSince for model in learner.dataset.enabledModels()]"
   ]
  },
  {
   "cell_type": "code",
   "execution_count": null,
   "metadata": {},
   "outputs": [],
   "source": [
    "competences"
   ]
  },
  {
   "cell_type": "code",
   "execution_count": null,
   "metadata": {
    "tags": []
   },
   "outputs": [],
   "source": [
    "[config.result.action for config in learner.configHistory]"
   ]
  },
  {
   "cell_type": "code",
   "execution_count": null,
   "metadata": {
    "tags": []
   },
   "outputs": [],
   "source": [
    "# learner.interestModel.sampleBestPoint()"
   ]
  },
  {
   "cell_type": "code",
   "execution_count": null,
   "metadata": {
    "tags": []
   },
   "outputs": [],
   "source": [
    "from exlab.modular.logger import Logger, logger, logging\n",
    "# logger().setRecordLevel(Logger.DEBUG2, 'performer')\n",
    "# logger().setDisplayLevel(Logger.DEBUG2, 'performer')\n",
    "# logger().setRecordLevel(Logger.DEBUG2, 'strategy')\n",
    "# logger().setDisplayLevel(Logger.DEBUG2, 'strategy')\n",
    "# logger().setRecordLevel(Logger.DEBUG2, 'plan')\n",
    "# logger().setDisplayLevel(Logger.DEBUG2, 'plan')\n",
    "# logger().setRecordLevel(logging.DEBUG, 'plan')\n",
    "# logger().setDisplayLevel(logging.DEBUG, 'plan')\n",
    "# logger().display(tag='plan')"
   ]
  },
  {
   "cell_type": "code",
   "execution_count": null,
   "metadata": {
    "tags": []
   },
   "outputs": [],
   "source": [
    "learner.dataset.competences(precise=True)"
   ]
  },
  {
   "cell_type": "code",
   "execution_count": null,
   "metadata": {
    "tags": []
   },
   "outputs": [],
   "source": [
    "learner.dataset.competences(precise=True)"
   ]
  },
  {
   "cell_type": "code",
   "execution_count": null,
   "metadata": {},
   "outputs": [],
   "source": [
    "# mrpp.contextSpacialization[0].allTrue()"
   ]
  },
  {
   "cell_type": "code",
   "execution_count": null,
   "metadata": {},
   "outputs": [],
   "source": [
    "# mrp.contextSpacialization[1]._resetAreas()"
   ]
  },
  {
   "cell_type": "code",
   "execution_count": null,
   "metadata": {},
   "outputs": [],
   "source": [
    "[area.columns for area in learner.dataset.models[1].contextSpacialization[0].areas]"
   ]
  },
  {
   "cell_type": "code",
   "execution_count": null,
   "metadata": {},
   "outputs": [],
   "source": [
    "display(learner.dataset.models[1].contextSpacialization[0].visualizeAreas())"
   ]
  },
  {
   "cell_type": "code",
   "execution_count": null,
   "metadata": {
    "tags": []
   },
   "outputs": [],
   "source": [
    "display(learner.dataset.models[2].contextSpacialization[0].visualizeAreas())"
   ]
  },
  {
   "cell_type": "code",
   "execution_count": null,
   "metadata": {
    "tags": []
   },
   "outputs": [],
   "source": [
    "# mrp.eventForwardError(467)"
   ]
  },
  {
   "cell_type": "code",
   "execution_count": null,
   "metadata": {
    "tags": []
   },
   "outputs": [],
   "source": [
    "# eventId = 85\n",
    "# action = mrp.actionSpace.getPoint(eventId)[0]\n",
    "# outcome = mrp.outcomeSpace.getPoint(eventId)[0]\n",
    "# context = mrp.contextSpace.getPoint(eventId)[0]\n",
    "# print(action)\n",
    "# mrp.inverse(outcome, context=context)"
   ]
  },
  {
   "cell_type": "markdown",
   "metadata": {},
   "source": [
    "## Planning"
   ]
  },
  {
   "cell_type": "code",
   "execution_count": null,
   "metadata": {},
   "outputs": [],
   "source": [
    "goal = learner.propertySpace('Agent.position').point([150, 250]).setRelative(False)\n",
    "# goal = learner.propertySpace('#Cylinder1.positionToAgent').point([50, 0]).setRelative(False)\n",
    "with logger().debugging('plan'):\n",
    "    learner.planner.planDistance(goal)"
   ]
  },
  {
   "cell_type": "code",
   "execution_count": null,
   "metadata": {},
   "outputs": [],
   "source": [
    "mrpp.inverse(learner.propertySpace('#Cylinder1.positionToAgent').goal([-10.882,  11.432]), context=env.state().context())"
   ]
  },
  {
   "cell_type": "code",
   "execution_count": null,
   "metadata": {},
   "outputs": [],
   "source": [
    "mrpp.forward(learner.propertySpace('Agent.position').action([10.960, -10.059]), context=env.state().context())"
   ]
  },
  {
   "cell_type": "code",
   "execution_count": null,
   "metadata": {
    "tags": []
   },
   "outputs": [],
   "source": [
    "mrp.inverse(learner.propertySpace('#Cylinder1.positionToAgent').action([3, 0]), context=context)"
   ]
  },
  {
   "cell_type": "code",
   "execution_count": null,
   "metadata": {
    "tags": []
   },
   "outputs": [],
   "source": [
    "mrp.inverse(learner.propertySpace('#Cylinder1.positionToAgent').action([3, 0]), context=env.state().context())"
   ]
  },
  {
   "cell_type": "code",
   "execution_count": null,
   "metadata": {},
   "outputs": [],
   "source": [
    "import numpy as np\n",
    "learner.dataset.models[0].contextSpacialization[0].areas[0].columns"
   ]
  },
  {
   "cell_type": "code",
   "execution_count": null,
   "metadata": {},
   "outputs": [],
   "source": [
    "env.scene.setupEpisode(MoveConfig(evaluating=True), forceReset=True)\n",
    "env.image()"
   ]
  },
  {
   "cell_type": "code",
   "execution_count": null,
   "metadata": {},
   "outputs": [],
   "source": [
    "env.evaluate()"
   ]
  },
  {
   "cell_type": "code",
   "execution_count": null,
   "metadata": {},
   "outputs": [],
   "source": [
    "learner.propertySpace('#Cylinder1.position').boundProperty.observe()"
   ]
  },
  {
   "cell_type": "code",
   "execution_count": null,
   "metadata": {},
   "outputs": [],
   "source": [
    "with logger().debugging('plan'):\n",
    "    learner.planner.plan(learner.propertySpace('Agent.position').point([10,  0.000]).setRelative(True))"
   ]
  },
  {
   "cell_type": "code",
   "execution_count": null,
   "metadata": {},
   "outputs": [],
   "source": [
    "with logger().debugging('plan'):\n",
    "    # learner.planner.plan(learner.propertySpace('Agent.position').point([100,  0]).setRelative(True))\n",
    "    learner.planner.plan(learner.propertySpace('#Cylinder1.positionToAgent').point([-100,  0]).setRelative(True))"
   ]
  },
  {
   "cell_type": "code",
   "execution_count": null,
   "metadata": {},
   "outputs": [],
   "source": [
    "env.world.child('Agent').body.position = [350,  250]\n",
    "env.world.child('#Cylinder1').body.position = [150,  250]\n",
    "context = env.state().context()\n",
    "env.image()"
   ]
  },
  {
   "cell_type": "code",
   "execution_count": null,
   "metadata": {},
   "outputs": [],
   "source": [
    "env.agents()[0]._performAction(mMove.actionSpace.action([0.506, -0.251]))"
   ]
  },
  {
   "cell_type": "code",
   "execution_count": null,
   "metadata": {},
   "outputs": [],
   "source": [
    "mMove.npForward(mMove.actionSpace.action([0.756,  0.124]), context)"
   ]
  },
  {
   "cell_type": "code",
   "execution_count": null,
   "metadata": {},
   "outputs": [],
   "source": [
    "from dinos.agents.tools.models.regression import RegressionModel\n",
    "# ids, contextColumns = RegressionModel._db_ids\n",
    "# a0 = np.array([0.756,  0.124])\n",
    "# c0 = context.projection(mMove.contextSpace).npPlain()[contextColumns]\n",
    "# ac0 = np.hstack([a0, c0])\n",
    "# a = mMove.actionSpace.getData(ids)\n",
    "# c = mMove.contextSpace.getData(ids)[:, contextColumns]\n",
    "# ac = np.hstack([a, c]) * mMove.actionContextSpace._nnWeights[contextColumns]\n",
    "# o = mMove.outcomeSpace.getData(ids)\n",
    "x, y, x0, fullColumns, weights = RegressionModel._db_data\n",
    "X = x[:, fullColumns]\n",
    "x0 = [x0[fullColumns]]\n",
    "y0 = np.array([4.596, -5.455])\n",
    "y0"
   ]
  },
  {
   "cell_type": "code",
   "execution_count": null,
   "metadata": {},
   "outputs": [],
   "source": [
    "from sklearn import linear_model"
   ]
  },
  {
   "cell_type": "code",
   "execution_count": null,
   "metadata": {},
   "outputs": [],
   "source": [
    "l = linear_model.LinearRegression().fit(X, y)\n",
    "l.predict(x0)"
   ]
  },
  {
   "cell_type": "code",
   "execution_count": null,
   "metadata": {},
   "outputs": [],
   "source": [
    "l = linear_model.Ridge(alpha=1.0).fit(X, y)\n",
    "l.predict(x0)"
   ]
  },
  {
   "cell_type": "code",
   "execution_count": null,
   "metadata": {},
   "outputs": [],
   "source": [
    "l = linear_model.ElasticNet(random_state=0).fit(X, y)\n",
    "l.predict(x0)"
   ]
  },
  {
   "cell_type": "code",
   "execution_count": null,
   "metadata": {},
   "outputs": [],
   "source": [
    "l = linear_model.Lasso(alpha=0.1).fit(X, y)\n",
    "l.predict(x0)"
   ]
  },
  {
   "cell_type": "code",
   "execution_count": null,
   "metadata": {},
   "outputs": [],
   "source": [
    "l = linear_model.RANSACRegressor(random_state=0).fit(X, y)\n",
    "l.predict(x0)"
   ]
  },
  {
   "cell_type": "code",
   "execution_count": null,
   "metadata": {},
   "outputs": [],
   "source": [
    "mMove.inverse(mMove.outcomeSpace.action([21.601, -1.871]), context)"
   ]
  },
  {
   "cell_type": "code",
   "execution_count": null,
   "metadata": {},
   "outputs": [],
   "source": [
    "learner.reach(learner.propertySpace('#Cylinder1.positionToAgent').point([0, -70]).setRelative(False))"
   ]
  },
  {
   "cell_type": "code",
   "execution_count": null,
   "metadata": {
    "tags": []
   },
   "outputs": [],
   "source": [
    "with logger().debugging(['plan', 'perform']):\n",
    "    # learner.reach(learner.propertySpace('Agent.position').point([150, 150]).setRelative(False))\n",
    "    learner.reach(learner.propertySpace('#Cylinder1.positionToAgent').point([0, -70]).setRelative(False))\n",
    "env.run()"
   ]
  },
  {
   "cell_type": "code",
   "execution_count": null,
   "metadata": {},
   "outputs": [],
   "source": [
    "env.world.cascadingProperties()"
   ]
  },
  {
   "cell_type": "code",
   "execution_count": null,
   "metadata": {},
   "outputs": [],
   "source": [
    "model = learner.dataset.models[0]"
   ]
  },
  {
   "cell_type": "code",
   "execution_count": null,
   "metadata": {},
   "outputs": [],
   "source": [
    "ids, dists = learner.dataset.models[0].nearestOutcome(learner.propertySpace('Agent.position').point([-20.782,  0.000]), context=env.state().context(), n=10)[:2]\n",
    "learner.dataset.models[0].outcomeSpace.getNpPlainPoint(ids)"
   ]
  },
  {
   "cell_type": "code",
   "execution_count": null,
   "metadata": {},
   "outputs": [],
   "source": [
    "ids = learner.dataset.models[0].outcomeSpace.nearest(learner.propertySpace('Agent.position').point([-20.782,  0.000]), n=10)[0]\n",
    "learner.dataset.models[0].outcomeSpace.getNpPlainPoint(ids)"
   ]
  },
  {
   "cell_type": "code",
   "execution_count": null,
   "metadata": {},
   "outputs": [],
   "source": [
    "learner.propertySpace('Agent.position').boundProperty.observe()"
   ]
  },
  {
   "cell_type": "code",
   "execution_count": null,
   "metadata": {},
   "outputs": [],
   "source": [
    "learner.propertySpace('Agent.position').boundProperty.observe()"
   ]
  },
  {
   "cell_type": "code",
   "execution_count": null,
   "metadata": {},
   "outputs": [],
   "source": [
    "learner.propertySpace('#Cylinder1.positionToAgent').boundProperty.observe()"
   ]
  },
  {
   "cell_type": "code",
   "execution_count": null,
   "metadata": {},
   "outputs": [],
   "source": [
    "learner.dataset.models[0].reachable(learner.propertySpace('Agent.position').point([10,  0]).setRelative(True), context=env.state().context())"
   ]
  },
  {
   "cell_type": "code",
   "execution_count": null,
   "metadata": {},
   "outputs": [],
   "source": [
    "env.scene.setupEpisode(MoveConfig(evaluating=True), forceReset=True)\n",
    "env.image()"
   ]
  },
  {
   "cell_type": "code",
   "execution_count": null,
   "metadata": {},
   "outputs": [],
   "source": [
    "learner.reach(learner.propertySpace('#Cylinder1.positionToAgent').point([0.600, 69.199]).setRelative(False))\n",
    "env.run()"
   ]
  },
  {
   "cell_type": "code",
   "execution_count": null,
   "metadata": {
    "tags": []
   },
   "outputs": [],
   "source": [
    "config = MoveConfig(goal=learner.propertySpace('#Cylinder1.positionToAgent').point([-41, 0]).setRelative(False))\n",
    "config.plannerSettings.dontMoveSpaces.append(learner.propertySpace('#Cylinder1.position'))\n",
    "learner.reach(config)\n",
    "env.run()"
   ]
  },
  {
   "cell_type": "code",
   "execution_count": null,
   "metadata": {},
   "outputs": [],
   "source": [
    "learner.dataset.models[0].competence(precise=True)"
   ]
  },
  {
   "cell_type": "code",
   "execution_count": null,
   "metadata": {},
   "outputs": [],
   "source": [
    "learner.dataset.models[2].precision"
   ]
  },
  {
   "cell_type": "code",
   "execution_count": null,
   "metadata": {},
   "outputs": [],
   "source": [
    "learner.dataset.models[2].outcomeSpace.maxDistance / 25 * 7"
   ]
  },
  {
   "cell_type": "code",
   "execution_count": null,
   "metadata": {},
   "outputs": [],
   "source": [
    "learner.dataset.models[2].limitMoves = 0.3"
   ]
  },
  {
   "cell_type": "code",
   "execution_count": null,
   "metadata": {},
   "outputs": [],
   "source": [
    "import numpy as np\n",
    "for model in learner.dataset.models:\n",
    "    # model.precisionPerGoalNorm = np.zeros(model.PRECISION_GOAL_NUMBER)\n",
    "    # model.precisionPerGoalNormNumber = np.zeros(model.PRECISION_GOAL_NUMBER)\n",
    "    model.limitMoves = 1"
   ]
  },
  {
   "cell_type": "code",
   "execution_count": null,
   "metadata": {},
   "outputs": [],
   "source": [
    "learner.reach(learner.propertySpace('#Cylinder1.position').point([-25, -10]).setRelative(True))\n",
    "env.run()"
   ]
  },
  {
   "cell_type": "code",
   "execution_count": null,
   "metadata": {},
   "outputs": [],
   "source": [
    "learner.planner.plan(learner.propertySpace('#Cylinder1.position').point([-25, 0]).setRelative(True))"
   ]
  },
  {
   "cell_type": "code",
   "execution_count": null,
   "metadata": {},
   "outputs": [],
   "source": [
    "learner.dataset.models[2].precision"
   ]
  },
  {
   "cell_type": "code",
   "execution_count": null,
   "metadata": {},
   "outputs": [],
   "source": [
    "learner.dataset.models[2].reachable(learner.propertySpace('#Cylinder1.position').point([0.093,  12.1028]), learner.propertySpace('#Cylinder1.positionToAgent').point([0.399,  40.220]))"
   ]
  },
  {
   "cell_type": "code",
   "execution_count": null,
   "metadata": {},
   "outputs": [],
   "source": [
    "learner.dataset.models[2].forward(learner.propertySpace('Agent.position').point([23.263,  11.375]), learner.propertySpace('#Cylinder1.positionToAgent').point([0.399,  40.220]))"
   ]
  },
  {
   "cell_type": "code",
   "execution_count": null,
   "metadata": {},
   "outputs": [],
   "source": [
    "learner.dataset.models[2].actionContextSpace._nnWeights"
   ]
  },
  {
   "cell_type": "code",
   "execution_count": null,
   "metadata": {},
   "outputs": [],
   "source": [
    "for space in learner.dataset.spaces:\n",
    "    try:\n",
    "        space._updateSpaceWeights()\n",
    "    except:\n",
    "        print(f'not {space}')"
   ]
  },
  {
   "cell_type": "code",
   "execution_count": null,
   "metadata": {},
   "outputs": [],
   "source": [
    "learner.dataset.models[2].actionContextSpace._updateSpaceWeights()"
   ]
  },
  {
   "cell_type": "code",
   "execution_count": null,
   "metadata": {},
   "outputs": [],
   "source": [
    "env.world.observe()"
   ]
  },
  {
   "cell_type": "code",
   "execution_count": null,
   "metadata": {},
   "outputs": [],
   "source": [
    "# learner.dataset.models = learner.dataset.models[:-1]"
   ]
  },
  {
   "cell_type": "code",
   "execution_count": null,
   "metadata": {},
   "outputs": [],
   "source": [
    "learner.dataset.competences(precise=True)"
   ]
  },
  {
   "cell_type": "code",
   "execution_count": null,
   "metadata": {},
   "outputs": [],
   "source": [
    "learner.dataset.models[-1].invalidateCompetences()\n",
    "learner.dataset.models[-1].competence(precise=True)"
   ]
  },
  {
   "cell_type": "code",
   "execution_count": null,
   "metadata": {},
   "outputs": [],
   "source": [
    "learner.dataset.models[-1].contextSpacialization[0].allFalse()"
   ]
  },
  {
   "cell_type": "code",
   "execution_count": null,
   "metadata": {},
   "outputs": [],
   "source": [
    "from exlab.modular.logger import Logger, logger, logging\n",
    "# logger().setDisplayLevel(Logger.DEBUG2, 'strategy')"
   ]
  },
  {
   "cell_type": "code",
   "execution_count": null,
   "metadata": {},
   "outputs": [],
   "source": [
    "logger().setDisplayLevel(Logger.DEBUG2, 'performer')"
   ]
  },
  {
   "cell_type": "code",
   "execution_count": null,
   "metadata": {},
   "outputs": [],
   "source": [
    "logger().setDisplayLevel(Logger.DEBUG2, 'plan')"
   ]
  },
  {
   "cell_type": "code",
   "execution_count": null,
   "metadata": {},
   "outputs": [],
   "source": [
    "logger().setDisplayLevel(logging.DEBUG, 'plan')"
   ]
  },
  {
   "cell_type": "code",
   "execution_count": null,
   "metadata": {},
   "outputs": [],
   "source": [
    "logger().setDisplayLevel(logging.INFO, 'plan')"
   ]
  },
  {
   "cell_type": "code",
   "execution_count": null,
   "metadata": {},
   "outputs": [],
   "source": [
    "logger().setDisplayLevel(logging.INFO, 'dataset')"
   ]
  },
  {
   "cell_type": "code",
   "execution_count": null,
   "metadata": {},
   "outputs": [],
   "source": [
    "learner.propertySpace('#Cylinder1.position').boundProperty.observe()"
   ]
  },
  {
   "cell_type": "code",
   "execution_count": null,
   "metadata": {},
   "outputs": [],
   "source": [
    "learner.propertySpace('#Cylinder1.position').boundProperty.observe()"
   ]
  },
  {
   "cell_type": "code",
   "execution_count": null,
   "metadata": {},
   "outputs": [],
   "source": [
    "for i in range(10):\n",
    "    env.scene.setupEpisode(None)"
   ]
  },
  {
   "cell_type": "code",
   "execution_count": null,
   "metadata": {
    "tags": []
   },
   "outputs": [],
   "source": [
    "learner.reach(learner.propertySpace('#Cylinder1.position').point([10, 0]).setRelative(True))\n",
    "env.run()"
   ]
  },
  {
   "cell_type": "code",
   "execution_count": null,
   "metadata": {},
   "outputs": [],
   "source": [
    "learner.propertySpace('Agent.position')._spaceWeights"
   ]
  },
  {
   "cell_type": "code",
   "execution_count": null,
   "metadata": {},
   "outputs": [],
   "source": [
    "learner.dataset.models[2].npForward(learner.propertySpace('Agent.position').point([-0.697, -17.604]).setRelative(True), context=env.state().context())"
   ]
  },
  {
   "cell_type": "code",
   "execution_count": null,
   "metadata": {},
   "outputs": [],
   "source": [
    "learner.dataset.models[1].inverse(learner.propertySpace('#Cylinder1.positionToAgent').point([1.097,  4.245]).setRelative(True), context=env.state().context())"
   ]
  },
  {
   "cell_type": "code",
   "execution_count": null,
   "metadata": {},
   "outputs": [],
   "source": [
    "learner.iteration"
   ]
  },
  {
   "cell_type": "code",
   "execution_count": null,
   "metadata": {
    "tags": []
   },
   "outputs": [],
   "source": [
    "mrpp.forward(learner.propertySpace('Agent.position').action([22.107, -2.817]), context=env.state().context())"
   ]
  },
  {
   "cell_type": "code",
   "execution_count": null,
   "metadata": {
    "tags": []
   },
   "outputs": [],
   "source": [
    "mrpp.inverse(learner.propertySpace('#Cylinder1.positionToAgent').action([-12.170,  0.149]), context=env.state().context())"
   ]
  },
  {
   "cell_type": "code",
   "execution_count": null,
   "metadata": {},
   "outputs": [],
   "source": [
    "learner.propertySpace('Agent.move').convertTo(spaceManager=learner.dataset)"
   ]
  },
  {
   "cell_type": "code",
   "execution_count": null,
   "metadata": {
    "tags": []
   },
   "outputs": [],
   "source": [
    "learner.reach(learner.propertySpace('#Cylinder1.position').point([0, -10]).setRelative(True))\n",
    "env.run()"
   ]
  },
  {
   "cell_type": "code",
   "execution_count": null,
   "metadata": {},
   "outputs": [],
   "source": [
    "learner.propertySpace('Agent.position').point([0, 0])"
   ]
  },
  {
   "cell_type": "code",
   "execution_count": null,
   "metadata": {},
   "outputs": [],
   "source": [
    "learner.dataset.spaces"
   ]
  },
  {
   "cell_type": "code",
   "execution_count": null,
   "metadata": {},
   "outputs": [],
   "source": [
    "learner.dataset.spaces[7].maxDistancePerColumn"
   ]
  },
  {
   "cell_type": "code",
   "execution_count": null,
   "metadata": {},
   "outputs": [],
   "source": [
    "learner.propertySpace('Agent.move').maxDistancePerColumn"
   ]
  },
  {
   "cell_type": "code",
   "execution_count": null,
   "metadata": {},
   "outputs": [],
   "source": [
    "display(learner.propertySpace('Agent.move').visualizeData(), learner.propertySpace('Agent.position').visualizeData())"
   ]
  },
  {
   "cell_type": "code",
   "execution_count": null,
   "metadata": {
    "tags": []
   },
   "outputs": [],
   "source": [
    "display(learner.propertySpace('Agent.move').visualizeData(), learner.propertySpace('Agent.position').visualizeData())"
   ]
  },
  {
   "cell_type": "code",
   "execution_count": null,
   "metadata": {
    "tags": []
   },
   "outputs": [],
   "source": [
    "display(learner.propertySpace('Agent.move').visualizeData(), learner.propertySpace('#Cylinder1.positionToAgent').visualizeData())"
   ]
  },
  {
   "cell_type": "code",
   "execution_count": null,
   "metadata": {
    "tags": []
   },
   "outputs": [],
   "source": [
    "display(learner.propertySpace('Agent.position').visualizeData(), learner.propertySpace('#Cylinder1.position').visualizeData())"
   ]
  },
  {
   "cell_type": "code",
   "execution_count": null,
   "metadata": {},
   "outputs": [],
   "source": [
    "from dinos.data.space import SpaceKind\n",
    "display(learner.propertySpace('#Cylinder1.positionToAgent', SpaceKind.PRE).visualizeData())"
   ]
  },
  {
   "cell_type": "code",
   "execution_count": null,
   "metadata": {
    "tags": []
   },
   "outputs": [],
   "source": [
    "display(aff.actionSpace.visualizeData(), aff.outcomeSpace.visualizeData())"
   ]
  },
  {
   "cell_type": "code",
   "execution_count": null,
   "metadata": {
    "tags": []
   },
   "outputs": [],
   "source": [
    "from dinos.data.space import SpaceKind\n",
    "display(learner.propertySpace('#Cylinder1.positionToAgent', kind=SpaceKind.PRE).visualizeData(), learner.propertySpace('#Cylinder1.position').visualizeData())"
   ]
  },
  {
   "cell_type": "code",
   "execution_count": null,
   "metadata": {},
   "outputs": [],
   "source": [
    "mo.actionSpace.data[:20]"
   ]
  },
  {
   "cell_type": "code",
   "execution_count": null,
   "metadata": {},
   "outputs": [],
   "source": [
    "mo2.actionSpace.data[:20]"
   ]
  },
  {
   "cell_type": "code",
   "execution_count": null,
   "metadata": {},
   "outputs": [],
   "source": [
    "aff.actionSpace.data[95:100]"
   ]
  },
  {
   "cell_type": "code",
   "execution_count": null,
   "metadata": {
    "tags": []
   },
   "outputs": [],
   "source": [
    "aff.updateSpaces()"
   ]
  },
  {
   "cell_type": "code",
   "execution_count": null,
   "metadata": {},
   "outputs": [],
   "source": [
    "aff.outcomeSpace.data[:20]"
   ]
  },
  {
   "cell_type": "code",
   "execution_count": null,
   "metadata": {},
   "outputs": [],
   "source": [
    "aff.actionSpace.number"
   ]
  },
  {
   "cell_type": "code",
   "execution_count": null,
   "metadata": {},
   "outputs": [],
   "source": [
    "mo2.contextSpacialization[0].allTrue()"
   ]
  },
  {
   "cell_type": "code",
   "execution_count": null,
   "metadata": {
    "tags": []
   },
   "outputs": [],
   "source": [
    "mo.invalidateCompetences()\n",
    "mo.competence()"
   ]
  },
  {
   "cell_type": "code",
   "execution_count": null,
   "metadata": {
    "tags": []
   },
   "outputs": [],
   "source": [
    "aff.invalidateCompetences()\n",
    "aff.competence(precise=True)"
   ]
  },
  {
   "cell_type": "code",
   "execution_count": null,
   "metadata": {},
   "outputs": [],
   "source": [
    "aff.actionSpace.data[:10]"
   ]
  },
  {
   "cell_type": "code",
   "execution_count": null,
   "metadata": {},
   "outputs": [],
   "source": [
    "aff.getIds()"
   ]
  },
  {
   "cell_type": "code",
   "execution_count": null,
   "metadata": {},
   "outputs": [],
   "source": [
    "aff.outcomeSpace.getIds()"
   ]
  },
  {
   "cell_type": "code",
   "execution_count": null,
   "metadata": {
    "tags": []
   },
   "outputs": [],
   "source": [
    "aff.outcomeSpace"
   ]
  },
  {
   "cell_type": "code",
   "execution_count": null,
   "metadata": {},
   "outputs": [],
   "source": [
    "im = list(learner.dataset.models[0].interestMaps.values())[0]\n",
    "display(im.visualizeData())"
   ]
  },
  {
   "cell_type": "code",
   "execution_count": null,
   "metadata": {},
   "outputs": [],
   "source": [
    "im"
   ]
  },
  {
   "cell_type": "code",
   "execution_count": null,
   "metadata": {},
   "outputs": [],
   "source": [
    "display(mMove.contextSpacialization[0].visualizeAreas())"
   ]
  }
 ],
 "metadata": {
  "interpreter": {
   "hash": "28e765281bcf9ae015ef25da116cf546eb1738f420d6c46d8e33d5419d354008"
  },
  "kernelspec": {
   "display_name": "Python 3.8.3 64-bit ('env': venv)",
   "name": "python3"
  },
  "language_info": {
   "codemirror_mode": {
    "name": "ipython",
    "version": 3
   },
   "file_extension": ".py",
   "mimetype": "text/x-python",
   "name": "python",
   "nbconvert_exporter": "python",
   "pygments_lexer": "ipython3",
   "version": "3.8.3"
  },
  "orig_nbformat": 2
 },
 "nbformat": 4,
 "nbformat_minor": 2
}
