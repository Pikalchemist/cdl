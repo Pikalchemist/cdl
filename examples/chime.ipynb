{
 "cells": [
  {
   "cell_type": "code",
   "execution_count": null,
   "metadata": {
    "tags": []
   },
   "outputs": [],
   "source": [
    "%load_ext autoreload\n",
    "%autoreload 2\n",
    "# %matplotlib widget\n",
    "%matplotlib inline\n",
    "\n",
    "import sys\n",
    "sys.executable"
   ]
  },
  {
   "cell_type": "code",
   "execution_count": null,
   "metadata": {
    "tags": []
   },
   "outputs": [],
   "source": [
    "from dinos.environments.playground import PlaygroundEnvironment\n",
    "import dinos.environments.playground.scenes as playgroundScenes\n",
    "# env = PlaygroundEnvironment(playgroundScenes.RoomWithWallsScene)\n",
    "env = PlaygroundEnvironment(playgroundScenes.CylinderWallsScene)\n",
    "\n",
    "from cdl.agents.learners.curiosity.saggriac import SAGGLearner\n",
    "learner = SAGGLearner(env.world.findHost())\n",
    "learner.adaptiveModels = False\n",
    "# list(learner.trainStrategies)[0].exploreNonPrimitive = False\n",
    "\n",
    "from exlab.interface.graph import display\n",
    "from dinos.utils.move import MoveConfig\n",
    "from exlab.modular.logger import logger\n",
    "import numpy as np"
   ]
  },
  {
   "cell_type": "code",
   "execution_count": null,
   "metadata": {
    "tags": []
   },
   "outputs": [],
   "source": [
    "from cdl.agents.tools.models.interest_model import InterestModel\n",
    "mMove = InterestModel(learner.dataset, learner.propertySpace('Agent.move'), learner.propertySpace('Agent.position'), learner.propertySpace('Agent.lidar'))\n",
    "mRelativeObject = InterestModel(learner.dataset, learner.propertySpace('Agent.position'), learner.propertySpace('#Cylinder1.positionToAgent'), learner.propertySpace('#Cylinder1.positionToAgent'))\n",
    "mObject = InterestModel(learner.dataset, learner.propertySpace('Agent.position'), learner.propertySpace('#Cylinder1.position'), learner.propertySpace('#Cylinder1.positionToAgent'))\n",
    "# mButton = InterestModel(learner.dataset, learner.propertySpace('Agent.position'), learner.propertySpace('#Button1.pressed'), learner.propertySpace('#Cylinder1.position'))\n",
    "\n",
    "# mObject.limitMoves = 0.3\n",
    "\n",
    "# mrp = InterestModel(learner.dataset, learner.propertySpace('Agent.move'), learner.propertySpace('#Cylinder1.positionToAgent'))\n",
    "# mrp = InterestModel(learner.dataset, learner.propertySpace('Agent.move'), learner.propertySpace('#Cylinder1.positionToAgent'), learner.propertySpace('#Cylinder1.positionToAgent'))\n",
    "# mo = InterestModel(learner.dataset, learner.propertySpace('Agent.move'), learner.propertySpace('#Cylinder1.position'), learner.propertySpace('#Cylinder1.positionToAgent'), register=False)\n",
    "# mo2 = InterestModel(learner.dataset, learner.propertySpace('Agent.move'), learner.propertySpace('#Cylinder2.position'), learner.propertySpace('#Cylinder2.positionToAgent'), register=False)"
   ]
  },
  {
   "cell_type": "code",
   "execution_count": null,
   "metadata": {},
   "outputs": [],
   "source": [
    "learner.mods = learner.mods[:1]\n",
    "learner.mods"
   ]
  },
  {
   "cell_type": "code",
   "execution_count": null,
   "metadata": {},
   "outputs": [],
   "source": [
    "learner.dataset.dependencyGraph(startModels=[mMove])"
   ]
  },
  {
   "cell_type": "code",
   "execution_count": null,
   "metadata": {},
   "outputs": [],
   "source": [
    "learner.dataset.controlledSpaces([mMove])"
   ]
  },
  {
   "cell_type": "code",
   "execution_count": null,
   "metadata": {},
   "outputs": [],
   "source": [
    "env.state(learner.dataset).consequences(learner.propertySpace('Agent.move').point([1., 0.]))"
   ]
  },
  {
   "cell_type": "code",
   "execution_count": null,
   "metadata": {},
   "outputs": [],
   "source": [
    "# learner.load('PlaygroundEnvironment/Biloup2500/1')"
   ]
  },
  {
   "cell_type": "code",
   "execution_count": null,
   "metadata": {},
   "outputs": [],
   "source": [
    "env.displayGui(True)\n",
    "env.image()"
   ]
  },
  {
   "cell_type": "code",
   "execution_count": null,
   "metadata": {},
   "outputs": [],
   "source": [
    "learner.featureMap.update([learner.propertySpace('Agent.position').point([75, 470])])"
   ]
  },
  {
   "cell_type": "code",
   "execution_count": null,
   "metadata": {},
   "outputs": [],
   "source": [
    "learner.perform(mMove.actionSpace.action([0.5, 0.6]))"
   ]
  },
  {
   "cell_type": "code",
   "execution_count": null,
   "metadata": {},
   "outputs": [],
   "source": [
    "# db = learner.save('Blaka1000')"
   ]
  },
  {
   "cell_type": "code",
   "execution_count": null,
   "metadata": {},
   "outputs": [],
   "source": [
    "# %%prun -s cumtime\n",
    "learner.train(1)"
   ]
  },
  {
   "cell_type": "code",
   "execution_count": null,
   "metadata": {},
   "outputs": [],
   "source": [
    "learner.dataset.competences(precise=True)"
   ]
  },
  {
   "cell_type": "code",
   "execution_count": null,
   "metadata": {},
   "outputs": [],
   "source": [
    "learner.configHistory[-50:]"
   ]
  },
  {
   "cell_type": "code",
   "execution_count": null,
   "metadata": {},
   "outputs": [],
   "source": [
    "mMove.contextSpacialization[0].stability"
   ]
  },
  {
   "cell_type": "code",
   "execution_count": null,
   "metadata": {},
   "outputs": [],
   "source": [
    "for _ in range(5):\n",
    "    learner.train(50)\n",
    "    env.evaluate()"
   ]
  },
  {
   "cell_type": "code",
   "execution_count": null,
   "metadata": {},
   "outputs": [],
   "source": [
    "display(env.visualizeEvaluations())"
   ]
  },
  {
   "cell_type": "code",
   "execution_count": null,
   "metadata": {},
   "outputs": [],
   "source": [
    "display(env.visualizeEvaluations())"
   ]
  },
  {
   "cell_type": "code",
   "execution_count": null,
   "metadata": {},
   "outputs": [],
   "source": [
    "display(env.visualizeEvaluations())"
   ]
  },
  {
   "cell_type": "code",
   "execution_count": null,
   "metadata": {
    "tags": []
   },
   "outputs": [],
   "source": [
    "learner.train(10)"
   ]
  },
  {
   "cell_type": "code",
   "execution_count": null,
   "metadata": {},
   "outputs": [],
   "source": [
    "mMove.invalidateCompetences()\n",
    "mMove.competence(precise=True)"
   ]
  },
  {
   "cell_type": "code",
   "execution_count": null,
   "metadata": {},
   "outputs": [],
   "source": [
    "from dinos.data.space import SpaceKind\n",
    "def testPoint(id_):\n",
    "    space = learner.propertySpace('Agent.position', SpaceKind.PRE)\n",
    "    space.boundProperty.entity.body.position = space.getPoint([id_])[0].npPlain()\n",
    "\n",
    "    a = mMove.actionSpace.getPoint([id_])[0]\n",
    "    ctx = mMove.contextSpace.getPoint([id_])[0]\n",
    "    cols = mMove.contextSpacialization[0].columns(a)\n",
    "    w = mMove.outcomeSpace.getPoint([id_])[0]\n",
    "\n",
    "    wp, e = mMove.forward(mMove.actionSpace.getPoint([id_])[0], mMove.contextSpace.getPoint([id_])[0])\n",
    "    diff = mMove.outcomeSpace.getPoint([id_])[0] - wp\n",
    "\n",
    "    print(f'{a.npPlain()} | {ctx.npPlain()} => {w.npPlain()} ~= {wp.npPlain()} ({diff.npPlain()}, {e})')\n",
    "    print(cols)\n",
    "    return env.image()"
   ]
  },
  {
   "cell_type": "code",
   "execution_count": null,
   "metadata": {},
   "outputs": [],
   "source": [
    "testPoint(3)"
   ]
  },
  {
   "cell_type": "code",
   "execution_count": null,
   "metadata": {},
   "outputs": [],
   "source": [
    "testPoint(3)"
   ]
  },
  {
   "cell_type": "code",
   "execution_count": null,
   "metadata": {},
   "outputs": [],
   "source": [
    "[73 75 74 12 50 49 56  6 14 55 38 35 37 13 19 58 51 33 53 18 29 10 54 31\n",
    " 11 32 30  8  2  9 52 15 16 17  7 41 36 34 43 79 94 95 20 77]"
   ]
  },
  {
   "cell_type": "code",
   "execution_count": null,
   "metadata": {},
   "outputs": [],
   "source": [
    "ctx"
   ]
  },
  {
   "cell_type": "code",
   "execution_count": null,
   "metadata": {},
   "outputs": [],
   "source": [
    "id_ = 330\n",
    "p, _ = mMove.forward(mMove.actionSpace.getPoint([id_])[0], mMove.contextSpace.getPoint([id_])[0])\n",
    "diff = mMove.outcomeSpace.getPoint([id_])[0] - p\n",
    "diff, "
   ]
  },
  {
   "cell_type": "code",
   "execution_count": null,
   "metadata": {},
   "outputs": [],
   "source": [
    "mMove.contextSpacialization[0].addPoint(mMove.actionSpace.getPoint([3])[0], 2)"
   ]
  },
  {
   "cell_type": "code",
   "execution_count": null,
   "metadata": {},
   "outputs": [],
   "source": [
    "learner.iteration // 4"
   ]
  },
  {
   "cell_type": "code",
   "execution_count": null,
   "metadata": {},
   "outputs": [],
   "source": [
    "n = 0\n",
    "m = 0\n",
    "for i in range(learner.iteration // 10000, learner.iteration // 4):\n",
    "    na, ma = mMove.contextSpacialization[0].addPoint(mMove.actionSpace.getPoint([i])[0], True)\n",
    "    n += na\n",
    "    m += ma\n",
    "n, m"
   ]
  },
  {
   "cell_type": "code",
   "execution_count": null,
   "metadata": {},
   "outputs": [],
   "source": [
    "areas, distances = mMove.contextSpacialization[0].findAreaForAllColumnsDistances(mMove.actionSpace.point([0.6, -0.6]))\n",
    "mMove.contextSpacialization[0].columnsAreas(areas)"
   ]
  },
  {
   "cell_type": "code",
   "execution_count": null,
   "metadata": {},
   "outputs": [],
   "source": [
    "display(mMove.contextSpacialization[0].visualizeAreaColumn(7))"
   ]
  },
  {
   "cell_type": "code",
   "execution_count": null,
   "metadata": {},
   "outputs": [],
   "source": [
    "display(mRelativeObject.contextSpacialization[0].visualizeAreaColumn(1))"
   ]
  },
  {
   "cell_type": "code",
   "execution_count": null,
   "metadata": {},
   "outputs": [],
   "source": [
    "mMove.contextSpacialization[0].columns(mMove.actionSpace.point([0.2, -0.8]))"
   ]
  },
  {
   "cell_type": "code",
   "execution_count": null,
   "metadata": {},
   "outputs": [],
   "source": [
    "a, b, c = mMove.forwardErrors(precise=True, sortIds=True)\n",
    "a[:30], b[:30]"
   ]
  },
  {
   "cell_type": "code",
   "execution_count": null,
   "metadata": {},
   "outputs": [],
   "source": [
    "a, b, c = mMove.forwardErrors(precise=True, sortIds=True)\n",
    "a[:30], b[:30]"
   ]
  },
  {
   "cell_type": "code",
   "execution_count": null,
   "metadata": {},
   "outputs": [],
   "source": [
    "with logger().debugging2('plan'):\n",
    "    learner.train(1)"
   ]
  },
  {
   "cell_type": "code",
   "execution_count": null,
   "metadata": {},
   "outputs": [],
   "source": [
    "learner.configHistory[-1:]"
   ]
  },
  {
   "cell_type": "code",
   "execution_count": null,
   "metadata": {},
   "outputs": [],
   "source": [
    "im = list(mMove.interestMaps.items())[0][1]\n",
    "# display(im.visualizeData())"
   ]
  },
  {
   "cell_type": "code",
   "execution_count": null,
   "metadata": {},
   "outputs": [],
   "source": [
    "im.evaluation"
   ]
  },
  {
   "cell_type": "code",
   "execution_count": null,
   "metadata": {},
   "outputs": [],
   "source": [
    "list(mObject.interestMaps.items())[0][1].evaluation"
   ]
  },
  {
   "cell_type": "code",
   "execution_count": null,
   "metadata": {},
   "outputs": [],
   "source": [
    "len(im.points)"
   ]
  },
  {
   "cell_type": "code",
   "execution_count": null,
   "metadata": {},
   "outputs": [],
   "source": [
    "im.points[2].nearContext(env.state().context().projection(im.contextSpace))"
   ]
  },
  {
   "cell_type": "code",
   "execution_count": null,
   "metadata": {},
   "outputs": [],
   "source": [
    "im.contextSpace.bounds"
   ]
  },
  {
   "cell_type": "code",
   "execution_count": null,
   "metadata": {},
   "outputs": [],
   "source": [
    "im.evaluation"
   ]
  },
  {
   "cell_type": "code",
   "execution_count": null,
   "metadata": {},
   "outputs": [],
   "source": [
    "with logger().debugging2('evaluation'):\n",
    "    env.evaluate()"
   ]
  },
  {
   "cell_type": "code",
   "execution_count": null,
   "metadata": {},
   "outputs": [],
   "source": [
    "print(env.evaluations())"
   ]
  },
  {
   "cell_type": "code",
   "execution_count": null,
   "metadata": {},
   "outputs": [],
   "source": [
    "# d = env.deserializer()\n",
    "# d.deserialize(learner.save()['dataset'], obj=learner.dataset)"
   ]
  },
  {
   "cell_type": "code",
   "execution_count": null,
   "metadata": {
    "tags": []
   },
   "outputs": [],
   "source": [
    "# mc = InterestModel(learner.dataset, learner.propertySpace('Agent.move'), learner.propertySpace('Agent.position'), learner.propertySpace('Agent.lidar'))\n",
    "# mrpp = InterestModel(learner.dataset, learner.propertySpace('Agent.position'), learner.propertySpace('#Cylinder1.positionToAgent'), learner.propertySpace('#Cylinder1.positionToAgent'))\n",
    "# mop = InterestModel(learner.dataset, learner.propertySpace('Agent.position'), learner.propertySpace('#Cylinder1.position'), learner.propertySpace('#Cylinder1.positionToAgent'))"
   ]
  },
  {
   "cell_type": "code",
   "execution_count": null,
   "metadata": {},
   "outputs": [],
   "source": [
    "from exlab.modular.logger import Logger, logger, logging\n",
    "# logger().setRecordLevel(Logger.DEBUG2, 'performer')\n",
    "# logger().setDisplayLevel(Logger.DEBUG2, 'performer')\n",
    "# logger().setRecordLevel(logging.DEBUG, 'strategy')\n",
    "# logger().setDisplayLevel(logging.DEBUG, 'strategy')\n",
    "# logger().setRecordLevel(Logger.DEBUG2, 'plan')\n",
    "# logger().setDisplayLevel(Logger.DEBUG2, 'plan')\n",
    "# logger().display(tag='plan')"
   ]
  },
  {
   "cell_type": "code",
   "execution_count": null,
   "metadata": {},
   "outputs": [],
   "source": [
    "# competences = {}"
   ]
  },
  {
   "cell_type": "code",
   "execution_count": null,
   "metadata": {},
   "outputs": [],
   "source": [
    "# from exlab.modular.logger import Logger, logger, logging\n",
    "# logger().setDisplayLevel(Logger.DEBUG2, 'serial')"
   ]
  },
  {
   "cell_type": "code",
   "execution_count": null,
   "metadata": {},
   "outputs": [],
   "source": [
    "model = learner.dataset.models[0]\n",
    "# model.contextSpacialization[0].resetAreas()"
   ]
  },
  {
   "cell_type": "code",
   "execution_count": null,
   "metadata": {},
   "outputs": [],
   "source": [
    "model.invalidateCompetences()\n",
    "model.competence(precise=True)"
   ]
  },
  {
   "cell_type": "code",
   "execution_count": null,
   "metadata": {},
   "outputs": [],
   "source": [
    "model.invalidateCompetences()\n",
    "model.competence(precise=True)"
   ]
  },
  {
   "cell_type": "code",
   "execution_count": null,
   "metadata": {},
   "outputs": [],
   "source": [
    "model.outcomeContextSpace._nnWeights"
   ]
  },
  {
   "cell_type": "code",
   "execution_count": null,
   "metadata": {},
   "outputs": [],
   "source": [
    "model.outcomeContextSpace.spaces"
   ]
  },
  {
   "cell_type": "code",
   "execution_count": null,
   "metadata": {},
   "outputs": [],
   "source": [
    "model.forward(model.actionSpace.action([1., 0.]), context=env.state().context(), contextColumns=np.array([False, True, False, False, False, False, False, False]))"
   ]
  },
  {
   "cell_type": "code",
   "execution_count": null,
   "metadata": {},
   "outputs": [],
   "source": [
    "id_ = model.actionSpace.nearest(model.actionSpace.point([0.622, 0.539]))[0]\n",
    "model.actionSpace.getData([id_]), id_"
   ]
  },
  {
   "cell_type": "code",
   "execution_count": null,
   "metadata": {},
   "outputs": [],
   "source": [
    "model.restrictionIds"
   ]
  },
  {
   "cell_type": "code",
   "execution_count": null,
   "metadata": {},
   "outputs": [],
   "source": [
    "model.actionContextSpace._updateSpaceWeights()"
   ]
  },
  {
   "cell_type": "code",
   "execution_count": null,
   "metadata": {},
   "outputs": [],
   "source": []
  },
  {
   "cell_type": "code",
   "execution_count": null,
   "metadata": {},
   "outputs": [],
   "source": [
    "from sklearn.neural_network import MLPRegressor\n",
    "from sklearn.model_selection import train_test_split\n",
    "x = mMove.actionContextSpace.getData() * mMove.actionContextSpace._nnWeights\n",
    "y = mMove.outcomeSpace.getData() * mMove.outcomeSpace._nnWeights\n",
    "x_train, x_test, y_train, y_test = train_test_split(x, y, random_state=1)\n",
    "mMove.fnn = MLPRegressor(random_state=1, max_iter=2000).fit(x_train, y_train)"
   ]
  },
  {
   "cell_type": "code",
   "execution_count": null,
   "metadata": {},
   "outputs": [],
   "source": [
    "mMove.fnn.score(x_test, y_test)"
   ]
  },
  {
   "cell_type": "code",
   "execution_count": null,
   "metadata": {},
   "outputs": [],
   "source": [
    "x0 = np.array([1., 0., 70., 70., 70., 70., 70., 70., 70., 70.]) * mMove.actionContextSpace._nnWeights\n",
    "mMove.fnn.predict([x0])"
   ]
  },
  {
   "cell_type": "code",
   "execution_count": null,
   "metadata": {},
   "outputs": [],
   "source": [
    "x0 = np.array([1., 0., 10., 18., 70., 70., 70., 70., 70., 18.]) * mMove.actionContextSpace._nnWeights\n",
    "mMove.fnn.predict([x0])"
   ]
  },
  {
   "cell_type": "code",
   "execution_count": null,
   "metadata": {},
   "outputs": [],
   "source": [
    "mMove.competence()"
   ]
  },
  {
   "cell_type": "code",
   "execution_count": null,
   "metadata": {},
   "outputs": [],
   "source": [
    "model.actionContextSpace._nnWeights"
   ]
  },
  {
   "cell_type": "code",
   "execution_count": null,
   "metadata": {},
   "outputs": [],
   "source": [
    "model.forwardErrors(onlyIds=np.array([id_]), contextColumns=np.array([False, True, False, False, False, False, False, False]))"
   ]
  },
  {
   "cell_type": "code",
   "execution_count": null,
   "metadata": {
    "tags": []
   },
   "outputs": [],
   "source": [
    "learner.train(50)"
   ]
  },
  {
   "cell_type": "code",
   "execution_count": null,
   "metadata": {},
   "outputs": [],
   "source": [
    "with logger().debugging('plan'):\n",
    "    learner.train(5)"
   ]
  },
  {
   "cell_type": "code",
   "execution_count": null,
   "metadata": {},
   "outputs": [],
   "source": [
    "mMove.invalidateCompetences()\n",
    "mMove.competence(precise=True)"
   ]
  },
  {
   "cell_type": "code",
   "execution_count": null,
   "metadata": {},
   "outputs": [],
   "source": [
    "mMove.contextSpacialization[0].addPoint(mMove.actionSpace.getPoint([113])[0])"
   ]
  },
  {
   "cell_type": "code",
   "execution_count": null,
   "metadata": {},
   "outputs": [],
   "source": [
    "mMove.contextSpacialization[0].columns(mMove.actionSpace.getPoint([113])[0])"
   ]
  },
  {
   "cell_type": "code",
   "execution_count": null,
   "metadata": {},
   "outputs": [],
   "source": [
    "mMove.competence(onlyIds=np.array([1357]))"
   ]
  },
  {
   "cell_type": "code",
   "execution_count": null,
   "metadata": {},
   "outputs": [],
   "source": [
    "mMove.competence(onlyIds=np.array([1357]))"
   ]
  },
  {
   "cell_type": "code",
   "execution_count": null,
   "metadata": {},
   "outputs": [],
   "source": [
    "id_ = 1357\n",
    "out, _ = mMove.npForward(mMove.actionSpace.getPoint(id_)[0],\n",
    "                         mMove.contextSpace.getPoint(id_)[0])\n",
    "real = mMove.outcomeSpace.getPoint(id_)[0]\n",
    "out, real"
   ]
  },
  {
   "cell_type": "code",
   "execution_count": null,
   "metadata": {},
   "outputs": [],
   "source": [
    "e, ids, te = mMove.forwardErrors(precise=True, sortIds=True)\n",
    "worst = np.argwhere(e > 0.05)\n",
    "points = mMove.actionContextSpace.getNpPlainPoint(ids[worst])\n",
    "# e[worst], ids[worst], te[worst], points\n",
    "len(worst), mMove.outcomeSpace.number, ids[worst], points, te[worst]"
   ]
  },
  {
   "cell_type": "code",
   "execution_count": null,
   "metadata": {},
   "outputs": [],
   "source": [
    "np.set_printoptions(formatter={'float': lambda x: \"{0:0.3f}\".format(x)})"
   ]
  },
  {
   "cell_type": "code",
   "execution_count": null,
   "metadata": {},
   "outputs": [],
   "source": [
    "mMove.contextSpacialization[0].columns(mMove.actionSpace.point([0.134, -0.252]))"
   ]
  },
  {
   "cell_type": "code",
   "execution_count": null,
   "metadata": {},
   "outputs": [],
   "source": [
    "mMove.contextSpacialization[0].resetAreas()"
   ]
  },
  {
   "cell_type": "code",
   "execution_count": null,
   "metadata": {},
   "outputs": [],
   "source": [
    "mMove.contextSpacialization[0].columns(model.actionSpace.zero())"
   ]
  },
  {
   "cell_type": "code",
   "execution_count": null,
   "metadata": {},
   "outputs": [],
   "source": [
    "import numpy as np\n",
    "mMove.contextSpacialization[0].number = np.ones_like(mMove.contextSpacialization[0].number, dtype=np.int)"
   ]
  },
  {
   "cell_type": "code",
   "execution_count": null,
   "metadata": {},
   "outputs": [],
   "source": [
    "mMove.contextSpacialization[0].relevances[0, 0]"
   ]
  },
  {
   "cell_type": "code",
   "execution_count": null,
   "metadata": {},
   "outputs": [],
   "source": [
    "display(mMove.contextSpacialization[0].visualizeAreaColumn(4))"
   ]
  },
  {
   "cell_type": "code",
   "execution_count": null,
   "metadata": {},
   "outputs": [],
   "source": [
    "mMove.competence(precise=True)"
   ]
  },
  {
   "cell_type": "code",
   "execution_count": null,
   "metadata": {},
   "outputs": [],
   "source": [
    "mMove.contextSpacialization[0].data[0, :5, :]"
   ]
  },
  {
   "cell_type": "code",
   "execution_count": null,
   "metadata": {},
   "outputs": [],
   "source": [
    "mMove.contextSpacialization[0].relevances[0, :5]"
   ]
  },
  {
   "cell_type": "code",
   "execution_count": null,
   "metadata": {},
   "outputs": [],
   "source": [
    "display(mMove.contextSpacialization[0].visualizeAreaColumns())"
   ]
  },
  {
   "cell_type": "code",
   "execution_count": null,
   "metadata": {},
   "outputs": [],
   "source": [
    "model.outcomeSpace.getData(model.actionSpace.nearestDistance(model.actionSpace.point([-1., 0.]), n=20)[0])"
   ]
  },
  {
   "cell_type": "code",
   "execution_count": null,
   "metadata": {},
   "outputs": [],
   "source": [
    "model.contextSpacialization[0].addPoint(model.actionSpace.point([-1., 0.]), 0)"
   ]
  },
  {
   "cell_type": "code",
   "execution_count": null,
   "metadata": {},
   "outputs": [],
   "source": [
    "import numpy as np\n",
    "a = np.array([[-0.0508099,  0.00096602],\n",
    " [-0.05616756, 0.0005382 ],\n",
    " [-0.05667331, 0.01564693],\n",
    " [-0.06120358, 0.00326895],\n",
    " [-0.04796302,-0.0253568 ],\n",
    " [-0.06390312, 0.00135599],\n",
    " [-0.05669113,-0.0247679 ],\n",
    " [-0.05806777,-0.02602719],\n",
    " [-0.07085235, 0.0054878 ]])\n",
    "b = np.array([[-1.35035104, 0.06845228],\n",
    " [-1.4595478,  0.01399336],\n",
    " [ 0.06245619, 0.40559584],\n",
    " [-1.61969657, 0.08224321],\n",
    " [-1.28303248,-0.69540405],\n",
    " [-1.68502212, 0.05397376],\n",
    " [-1.52289188,-0.6782664 ],\n",
    " [-1.5335021, -0.69914473],\n",
    " [-1.88031556, 0.13394682]])"
   ]
  },
  {
   "cell_type": "code",
   "execution_count": null,
   "metadata": {},
   "outputs": [],
   "source": [
    "from sklearn.linear_model import LinearRegression\n",
    "reg = LinearRegression().fit(a, b)\n",
    "reg.predict(np.array([[-0.034,  0.001]]))"
   ]
  },
  {
   "cell_type": "code",
   "execution_count": null,
   "metadata": {},
   "outputs": [],
   "source": [
    "model.forward(model.actionSpace.action([-0.938, 0.]), model.contextSpace.point([70., 70., 70., 70., 70., 70., 70., 70.]))"
   ]
  },
  {
   "cell_type": "code",
   "execution_count": null,
   "metadata": {},
   "outputs": [],
   "source": [
    "model.competence()"
   ]
  },
  {
   "cell_type": "code",
   "execution_count": null,
   "metadata": {},
   "outputs": [],
   "source": [
    "%%prun -s tottime\n",
    "for _ in range(3):\n",
    "    learner.train(100)\n",
    "    env.run()"
   ]
  },
  {
   "cell_type": "code",
   "execution_count": null,
   "metadata": {},
   "outputs": [],
   "source": [
    "import numpy as np\n",
    "goal = learner.propertySpace('Agent.position').point([10., 6.])\n",
    "goals = [[10., 6.], [-20., -3.], [2., 2.], [-16., -4.]]\n",
    "space = learner.propertySpace('Agent.position')\n",
    "otherSpace = learner.propertySpace('Agent.move')\n",
    "goalPlain = goal.npPlain()\n",
    "goalPlain2 = np.array([goal.plain()])\n",
    "model = learner.dataset.models[0]\n",
    "context = env.state().context()\n",
    "ctx = context.projection(model.contextSpace)\n",
    "rids = np.arange(10)*3+1"
   ]
  },
  {
   "cell_type": "code",
   "execution_count": null,
   "metadata": {},
   "outputs": [],
   "source": [
    "for i in range(1, 1000):\n",
    "    space.addPoint(space.point([1., 1. + i / 1000]), i)\n",
    "    otherSpace.addPoint(otherSpace.point([1., 1. + i / 1000]), i)"
   ]
  },
  {
   "cell_type": "code",
   "execution_count": null,
   "metadata": {},
   "outputs": [],
   "source": [
    "# # %%timeit\n",
    "# %%prun -s cumtime\n",
    "# for _ in range(1000):\n",
    "#     model._nearestData(goal, ctx)"
   ]
  },
  {
   "cell_type": "code",
   "execution_count": null,
   "metadata": {},
   "outputs": [],
   "source": [
    "# # %%timeit\n",
    "# %%prun -s tottime\n",
    "# for _ in range(1000):\n",
    "#     space.computePerformances(goal)"
   ]
  },
  {
   "cell_type": "code",
   "execution_count": null,
   "metadata": {},
   "outputs": [],
   "source": [
    "# learner.dataset.models[0].bestLocalityCandidates\n",
    "# [config.plannerSettings.dontMoveSpaces for config in learner.configHistory]"
   ]
  },
  {
   "cell_type": "code",
   "execution_count": null,
   "metadata": {},
   "outputs": [],
   "source": [
    "otherSpace.ids"
   ]
  },
  {
   "cell_type": "code",
   "execution_count": null,
   "metadata": {},
   "outputs": [],
   "source": [
    "%%timeit\n",
    "space.nearestDistance(goal, n=10)"
   ]
  },
  {
   "cell_type": "code",
   "execution_count": null,
   "metadata": {},
   "outputs": [],
   "source": [
    "%%timeit\n",
    "space.nearestDistance(goal, n=10, otherSpace=otherSpace)"
   ]
  },
  {
   "cell_type": "code",
   "execution_count": null,
   "metadata": {},
   "outputs": [],
   "source": [
    "%%timeit\n",
    "space.nearestDistance(goal, n=10, restrictionIds=rids)"
   ]
  },
  {
   "cell_type": "code",
   "execution_count": null,
   "metadata": {},
   "outputs": [],
   "source": [
    "%%timeit\n",
    "space.nearestDistance(goal, n=10, restrictionIds=rids, otherSpace=otherSpace)"
   ]
  },
  {
   "cell_type": "code",
   "execution_count": null,
   "metadata": {},
   "outputs": [],
   "source": [
    "%%timeit\n",
    "space.nearestDistanceArray(goals, n=10, restrictionIds=rids, otherSpace=otherSpace)"
   ]
  },
  {
   "cell_type": "markdown",
   "metadata": {},
   "source": [
    "Base: 22.8 | 41 | 21.4 | 134 || 456  \n",
    "Out: 22.5 | 40 | 21.5 | 138 || 457  \n",
    "Outa: 22.3 | 40.5 | 21.5 | 137 || 456  \n",
    "intersect1d: 22.4 | 41.3 | 21.7 | 53.1 || 376  \n",
    "Better restrictionIds: 23.5 | 23.8 | 22.5 | 23.7 || 336  \n",
    "Only restrictionIds: 23.4 | 24.3 | 18.4 | 19.8 || 347"
   ]
  },
  {
   "cell_type": "code",
   "execution_count": null,
   "metadata": {},
   "outputs": [],
   "source": [
    "space.nearestDistance(goal, n=10)"
   ]
  },
  {
   "cell_type": "code",
   "execution_count": null,
   "metadata": {},
   "outputs": [],
   "source": [
    "space.nearestDistance(goal, n=10, otherSpace=otherSpace)"
   ]
  },
  {
   "cell_type": "code",
   "execution_count": null,
   "metadata": {},
   "outputs": [],
   "source": [
    "space.nearestDistance(goal, n=10, restrictionIds=rids)"
   ]
  },
  {
   "cell_type": "code",
   "execution_count": null,
   "metadata": {},
   "outputs": [],
   "source": [
    "space.nearestDistance(goal, n=10, restrictionIds=rids, otherSpace=otherSpace)"
   ]
  },
  {
   "cell_type": "code",
   "execution_count": null,
   "metadata": {},
   "outputs": [],
   "source": [
    "space.nearestDistanceArray(goals, n=10, restrictionIds=rids, otherSpace=otherSpace)"
   ]
  },
  {
   "cell_type": "code",
   "execution_count": null,
   "metadata": {},
   "outputs": [],
   "source": [
    "import numpy as np\n",
    "def check(data, x, weights=1., maxDist=1.):\n",
    "    return (np.sum(((data - x) * weights) ** 2, axis=1) ** 0.5) / maxDist"
   ]
  },
  {
   "cell_type": "code",
   "execution_count": null,
   "metadata": {},
   "outputs": [],
   "source": [
    "from dinos.data.operations import euclidean_distances"
   ]
  },
  {
   "cell_type": "code",
   "execution_count": null,
   "metadata": {},
   "outputs": [],
   "source": [
    "check(space.data[:space._number], goalPlain)[:10]"
   ]
  },
  {
   "cell_type": "code",
   "execution_count": null,
   "metadata": {},
   "outputs": [],
   "source": [
    "euclidean_distances(space.data[:space._number], goalPlain)[:10]"
   ]
  },
  {
   "cell_type": "code",
   "execution_count": null,
   "metadata": {},
   "outputs": [],
   "source": [
    "euclidean_distances(space.data[:space._number], goalPlain, columns=np.array([True, True]))[:10]"
   ]
  },
  {
   "cell_type": "code",
   "execution_count": null,
   "metadata": {},
   "outputs": [],
   "source": [
    "euclidean_pairwise(space.data[:space._number], goalPlain2)[0, :10]"
   ]
  },
  {
   "cell_type": "code",
   "execution_count": null,
   "metadata": {},
   "outputs": [],
   "source": [
    "euclidean_to_vector(space.data[:space._number], goalPlain)[:10]"
   ]
  },
  {
   "cell_type": "code",
   "execution_count": null,
   "metadata": {},
   "outputs": [],
   "source": [
    "euclidean_to_vector2(space.data[:space._number], goalPlain)[:10]"
   ]
  },
  {
   "cell_type": "code",
   "execution_count": null,
   "metadata": {},
   "outputs": [],
   "source": [
    "cols=np.array([True, True])"
   ]
  },
  {
   "cell_type": "code",
   "execution_count": null,
   "metadata": {},
   "outputs": [],
   "source": [
    "%%timeit\n",
    "# %%prun -s tottime\n",
    "# for _ in range(1000):\n",
    "euclidean_distances(space.data[:space._number], goalPlain, columns=cols)"
   ]
  },
  {
   "cell_type": "code",
   "execution_count": null,
   "metadata": {},
   "outputs": [],
   "source": [
    "%%timeit\n",
    "euclidean_distances(space.data[:space._number], goalPlain)"
   ]
  },
  {
   "cell_type": "code",
   "execution_count": null,
   "metadata": {},
   "outputs": [],
   "source": [
    "%%timeit\n",
    "euclidean_pairwise(space.data[:space._number], goalPlain2)"
   ]
  },
  {
   "cell_type": "code",
   "execution_count": null,
   "metadata": {},
   "outputs": [],
   "source": [
    "%%timeit\n",
    "euclidean_to_vector(space.data[:space._number], goalPlain)"
   ]
  },
  {
   "cell_type": "code",
   "execution_count": null,
   "metadata": {},
   "outputs": [],
   "source": [
    "%%timeit\n",
    "euclidean_to_vector2(space.data[:space._number], goalPlain)"
   ]
  },
  {
   "cell_type": "code",
   "execution_count": null,
   "metadata": {},
   "outputs": [],
   "source": [
    "from numba import jit\n",
    "import numpy as np\n",
    "\n",
    "@jit(nopython=True)\n",
    "def distancesNumba(data, x, weights=1., maxDist=1.):\n",
    "    return (np.sum(((data - x) * weights) ** 2, axis=1) ** 0.5) / maxDist"
   ]
  },
  {
   "cell_type": "code",
   "execution_count": null,
   "metadata": {},
   "outputs": [],
   "source": [
    "%%timeit\n",
    "distancesNumba(space.data[:space._number], goalPlain)"
   ]
  },
  {
   "cell_type": "code",
   "execution_count": null,
   "metadata": {
    "tags": []
   },
   "outputs": [],
   "source": [
    "%%prun -s tottime\n",
    "for _ in range(1):\n",
    "    learner.train(10)\n",
    "    env.run()\n",
    "    # env.evaluate()\n",
    "\n",
    "    # competences[learner.iteration] = learner.dataset.competences(precise=True)"
   ]
  },
  {
   "cell_type": "code",
   "execution_count": null,
   "metadata": {},
   "outputs": [],
   "source": [
    "%%timeit\n",
    "space = learner.dataset.spaces[0]\n",
    "kind = space.kind\n",
    "# relatedSpace = next(iter([s for s in learner.dataset.spaces if s.kind.value == kind.value and s.linkedTo(space)]), None)\n",
    "relatedSpace = next((s for s in learner.dataset.spaces if s.kind.value == kind.value and s.linkedTo(space)), None)"
   ]
  },
  {
   "cell_type": "code",
   "execution_count": null,
   "metadata": {},
   "outputs": [],
   "source": [
    "learner.dataset.controllableSpaces(explorable=True)"
   ]
  },
  {
   "cell_type": "code",
   "execution_count": null,
   "metadata": {},
   "outputs": [],
   "source": [
    "learner.dataset.competences()"
   ]
  },
  {
   "cell_type": "code",
   "execution_count": null,
   "metadata": {},
   "outputs": [],
   "source": [
    "{model: model.precision for model in learner.dataset.models}"
   ]
  },
  {
   "cell_type": "code",
   "execution_count": null,
   "metadata": {},
   "outputs": [],
   "source": [
    "print(env.evaluations())"
   ]
  },
  {
   "cell_type": "code",
   "execution_count": null,
   "metadata": {},
   "outputs": [],
   "source": [
    "print(env.evaluations())"
   ]
  },
  {
   "cell_type": "markdown",
   "metadata": {},
   "source": [
    "## Results\n",
    "---------"
   ]
  },
  {
   "cell_type": "code",
   "execution_count": null,
   "metadata": {
    "tags": []
   },
   "outputs": [],
   "source": [
    "# %prun -s cumtime learner.train(20)"
   ]
  },
  {
   "cell_type": "code",
   "execution_count": null,
   "metadata": {},
   "outputs": [],
   "source": [
    "learner.dataset.models[0].npForward(learner.propertySpace('Agent.move').point([-0.027,  0.035]).setRelative(True), context=env.state().context())"
   ]
  },
  {
   "cell_type": "code",
   "execution_count": null,
   "metadata": {},
   "outputs": [],
   "source": [
    "learner.analyse.visualizeRandomActions()[0].items[0].dim"
   ]
  },
  {
   "cell_type": "code",
   "execution_count": null,
   "metadata": {},
   "outputs": [],
   "source": [
    "display(learner.analyse.visualizeGoals())"
   ]
  },
  {
   "cell_type": "code",
   "execution_count": null,
   "metadata": {},
   "outputs": [],
   "source": [
    "# display(learner.analyse.visualizeReachedGoals())"
   ]
  },
  {
   "cell_type": "code",
   "execution_count": null,
   "metadata": {},
   "outputs": [],
   "source": [
    "display(learner.analyse.visualizeGoalErrors())"
   ]
  },
  {
   "cell_type": "code",
   "execution_count": null,
   "metadata": {},
   "outputs": [],
   "source": [
    "id(learner.configs[2].model)"
   ]
  },
  {
   "cell_type": "code",
   "execution_count": null,
   "metadata": {},
   "outputs": [],
   "source": [
    "id(learner.dataset.models[1])"
   ]
  },
  {
   "cell_type": "code",
   "execution_count": null,
   "metadata": {},
   "outputs": [],
   "source": [
    "# learner.analyse.contextGoals()"
   ]
  },
  {
   "cell_type": "code",
   "execution_count": null,
   "metadata": {},
   "outputs": [],
   "source": [
    "# list(learner.configs.values())[-20:]"
   ]
  },
  {
   "cell_type": "code",
   "execution_count": null,
   "metadata": {},
   "outputs": [],
   "source": [
    "# [c.result.action for c in list(learner.learningConfigs.values())[:300]]"
   ]
  },
  {
   "cell_type": "code",
   "execution_count": null,
   "metadata": {},
   "outputs": [],
   "source": [
    "{model: model.precision for model in learner.dataset.models}"
   ]
  },
  {
   "cell_type": "code",
   "execution_count": null,
   "metadata": {},
   "outputs": [],
   "source": [
    "learner.interestModel.sampleBestRegion()"
   ]
  },
  {
   "cell_type": "code",
   "execution_count": null,
   "metadata": {},
   "outputs": [],
   "source": [
    "learner.interestModel.modelsWithInterestMaps()"
   ]
  },
  {
   "cell_type": "code",
   "execution_count": null,
   "metadata": {},
   "outputs": [],
   "source": [
    "import numpy as np\n",
    "np.max(learner.dataset.models[2].interestMap().pointValues)"
   ]
  },
  {
   "cell_type": "code",
   "execution_count": null,
   "metadata": {},
   "outputs": [],
   "source": [
    "# learner.dataset.models[1].interestMap().pointValues"
   ]
  },
  {
   "cell_type": "code",
   "execution_count": null,
   "metadata": {},
   "outputs": [],
   "source": [
    "# learner.dataset.models[1].interestMap().points"
   ]
  },
  {
   "cell_type": "code",
   "execution_count": null,
   "metadata": {},
   "outputs": [],
   "source": [
    "# display(learner.dataset.models[1].interestMap().visualizeData())"
   ]
  },
  {
   "cell_type": "code",
   "execution_count": null,
   "metadata": {},
   "outputs": [],
   "source": [
    "env.evaluate()"
   ]
  },
  {
   "cell_type": "code",
   "execution_count": null,
   "metadata": {},
   "outputs": [],
   "source": [
    "env.evaluators[0].evaluations"
   ]
  },
  {
   "cell_type": "code",
   "execution_count": null,
   "metadata": {},
   "outputs": [],
   "source": [
    "env.evaluators[0].evaluations[345].results[0].results"
   ]
  },
  {
   "cell_type": "code",
   "execution_count": null,
   "metadata": {},
   "outputs": [],
   "source": [
    "learner.dataset.invalidateCompetences()\n",
    "learner.dataset.competences(precise=True)"
   ]
  },
  {
   "cell_type": "code",
   "execution_count": null,
   "metadata": {},
   "outputs": [],
   "source": [
    "learner.dataset.models"
   ]
  },
  {
   "cell_type": "code",
   "execution_count": null,
   "metadata": {},
   "outputs": [],
   "source": [
    "mrpp.contextSpacialization[0].allTrue()"
   ]
  },
  {
   "cell_type": "code",
   "execution_count": null,
   "metadata": {},
   "outputs": [],
   "source": [
    "learner.dataset.models[1].invalidateCompetences()\n",
    "learner.dataset.models[1].competence(precise=True)"
   ]
  },
  {
   "cell_type": "code",
   "execution_count": null,
   "metadata": {
    "tags": []
   },
   "outputs": [],
   "source": [
    "learner.adaptiveModelManager.evaluateModels(None)"
   ]
  },
  {
   "cell_type": "code",
   "execution_count": null,
   "metadata": {},
   "outputs": [],
   "source": [
    "[model.lowCompetenceSince for model in learner.dataset.enabledModels()]"
   ]
  },
  {
   "cell_type": "code",
   "execution_count": null,
   "metadata": {},
   "outputs": [],
   "source": [
    "competences"
   ]
  },
  {
   "cell_type": "code",
   "execution_count": null,
   "metadata": {
    "tags": []
   },
   "outputs": [],
   "source": [
    "[config.result.action for config in learner.configHistory]"
   ]
  },
  {
   "cell_type": "code",
   "execution_count": null,
   "metadata": {
    "tags": []
   },
   "outputs": [],
   "source": [
    "# learner.interestModel.sampleBestPoint()"
   ]
  },
  {
   "cell_type": "code",
   "execution_count": null,
   "metadata": {
    "tags": []
   },
   "outputs": [],
   "source": [
    "from exlab.modular.logger import Logger, logger, logging\n",
    "# logger().setRecordLevel(Logger.DEBUG2, 'performer')\n",
    "# logger().setDisplayLevel(Logger.DEBUG2, 'performer')\n",
    "# logger().setRecordLevel(Logger.DEBUG2, 'strategy')\n",
    "# logger().setDisplayLevel(Logger.DEBUG2, 'strategy')\n",
    "# logger().setRecordLevel(Logger.DEBUG2, 'plan')\n",
    "# logger().setDisplayLevel(Logger.DEBUG2, 'plan')\n",
    "# logger().setRecordLevel(logging.DEBUG, 'plan')\n",
    "# logger().setDisplayLevel(logging.DEBUG, 'plan')\n",
    "# logger().display(tag='plan')"
   ]
  },
  {
   "cell_type": "code",
   "execution_count": null,
   "metadata": {
    "tags": []
   },
   "outputs": [],
   "source": [
    "learner.dataset.competences(precise=True)"
   ]
  },
  {
   "cell_type": "code",
   "execution_count": null,
   "metadata": {
    "tags": []
   },
   "outputs": [],
   "source": [
    "learner.dataset.competences(precise=True)"
   ]
  },
  {
   "cell_type": "code",
   "execution_count": null,
   "metadata": {},
   "outputs": [],
   "source": [
    "# mrpp.contextSpacialization[0].allTrue()"
   ]
  },
  {
   "cell_type": "code",
   "execution_count": null,
   "metadata": {},
   "outputs": [],
   "source": [
    "# mrp.contextSpacialization[1]._resetAreas()"
   ]
  },
  {
   "cell_type": "code",
   "execution_count": null,
   "metadata": {},
   "outputs": [],
   "source": [
    "[area.columns for area in learner.dataset.models[1].contextSpacialization[0].areas]"
   ]
  },
  {
   "cell_type": "code",
   "execution_count": null,
   "metadata": {},
   "outputs": [],
   "source": [
    "display(learner.dataset.models[1].contextSpacialization[0].visualizeAreas())"
   ]
  },
  {
   "cell_type": "code",
   "execution_count": null,
   "metadata": {
    "tags": []
   },
   "outputs": [],
   "source": [
    "display(learner.dataset.models[2].contextSpacialization[0].visualizeAreas())"
   ]
  },
  {
   "cell_type": "code",
   "execution_count": null,
   "metadata": {
    "tags": []
   },
   "outputs": [],
   "source": [
    "# mrp.eventForwardError(467)"
   ]
  },
  {
   "cell_type": "code",
   "execution_count": null,
   "metadata": {
    "tags": []
   },
   "outputs": [],
   "source": [
    "# eventId = 85\n",
    "# action = mrp.actionSpace.getPoint(eventId)[0]\n",
    "# outcome = mrp.outcomeSpace.getPoint(eventId)[0]\n",
    "# context = mrp.contextSpace.getPoint(eventId)[0]\n",
    "# print(action)\n",
    "# mrp.inverse(outcome, context=context)"
   ]
  },
  {
   "cell_type": "markdown",
   "metadata": {},
   "source": [
    "## Planning"
   ]
  },
  {
   "cell_type": "code",
   "execution_count": null,
   "metadata": {},
   "outputs": [],
   "source": [
    "goal = learner.propertySpace('Agent.position').point([150, 250]).setRelative(False)\n",
    "# goal = learner.propertySpace('#Cylinder1.positionToAgent').point([50, 0]).setRelative(False)\n",
    "with logger().debugging('plan'):\n",
    "    learner.planner.planDistance(goal)"
   ]
  },
  {
   "cell_type": "code",
   "execution_count": null,
   "metadata": {},
   "outputs": [],
   "source": [
    "mrpp.inverse(learner.propertySpace('#Cylinder1.positionToAgent').goal([-10.882,  11.432]), context=env.state().context())"
   ]
  },
  {
   "cell_type": "code",
   "execution_count": null,
   "metadata": {},
   "outputs": [],
   "source": [
    "mrpp.forward(learner.propertySpace('Agent.position').action([10.960, -10.059]), context=env.state().context())"
   ]
  },
  {
   "cell_type": "code",
   "execution_count": null,
   "metadata": {
    "tags": []
   },
   "outputs": [],
   "source": [
    "mrp.inverse(learner.propertySpace('#Cylinder1.positionToAgent').action([3, 0]), context=context)"
   ]
  },
  {
   "cell_type": "code",
   "execution_count": null,
   "metadata": {
    "tags": []
   },
   "outputs": [],
   "source": [
    "mrp.inverse(learner.propertySpace('#Cylinder1.positionToAgent').action([3, 0]), context=env.state().context())"
   ]
  },
  {
   "cell_type": "code",
   "execution_count": null,
   "metadata": {},
   "outputs": [],
   "source": [
    "import numpy as np\n",
    "learner.dataset.models[0].contextSpacialization[0].areas[0].columns"
   ]
  },
  {
   "cell_type": "code",
   "execution_count": null,
   "metadata": {},
   "outputs": [],
   "source": [
    "env.scene.setupEpisode(MoveConfig(evaluating=True), forceReset=True)\n",
    "env.image()"
   ]
  },
  {
   "cell_type": "code",
   "execution_count": null,
   "metadata": {},
   "outputs": [],
   "source": [
    "env.evaluate()"
   ]
  },
  {
   "cell_type": "code",
   "execution_count": null,
   "metadata": {},
   "outputs": [],
   "source": [
    "learner.propertySpace('#Cylinder1.position').boundProperty.observe()"
   ]
  },
  {
   "cell_type": "code",
   "execution_count": null,
   "metadata": {},
   "outputs": [],
   "source": [
    "with logger().debugging('plan'):\n",
    "    learner.planner.plan(learner.propertySpace('Agent.position').point([10,  0.000]).setRelative(True))"
   ]
  },
  {
   "cell_type": "code",
   "execution_count": null,
   "metadata": {},
   "outputs": [],
   "source": [
    "with logger().debugging('plan'):\n",
    "    # learner.planner.plan(learner.propertySpace('Agent.position').point([100,  0]).setRelative(True))\n",
    "    learner.planner.plan(learner.propertySpace('#Cylinder1.positionToAgent').point([-100,  0]).setRelative(True))"
   ]
  },
  {
   "cell_type": "code",
   "execution_count": null,
   "metadata": {},
   "outputs": [],
   "source": [
    "env.world.child('Agent').body.position = [350,  250]\n",
    "env.world.child('#Cylinder1').body.position = [150,  250]\n",
    "context = env.state().context()\n",
    "env.image()"
   ]
  },
  {
   "cell_type": "code",
   "execution_count": null,
   "metadata": {},
   "outputs": [],
   "source": [
    "env.agents()[0]._performAction(mMove.actionSpace.action([0.506, -0.251]))"
   ]
  },
  {
   "cell_type": "code",
   "execution_count": null,
   "metadata": {},
   "outputs": [],
   "source": [
    "mMove.npForward(mMove.actionSpace.action([0.756,  0.124]), context)"
   ]
  },
  {
   "cell_type": "code",
   "execution_count": null,
   "metadata": {},
   "outputs": [],
   "source": [
    "from dinos.agents.tools.models.regression import RegressionModel\n",
    "# ids, contextColumns = RegressionModel._db_ids\n",
    "# a0 = np.array([0.756,  0.124])\n",
    "# c0 = context.projection(mMove.contextSpace).npPlain()[contextColumns]\n",
    "# ac0 = np.hstack([a0, c0])\n",
    "# a = mMove.actionSpace.getData(ids)\n",
    "# c = mMove.contextSpace.getData(ids)[:, contextColumns]\n",
    "# ac = np.hstack([a, c]) * mMove.actionContextSpace._nnWeights[contextColumns]\n",
    "# o = mMove.outcomeSpace.getData(ids)\n",
    "x, y, x0, fullColumns, weights = RegressionModel._db_data\n",
    "X = x[:, fullColumns]\n",
    "x0 = [x0[fullColumns]]\n",
    "y0 = np.array([4.596, -5.455])\n",
    "y0"
   ]
  },
  {
   "cell_type": "code",
   "execution_count": null,
   "metadata": {},
   "outputs": [],
   "source": [
    "from sklearn import linear_model"
   ]
  },
  {
   "cell_type": "code",
   "execution_count": null,
   "metadata": {},
   "outputs": [],
   "source": [
    "l = linear_model.LinearRegression().fit(X, y)\n",
    "l.predict(x0)"
   ]
  },
  {
   "cell_type": "code",
   "execution_count": null,
   "metadata": {},
   "outputs": [],
   "source": [
    "l = linear_model.Ridge(alpha=1.0).fit(X, y)\n",
    "l.predict(x0)"
   ]
  },
  {
   "cell_type": "code",
   "execution_count": null,
   "metadata": {},
   "outputs": [],
   "source": [
    "l = linear_model.ElasticNet(random_state=0).fit(X, y)\n",
    "l.predict(x0)"
   ]
  },
  {
   "cell_type": "code",
   "execution_count": null,
   "metadata": {},
   "outputs": [],
   "source": [
    "l = linear_model.Lasso(alpha=0.1).fit(X, y)\n",
    "l.predict(x0)"
   ]
  },
  {
   "cell_type": "code",
   "execution_count": null,
   "metadata": {},
   "outputs": [],
   "source": [
    "l = linear_model.RANSACRegressor(random_state=0).fit(X, y)\n",
    "l.predict(x0)"
   ]
  },
  {
   "cell_type": "code",
   "execution_count": null,
   "metadata": {},
   "outputs": [],
   "source": [
    "mMove.inverse(mMove.outcomeSpace.action([21.601, -1.871]), context)"
   ]
  },
  {
   "cell_type": "code",
   "execution_count": null,
   "metadata": {},
   "outputs": [],
   "source": [
    "learner.reach(learner.propertySpace('#Cylinder1.positionToAgent').point([0, -70]).setRelative(False))"
   ]
  },
  {
   "cell_type": "code",
   "execution_count": null,
   "metadata": {
    "tags": []
   },
   "outputs": [],
   "source": [
    "with logger().debugging(['plan', 'perform']):\n",
    "    # learner.reach(learner.propertySpace('Agent.position').point([150, 150]).setRelative(False))\n",
    "    learner.reach(learner.propertySpace('#Cylinder1.positionToAgent').point([0, -70]).setRelative(False))\n",
    "env.run()"
   ]
  },
  {
   "cell_type": "code",
   "execution_count": null,
   "metadata": {},
   "outputs": [],
   "source": [
    "env.world.cascadingProperties()"
   ]
  },
  {
   "cell_type": "code",
   "execution_count": null,
   "metadata": {},
   "outputs": [],
   "source": [
    "model = learner.dataset.models[0]"
   ]
  },
  {
   "cell_type": "code",
   "execution_count": null,
   "metadata": {},
   "outputs": [],
   "source": [
    "ids, dists = learner.dataset.models[0].nearestOutcome(learner.propertySpace('Agent.position').point([-20.782,  0.000]), context=env.state().context(), n=10)[:2]\n",
    "learner.dataset.models[0].outcomeSpace.getNpPlainPoint(ids)"
   ]
  },
  {
   "cell_type": "code",
   "execution_count": null,
   "metadata": {},
   "outputs": [],
   "source": [
    "ids = learner.dataset.models[0].outcomeSpace.nearest(learner.propertySpace('Agent.position').point([-20.782,  0.000]), n=10)[0]\n",
    "learner.dataset.models[0].outcomeSpace.getNpPlainPoint(ids)"
   ]
  },
  {
   "cell_type": "code",
   "execution_count": null,
   "metadata": {},
   "outputs": [],
   "source": [
    "learner.propertySpace('Agent.position').boundProperty.observe()"
   ]
  },
  {
   "cell_type": "code",
   "execution_count": null,
   "metadata": {},
   "outputs": [],
   "source": [
    "learner.propertySpace('Agent.position').boundProperty.observe()"
   ]
  },
  {
   "cell_type": "code",
   "execution_count": null,
   "metadata": {},
   "outputs": [],
   "source": [
    "learner.propertySpace('#Cylinder1.positionToAgent').boundProperty.observe()"
   ]
  },
  {
   "cell_type": "code",
   "execution_count": null,
   "metadata": {},
   "outputs": [],
   "source": [
    "learner.dataset.models[0].reachable(learner.propertySpace('Agent.position').point([10,  0]).setRelative(True), context=env.state().context())"
   ]
  },
  {
   "cell_type": "code",
   "execution_count": null,
   "metadata": {},
   "outputs": [],
   "source": [
    "env.scene.setupEpisode(MoveConfig(evaluating=True), forceReset=True)\n",
    "env.image()"
   ]
  },
  {
   "cell_type": "code",
   "execution_count": null,
   "metadata": {},
   "outputs": [],
   "source": [
    "learner.reach(learner.propertySpace('#Cylinder1.positionToAgent').point([0.600, 69.199]).setRelative(False))\n",
    "env.run()"
   ]
  },
  {
   "cell_type": "code",
   "execution_count": null,
   "metadata": {
    "tags": []
   },
   "outputs": [],
   "source": [
    "config = MoveConfig(goal=learner.propertySpace('#Cylinder1.positionToAgent').point([-41, 0]).setRelative(False))\n",
    "config.plannerSettings.dontMoveSpaces.append(learner.propertySpace('#Cylinder1.position'))\n",
    "learner.reach(config)\n",
    "env.run()"
   ]
  },
  {
   "cell_type": "code",
   "execution_count": null,
   "metadata": {},
   "outputs": [],
   "source": [
    "learner.dataset.models[0].competence(precise=True)"
   ]
  },
  {
   "cell_type": "code",
   "execution_count": null,
   "metadata": {},
   "outputs": [],
   "source": [
    "learner.dataset.models[2].precision"
   ]
  },
  {
   "cell_type": "code",
   "execution_count": null,
   "metadata": {},
   "outputs": [],
   "source": [
    "learner.dataset.models[2].outcomeSpace.maxDistance / 25 * 7"
   ]
  },
  {
   "cell_type": "code",
   "execution_count": null,
   "metadata": {},
   "outputs": [],
   "source": [
    "learner.dataset.models[2].limitMoves = 0.3"
   ]
  },
  {
   "cell_type": "code",
   "execution_count": null,
   "metadata": {},
   "outputs": [],
   "source": [
    "import numpy as np\n",
    "for model in learner.dataset.models:\n",
    "    # model.precisionPerGoalNorm = np.zeros(model.PRECISION_GOAL_NUMBER)\n",
    "    # model.precisionPerGoalNormNumber = np.zeros(model.PRECISION_GOAL_NUMBER)\n",
    "    model.limitMoves = 1"
   ]
  },
  {
   "cell_type": "code",
   "execution_count": null,
   "metadata": {},
   "outputs": [],
   "source": [
    "learner.reach(learner.propertySpace('#Cylinder1.position').point([-25, -10]).setRelative(True))\n",
    "env.run()"
   ]
  },
  {
   "cell_type": "code",
   "execution_count": null,
   "metadata": {},
   "outputs": [],
   "source": [
    "learner.planner.plan(learner.propertySpace('#Cylinder1.position').point([-25, 0]).setRelative(True))"
   ]
  },
  {
   "cell_type": "code",
   "execution_count": null,
   "metadata": {},
   "outputs": [],
   "source": [
    "learner.dataset.models[2].precision"
   ]
  },
  {
   "cell_type": "code",
   "execution_count": null,
   "metadata": {},
   "outputs": [],
   "source": [
    "learner.dataset.models[2].reachable(learner.propertySpace('#Cylinder1.position').point([0.093,  12.1028]), learner.propertySpace('#Cylinder1.positionToAgent').point([0.399,  40.220]))"
   ]
  },
  {
   "cell_type": "code",
   "execution_count": null,
   "metadata": {},
   "outputs": [],
   "source": [
    "learner.dataset.models[2].forward(learner.propertySpace('Agent.position').point([23.263,  11.375]), learner.propertySpace('#Cylinder1.positionToAgent').point([0.399,  40.220]))"
   ]
  },
  {
   "cell_type": "code",
   "execution_count": null,
   "metadata": {},
   "outputs": [],
   "source": [
    "learner.dataset.models[2].actionContextSpace._nnWeights"
   ]
  },
  {
   "cell_type": "code",
   "execution_count": null,
   "metadata": {},
   "outputs": [],
   "source": [
    "for space in learner.dataset.spaces:\n",
    "    try:\n",
    "        space._updateSpaceWeights()\n",
    "    except:\n",
    "        print(f'not {space}')"
   ]
  },
  {
   "cell_type": "code",
   "execution_count": null,
   "metadata": {},
   "outputs": [],
   "source": [
    "learner.dataset.models[2].actionContextSpace._updateSpaceWeights()"
   ]
  },
  {
   "cell_type": "code",
   "execution_count": null,
   "metadata": {},
   "outputs": [],
   "source": [
    "env.world.observe()"
   ]
  },
  {
   "cell_type": "code",
   "execution_count": null,
   "metadata": {},
   "outputs": [],
   "source": [
    "# learner.dataset.models = learner.dataset.models[:-1]"
   ]
  },
  {
   "cell_type": "code",
   "execution_count": null,
   "metadata": {},
   "outputs": [],
   "source": [
    "learner.dataset.competences(precise=True)"
   ]
  },
  {
   "cell_type": "code",
   "execution_count": null,
   "metadata": {},
   "outputs": [],
   "source": [
    "learner.dataset.models[-1].invalidateCompetences()\n",
    "learner.dataset.models[-1].competence(precise=True)"
   ]
  },
  {
   "cell_type": "code",
   "execution_count": null,
   "metadata": {},
   "outputs": [],
   "source": [
    "learner.dataset.models[-1].contextSpacialization[0].allFalse()"
   ]
  },
  {
   "cell_type": "code",
   "execution_count": null,
   "metadata": {},
   "outputs": [],
   "source": [
    "from exlab.modular.logger import Logger, logger, logging\n",
    "# logger().setDisplayLevel(Logger.DEBUG2, 'strategy')"
   ]
  },
  {
   "cell_type": "code",
   "execution_count": null,
   "metadata": {},
   "outputs": [],
   "source": [
    "logger().setDisplayLevel(Logger.DEBUG2, 'performer')"
   ]
  },
  {
   "cell_type": "code",
   "execution_count": null,
   "metadata": {},
   "outputs": [],
   "source": [
    "logger().setDisplayLevel(Logger.DEBUG2, 'plan')"
   ]
  },
  {
   "cell_type": "code",
   "execution_count": null,
   "metadata": {},
   "outputs": [],
   "source": [
    "logger().setDisplayLevel(logging.DEBUG, 'plan')"
   ]
  },
  {
   "cell_type": "code",
   "execution_count": null,
   "metadata": {},
   "outputs": [],
   "source": [
    "logger().setDisplayLevel(logging.INFO, 'plan')"
   ]
  },
  {
   "cell_type": "code",
   "execution_count": null,
   "metadata": {},
   "outputs": [],
   "source": [
    "logger().setDisplayLevel(logging.INFO, 'dataset')"
   ]
  },
  {
   "cell_type": "code",
   "execution_count": null,
   "metadata": {},
   "outputs": [],
   "source": [
    "learner.propertySpace('#Cylinder1.position').boundProperty.observe()"
   ]
  },
  {
   "cell_type": "code",
   "execution_count": null,
   "metadata": {},
   "outputs": [],
   "source": [
    "learner.propertySpace('#Cylinder1.position').boundProperty.observe()"
   ]
  },
  {
   "cell_type": "code",
   "execution_count": null,
   "metadata": {},
   "outputs": [],
   "source": [
    "for i in range(10):\n",
    "    env.scene.setupEpisode(None)"
   ]
  },
  {
   "cell_type": "code",
   "execution_count": null,
   "metadata": {
    "tags": []
   },
   "outputs": [],
   "source": [
    "learner.reach(learner.propertySpace('#Cylinder1.position').point([10, 0]).setRelative(True))\n",
    "env.run()"
   ]
  },
  {
   "cell_type": "code",
   "execution_count": null,
   "metadata": {},
   "outputs": [],
   "source": [
    "learner.propertySpace('Agent.position')._spaceWeights"
   ]
  },
  {
   "cell_type": "code",
   "execution_count": null,
   "metadata": {},
   "outputs": [],
   "source": [
    "learner.dataset.models[2].npForward(learner.propertySpace('Agent.position').point([-0.697, -17.604]).setRelative(True), context=env.state().context())"
   ]
  },
  {
   "cell_type": "code",
   "execution_count": null,
   "metadata": {},
   "outputs": [],
   "source": [
    "learner.dataset.models[1].inverse(learner.propertySpace('#Cylinder1.positionToAgent').point([1.097,  4.245]).setRelative(True), context=env.state().context())"
   ]
  },
  {
   "cell_type": "code",
   "execution_count": null,
   "metadata": {},
   "outputs": [],
   "source": [
    "learner.iteration"
   ]
  },
  {
   "cell_type": "code",
   "execution_count": null,
   "metadata": {
    "tags": []
   },
   "outputs": [],
   "source": [
    "mrpp.forward(learner.propertySpace('Agent.position').action([22.107, -2.817]), context=env.state().context())"
   ]
  },
  {
   "cell_type": "code",
   "execution_count": null,
   "metadata": {
    "tags": []
   },
   "outputs": [],
   "source": [
    "mrpp.inverse(learner.propertySpace('#Cylinder1.positionToAgent').action([-12.170,  0.149]), context=env.state().context())"
   ]
  },
  {
   "cell_type": "code",
   "execution_count": null,
   "metadata": {},
   "outputs": [],
   "source": [
    "learner.propertySpace('Agent.move').convertTo(spaceManager=learner.dataset)"
   ]
  },
  {
   "cell_type": "code",
   "execution_count": null,
   "metadata": {
    "tags": []
   },
   "outputs": [],
   "source": [
    "learner.reach(learner.propertySpace('#Cylinder1.position').point([0, -10]).setRelative(True))\n",
    "env.run()"
   ]
  },
  {
   "cell_type": "code",
   "execution_count": null,
   "metadata": {},
   "outputs": [],
   "source": [
    "learner.propertySpace('Agent.position').point([0, 0])"
   ]
  },
  {
   "cell_type": "code",
   "execution_count": null,
   "metadata": {},
   "outputs": [],
   "source": [
    "learner.dataset.spaces"
   ]
  },
  {
   "cell_type": "code",
   "execution_count": null,
   "metadata": {},
   "outputs": [],
   "source": [
    "learner.dataset.spaces[7].maxDistancePerColumn"
   ]
  },
  {
   "cell_type": "code",
   "execution_count": null,
   "metadata": {},
   "outputs": [],
   "source": [
    "learner.propertySpace('Agent.move').maxDistancePerColumn"
   ]
  },
  {
   "cell_type": "code",
   "execution_count": null,
   "metadata": {},
   "outputs": [],
   "source": [
    "display(learner.propertySpace('Agent.move').visualizeData(), learner.propertySpace('Agent.position').visualizeData())"
   ]
  },
  {
   "cell_type": "code",
   "execution_count": null,
   "metadata": {
    "tags": []
   },
   "outputs": [],
   "source": [
    "display(learner.propertySpace('Agent.move').visualizeData(), learner.propertySpace('Agent.position').visualizeData())"
   ]
  },
  {
   "cell_type": "code",
   "execution_count": null,
   "metadata": {
    "tags": []
   },
   "outputs": [],
   "source": [
    "display(learner.propertySpace('Agent.move').visualizeData(), learner.propertySpace('#Cylinder1.positionToAgent').visualizeData())"
   ]
  },
  {
   "cell_type": "code",
   "execution_count": null,
   "metadata": {
    "tags": []
   },
   "outputs": [],
   "source": [
    "display(learner.propertySpace('Agent.position').visualizeData(), learner.propertySpace('#Cylinder1.position').visualizeData())"
   ]
  },
  {
   "cell_type": "code",
   "execution_count": null,
   "metadata": {},
   "outputs": [],
   "source": [
    "from dinos.data.space import SpaceKind\n",
    "display(learner.propertySpace('#Cylinder1.positionToAgent', SpaceKind.PRE).visualizeData())"
   ]
  },
  {
   "cell_type": "code",
   "execution_count": null,
   "metadata": {
    "tags": []
   },
   "outputs": [],
   "source": [
    "display(aff.actionSpace.visualizeData(), aff.outcomeSpace.visualizeData())"
   ]
  },
  {
   "cell_type": "code",
   "execution_count": null,
   "metadata": {
    "tags": []
   },
   "outputs": [],
   "source": [
    "from dinos.data.space import SpaceKind\n",
    "display(learner.propertySpace('#Cylinder1.positionToAgent', kind=SpaceKind.PRE).visualizeData(), learner.propertySpace('#Cylinder1.position').visualizeData())"
   ]
  },
  {
   "cell_type": "code",
   "execution_count": null,
   "metadata": {},
   "outputs": [],
   "source": [
    "mo.actionSpace.data[:20]"
   ]
  },
  {
   "cell_type": "code",
   "execution_count": null,
   "metadata": {},
   "outputs": [],
   "source": [
    "mo2.actionSpace.data[:20]"
   ]
  },
  {
   "cell_type": "code",
   "execution_count": null,
   "metadata": {},
   "outputs": [],
   "source": [
    "aff.actionSpace.data[95:100]"
   ]
  },
  {
   "cell_type": "code",
   "execution_count": null,
   "metadata": {
    "tags": []
   },
   "outputs": [],
   "source": [
    "aff.updateSpaces()"
   ]
  },
  {
   "cell_type": "code",
   "execution_count": null,
   "metadata": {},
   "outputs": [],
   "source": [
    "aff.outcomeSpace.data[:20]"
   ]
  },
  {
   "cell_type": "code",
   "execution_count": null,
   "metadata": {},
   "outputs": [],
   "source": [
    "aff.actionSpace.number"
   ]
  },
  {
   "cell_type": "code",
   "execution_count": null,
   "metadata": {},
   "outputs": [],
   "source": [
    "mo2.contextSpacialization[0].allTrue()"
   ]
  },
  {
   "cell_type": "code",
   "execution_count": null,
   "metadata": {
    "tags": []
   },
   "outputs": [],
   "source": [
    "mo.invalidateCompetences()\n",
    "mo.competence()"
   ]
  },
  {
   "cell_type": "code",
   "execution_count": null,
   "metadata": {
    "tags": []
   },
   "outputs": [],
   "source": [
    "aff.invalidateCompetences()\n",
    "aff.competence(precise=True)"
   ]
  },
  {
   "cell_type": "code",
   "execution_count": null,
   "metadata": {},
   "outputs": [],
   "source": [
    "aff.actionSpace.data[:10]"
   ]
  },
  {
   "cell_type": "code",
   "execution_count": null,
   "metadata": {},
   "outputs": [],
   "source": [
    "aff.getIds()"
   ]
  },
  {
   "cell_type": "code",
   "execution_count": null,
   "metadata": {},
   "outputs": [],
   "source": [
    "aff.outcomeSpace.getIds()"
   ]
  },
  {
   "cell_type": "code",
   "execution_count": null,
   "metadata": {
    "tags": []
   },
   "outputs": [],
   "source": [
    "aff.outcomeSpace"
   ]
  },
  {
   "cell_type": "code",
   "execution_count": null,
   "metadata": {},
   "outputs": [],
   "source": [
    "im = list(learner.dataset.models[0].interestMaps.values())[0]\n",
    "display(im.visualizeData())"
   ]
  },
  {
   "cell_type": "code",
   "execution_count": null,
   "metadata": {},
   "outputs": [],
   "source": [
    "im"
   ]
  },
  {
   "cell_type": "code",
   "execution_count": null,
   "metadata": {},
   "outputs": [],
   "source": [
    "display(mMove.contextSpacialization[0].visualizeAreas())"
   ]
  }
 ],
 "metadata": {
  "kernelspec": {
   "display_name": "Python 3",
   "language": "python",
   "name": "python3"
  },
  "language_info": {
   "codemirror_mode": {
    "name": "ipython",
    "version": 3
   },
   "file_extension": ".py",
   "mimetype": "text/x-python",
   "name": "python",
   "nbconvert_exporter": "python",
   "pygments_lexer": "ipython3",
   "version": "3.8.3-final"
  },
  "orig_nbformat": 2
 },
 "nbformat": 4,
 "nbformat_minor": 2
}
